{
  "nbformat": 4,
  "nbformat_minor": 0,
  "metadata": {
    "colab": {
      "name": "NYSDOH_feature_engineering.ipynb",
      "provenance": [],
      "authorship_tag": "ABX9TyMUIWwJgzX4RzqrrfnGBSdb",
      "include_colab_link": true
    },
    "kernelspec": {
      "name": "python3",
      "display_name": "Python 3"
    }
  },
  "cells": [
    {
      "cell_type": "markdown",
      "metadata": {
        "id": "view-in-github",
        "colab_type": "text"
      },
      "source": [
        "<a href=\"https://colab.research.google.com/github/KetakiN/Springboard/blob/main/NYSDOH_feature_engineering.ipynb\" target=\"_parent\"><img src=\"https://colab.research.google.com/assets/colab-badge.svg\" alt=\"Open In Colab\"/></a>"
      ]
    },
    {
      "cell_type": "code",
      "metadata": {
        "id": "c0lEWK_10sS6"
      },
      "source": [
        "import numpy as np\r\n",
        "import pandas as pd\r\n",
        "import matplotlib.pyplot as plt\r\n",
        "import seaborn as sns\r\n",
        "from wordcloud import WordCloud\r\n",
        "from google.colab import files"
      ],
      "execution_count": 1,
      "outputs": []
    },
    {
      "cell_type": "code",
      "metadata": {
        "id": "tHe-eacn1C3_"
      },
      "source": [
        "df=pd.read_csv('/content/sample_data/nysdoh_cleaned.csv')"
      ],
      "execution_count": 2,
      "outputs": []
    },
    {
      "cell_type": "code",
      "metadata": {
        "id": "p7O_NFgQ1G9C"
      },
      "source": [
        "df=df.drop('Unnamed: 0',axis=1)"
      ],
      "execution_count": 3,
      "outputs": []
    },
    {
      "cell_type": "code",
      "metadata": {
        "colab": {
          "base_uri": "https://localhost:8080/",
          "height": 280
        },
        "id": "QscePrCU1RoS",
        "outputId": "718cb194-dfaf-43cd-9d95-f42eb76298b2"
      },
      "source": [
        "sns.histplot(x=df['Length_of_Stay'],data=df)\r\n",
        "plt.show()"
      ],
      "execution_count": 4,
      "outputs": [
        {
          "output_type": "display_data",
          "data": {
            "image/png": "[encoded data removed]",
            "text/plain": [
              "<Figure size 432x288 with 1 Axes>"
            ]
          },
          "metadata": {
            "tags": [],
            "needs_background": "light"
          }
        }
      ]
    },
    {
      "cell_type": "code",
      "metadata": {
        "colab": {
          "base_uri": "https://localhost:8080/"
        },
        "id": "hEjrpNjX7YhW",
        "outputId": "0cae31f7-1366-4a95-ddd7-4d52cd3e06d2"
      },
      "source": [
        "df.Length_of_Stay.describe()"
      ],
      "execution_count": 5,
      "outputs": [
        {
          "output_type": "execute_result",
          "data": {
            "text/plain": [
              "count    31612.000000\n",
              "mean         5.267367\n",
              "std          7.504313\n",
              "min          1.000000\n",
              "25%          2.000000\n",
              "50%          3.000000\n",
              "75%          6.000000\n",
              "max        120.000000\n",
              "Name: Length_of_Stay, dtype: float64"
            ]
          },
          "metadata": {
            "tags": []
          },
          "execution_count": 5
        }
      ]
    },
    {
      "cell_type": "code",
      "metadata": {
        "colab": {
          "base_uri": "https://localhost:8080/",
          "height": 350
        },
        "id": "DYJr6WUR7dJ9",
        "outputId": "27fdbdbe-8a27-4cc0-efa7-e5dd4dda9321"
      },
      "source": [
        "#Remove 5% outliers\r\n",
        "std=df['Length_of_Stay'].std()\r\n",
        "mean=df['Length_of_Stay'].mean()\r\n",
        "cutoff=std*3\r\n",
        "lower,upper=mean-cutoff,mean+cutoff\r\n",
        "trimmed_df=df[(df['Length_of_Stay']>lower)&(df['Length_of_Stay']<upper)]\r\n",
        "sns.boxplot(trimmed_df['Length_of_Stay'])\r\n",
        "plt.title('Length_of_stay(outliers removed)')\r\n",
        "#plt.savefig('box_length.png')\r\n",
        "\r\n",
        "plt.show()"
      ],
      "execution_count": 6,
      "outputs": [
        {
          "output_type": "stream",
          "text": [
            "/usr/local/lib/python3.6/dist-packages/seaborn/_decorators.py:43: FutureWarning: Pass the following variable as a keyword arg: x. From version 0.12, the only valid positional argument will be `data`, and passing other arguments without an explicit keyword will result in an error or misinterpretation.\n",
            "  FutureWarning\n"
          ],
          "name": "stderr"
        },
        {
          "output_type": "display_data",
          "data": {
            "image/png": "[encoded data removed]",
            "text/plain": [
              "<Figure size 432x288 with 1 Axes>"
            ]
          },
          "metadata": {
            "tags": [],
            "needs_background": "light"
          }
        }
      ]
    },
    {
      "cell_type": "code",
      "metadata": {
        "colab": {
          "base_uri": "https://localhost:8080/",
          "height": 17
        },
        "id": "R4fTzUqIeE-5",
        "outputId": "b03b7aad-e21c-45f6-af73-2d0322b5a54c"
      },
      "source": [
        "files.download('box_length.png')"
      ],
      "execution_count": 7,
      "outputs": [
        {
          "output_type": "display_data",
          "data": {
            "application/javascript": [
              "\n",
              "    async function download(id, filename, size) {\n",
              "      if (!google.colab.kernel.accessAllowed) {\n",
              "        return;\n",
              "      }\n",
              "      const div = document.createElement('div');\n",
              "      const label = document.createElement('label');\n",
              "      label.textContent = `Downloading \"${filename}\": `;\n",
              "      div.appendChild(label);\n",
              "      const progress = document.createElement('progress');\n",
              "      progress.max = size;\n",
              "      div.appendChild(progress);\n",
              "      document.body.appendChild(div);\n",
              "\n",
              "      const buffers = [];\n",
              "      let downloaded = 0;\n",
              "\n",
              "      const channel = await google.colab.kernel.comms.open(id);\n",
              "      // Send a message to notify the kernel that we're ready.\n",
              "      channel.send({})\n",
              "\n",
              "      for await (const message of channel.messages) {\n",
              "        // Send a message to notify the kernel that we're ready.\n",
              "        channel.send({})\n",
              "        if (message.buffers) {\n",
              "          for (const buffer of message.buffers) {\n",
              "            buffers.push(buffer);\n",
              "            downloaded += buffer.byteLength;\n",
              "            progress.value = downloaded;\n",
              "          }\n",
              "        }\n",
              "      }\n",
              "      const blob = new Blob(buffers, {type: 'application/binary'});\n",
              "      const a = document.createElement('a');\n",
              "      a.href = window.URL.createObjectURL(blob);\n",
              "      a.download = filename;\n",
              "      div.appendChild(a);\n",
              "      a.click();\n",
              "      div.remove();\n",
              "    }\n",
              "  "
            ],
            "text/plain": [
              "<IPython.core.display.Javascript object>"
            ]
          },
          "metadata": {
            "tags": []
          }
        },
        {
          "output_type": "display_data",
          "data": {
            "application/javascript": [
              "download(\"download_b8abd2b0-f603-4912-8433-ab17ab9253e8\", \"box_length.png\", 7530)"
            ],
            "text/plain": [
              "<IPython.core.display.Javascript object>"
            ]
          },
          "metadata": {
            "tags": []
          }
        }
      ]
    },
    {
      "cell_type": "code",
      "metadata": {
        "id": "TWOHpV87872p"
      },
      "source": [
        "df=trimmed_df"
      ],
      "execution_count": 8,
      "outputs": []
    },
    {
      "cell_type": "code",
      "metadata": {
        "colab": {
          "base_uri": "https://localhost:8080/"
        },
        "id": "zmTJ3bO-9Q8Z",
        "outputId": "7ef7eb19-bec8-4241-ec38-f812529d54f2"
      },
      "source": [
        "df.Length_of_Stay.describe()"
      ],
      "execution_count": 9,
      "outputs": [
        {
          "output_type": "execute_result",
          "data": {
            "text/plain": [
              "count    31021.000000\n",
              "mean         4.511911\n",
              "std          4.227992\n",
              "min          1.000000\n",
              "25%          2.000000\n",
              "50%          3.000000\n",
              "75%          5.000000\n",
              "max         27.000000\n",
              "Name: Length_of_Stay, dtype: float64"
            ]
          },
          "metadata": {
            "tags": []
          },
          "execution_count": 9
        }
      ]
    },
    {
      "cell_type": "code",
      "metadata": {
        "id": "lAfMJ2hC2oEv"
      },
      "source": [
        "#length of stay data is right skewed\r\n",
        "#create age bins\r\n",
        "bins=[-np.inf,10,20,30,np.inf]\r\n",
        "#bin labels\r\n",
        "labels=[0,1,2,3]\r\n",
        "df['length_groups']=pd.cut(df['Length_of_Stay'],bins,labels=labels)"
      ],
      "execution_count": 10,
      "outputs": []
    },
    {
      "cell_type": "code",
      "metadata": {
        "id": "CqEKX3aQ4Fb3"
      },
      "source": [
        "df['length_groups']=df['length_groups'].astype(int)"
      ],
      "execution_count": 11,
      "outputs": []
    },
    {
      "cell_type": "code",
      "metadata": {
        "colab": {
          "base_uri": "https://localhost:8080/",
          "height": 280
        },
        "id": "RjGtbVm44hds",
        "outputId": "93bd9122-c115-4d8e-e001-cc47a5e8fef8"
      },
      "source": [
        "sns.histplot(x=df['length_groups'])\r\n",
        "plt.show()"
      ],
      "execution_count": 12,
      "outputs": [
        {
          "output_type": "display_data",
          "data": {
            "image/png": "[encoded data removed]",
            "text/plain": [
              "<Figure size 432x288 with 1 Axes>"
            ]
          },
          "metadata": {
            "tags": [],
            "needs_background": "light"
          }
        }
      ]
    },
    {
      "cell_type": "code",
      "metadata": {
        "colab": {
          "base_uri": "https://localhost:8080/"
        },
        "id": "EBkUnBr76M8w",
        "outputId": "fd605d39-fc38-4abb-9caf-354f39a219d0"
      },
      "source": [
        "# remap age groups\r\n",
        "df.Age_Group.unique()"
      ],
      "execution_count": 13,
      "outputs": [
        {
          "output_type": "execute_result",
          "data": {
            "text/plain": [
              "array(['30 to 49', '50 to 69', '70 or Older', '18 to 29', '0 to 17'],\n",
              "      dtype=object)"
            ]
          },
          "metadata": {
            "tags": []
          },
          "execution_count": 13
        }
      ]
    },
    {
      "cell_type": "code",
      "metadata": {
        "id": "ZnGsN2zOAry4"
      },
      "source": [
        "dict={'70 or Older':4, '50 to 69':3,'30 to 49':2 , '18 to 29':1, '0 to 17':0}"
      ],
      "execution_count": 14,
      "outputs": []
    },
    {
      "cell_type": "code",
      "metadata": {
        "id": "3IXDhtJpBMfS"
      },
      "source": [
        "df=df.replace({'Age_Group':dict})"
      ],
      "execution_count": 15,
      "outputs": []
    },
    {
      "cell_type": "code",
      "metadata": {
        "colab": {
          "base_uri": "https://localhost:8080/"
        },
        "id": "N8YmB6adB4Dj",
        "outputId": "b62955c6-9775-40ff-d7dd-946325dd7303"
      },
      "source": [
        "df.dtypes"
      ],
      "execution_count": 16,
      "outputs": [
        {
          "output_type": "execute_result",
          "data": {
            "text/plain": [
              "Hospital_Service_Area              object\n",
              "Hospital_County                    object\n",
              "Facility_Name                      object\n",
              "Age_Group                           int64\n",
              "Zip_Code___3_digits                object\n",
              "Gender                             object\n",
              "Race                               object\n",
              "Length_of_Stay                    float64\n",
              "Type_of_Admission                  object\n",
              "CCS_Diagnosis_Code                float64\n",
              "CCS_Diagnosis_Description          object\n",
              "CCS_Procedure_Code                float64\n",
              "CCS_Procedure_Description          object\n",
              "Payment_Typology_1                 object\n",
              "Emergency_Department_Indicator     object\n",
              "length_groups                       int64\n",
              "dtype: object"
            ]
          },
          "metadata": {
            "tags": []
          },
          "execution_count": 16
        }
      ]
    },
    {
      "cell_type": "code",
      "metadata": {
        "colab": {
          "base_uri": "https://localhost:8080/"
        },
        "id": "jvD0i7fXBMv8",
        "outputId": "5d4ac7d9-7e28-4a42-e778-3641f0b1a915"
      },
      "source": [
        "df.Age_Group.unique()"
      ],
      "execution_count": 17,
      "outputs": [
        {
          "output_type": "execute_result",
          "data": {
            "text/plain": [
              "array([2, 3, 4, 1, 0])"
            ]
          },
          "metadata": {
            "tags": []
          },
          "execution_count": 17
        }
      ]
    },
    {
      "cell_type": "code",
      "metadata": {
        "id": "-dxDL-8VPogY"
      },
      "source": [
        "#"
      ],
      "execution_count": 18,
      "outputs": []
    },
    {
      "cell_type": "code",
      "metadata": {
        "colab": {
          "base_uri": "https://localhost:8080/"
        },
        "id": "G0OYt2WBExVl",
        "outputId": "90babb9c-ef79-4d90-e1c7-1944d4d68cdc"
      },
      "source": [
        "df[df['CCS_Procedure_Code']!=0].value_counts().sum()"
      ],
      "execution_count": 19,
      "outputs": [
        {
          "output_type": "execute_result",
          "data": {
            "text/plain": [
              "21776"
            ]
          },
          "metadata": {
            "tags": []
          },
          "execution_count": 19
        }
      ]
    },
    {
      "cell_type": "code",
      "metadata": {
        "colab": {
          "base_uri": "https://localhost:8080/"
        },
        "id": "bWnZfdsbQtsT",
        "outputId": "936fccd7-7e9e-495a-c15c-70e7b4319422"
      },
      "source": [
        "# There are 258 different types of diagnosis categories.Lets take a look at the top 17 most occurring\r\n",
        "common_diag=df[df.groupby('CCS_Diagnosis_Description')['CCS_Diagnosis_Description'].transform('size') >400]\r\n",
        "common_diag['CCS_Diagnosis_Description'].unique().shape\r\n",
        "common_diag['CCS_Diagnosis_Description'].unique()"
      ],
      "execution_count": 20,
      "outputs": [
        {
          "output_type": "execute_result",
          "data": {
            "text/plain": [
              "array(['Mood disorders', 'Septicemia (except in labor)',\n",
              "       'Chronic obstructive pulmonary disease and bronchiectasis',\n",
              "       'Acute cerebrovascular disease',\n",
              "       'Congestive heart failure; nonhypertensive', 'Osteoarthritis',\n",
              "       'Cardiac dysrhythmias', 'Prolonged pregnancy', 'Liveborn',\n",
              "       'Spondylosis; intervertebral disc disorders; other back problems',\n",
              "       'Complication of device; implant or graft',\n",
              "       'Diabetes mellitus with complications',\n",
              "       'Acute myocardial infarction', 'Alcohol-related disorders',\n",
              "       'Pneumonia (except that caused by tuberculosis or sexually transmitted disease)',\n",
              "       'Complications of surgical procedures or medical care',\n",
              "       'Skin and subcutaneous tissue infections'], dtype=object)"
            ]
          },
          "metadata": {
            "tags": []
          },
          "execution_count": 20
        }
      ]
    },
    {
      "cell_type": "code",
      "metadata": {
        "colab": {
          "base_uri": "https://localhost:8080/"
        },
        "id": "MlyYAjnPRmnM",
        "outputId": "59525128-0776-4a67-9fa5-a009b7c33c0d"
      },
      "source": [
        "common_diag['CCS_Diagnosis_Description'].describe()"
      ],
      "execution_count": 21,
      "outputs": [
        {
          "output_type": "execute_result",
          "data": {
            "text/plain": [
              "count        13763\n",
              "unique          17\n",
              "top       Liveborn\n",
              "freq          2776\n",
              "Name: CCS_Diagnosis_Description, dtype: object"
            ]
          },
          "metadata": {
            "tags": []
          },
          "execution_count": 21
        }
      ]
    },
    {
      "cell_type": "code",
      "metadata": {
        "id": "E1s4Qk0SSWnG"
      },
      "source": [
        "df=common_diag"
      ],
      "execution_count": 22,
      "outputs": []
    },
    {
      "cell_type": "code",
      "metadata": {
        "colab": {
          "base_uri": "https://localhost:8080/"
        },
        "id": "7OtlndaCTl5k",
        "outputId": "7f98bfbd-e0e2-427a-95ed-196a42e796a5"
      },
      "source": [
        "df.shape"
      ],
      "execution_count": 23,
      "outputs": [
        {
          "output_type": "execute_result",
          "data": {
            "text/plain": [
              "(13763, 16)"
            ]
          },
          "metadata": {
            "tags": []
          },
          "execution_count": 23
        }
      ]
    },
    {
      "cell_type": "code",
      "metadata": {
        "id": "pdYisr4oUJwX"
      },
      "source": [
        "dict={'Mood disorders':'Mood', 'Septicemia (except in labor)':'Sept',\r\n",
        "       'Chronic obstructive pulmonary disease and bronchiectasis':'COPD',\r\n",
        "       'Acute cerebrovascular disease':'Cereb',\r\n",
        "       'Congestive heart failure; nonhypertensive':'CHF', 'Osteoarthritis':'OA',\r\n",
        "       'Cardiac dysrhythmias':'CardO', 'Prolonged pregnancy':'PregP', 'Liveborn':'LivB',\r\n",
        "       'Spondylosis; intervertebral disc disorders; other back problems':'Spondy',\r\n",
        "       'Complication of device; implant or graft':'Comp',\r\n",
        "       'Diabetes mellitus with complications':'DM',\r\n",
        "       'Acute myocardial infarction':'MI', 'Alcohol-related disorders':'ALCH',\r\n",
        "       'Pneumonia (except that caused by tuberculosis or sexually transmitted disease)':'PNU',\r\n",
        "       'Complications of surgical procedures or medical care':'Comp',\r\n",
        "       'Skin and subcutaneous tissue infections':'Skin'}"
      ],
      "execution_count": 24,
      "outputs": []
    },
    {
      "cell_type": "code",
      "metadata": {
        "id": "cH0XsgeMVhqX"
      },
      "source": [
        "df=df.replace({'CCS_Diagnosis_Description':dict})\r\n"
      ],
      "execution_count": 25,
      "outputs": []
    },
    {
      "cell_type": "code",
      "metadata": {
        "colab": {
          "base_uri": "https://localhost:8080/"
        },
        "id": "FYyKvsPKVt8y",
        "outputId": "44a19fee-2c51-4275-9ccf-5fc50c340048"
      },
      "source": [
        "df['CCS_Diagnosis_Description'].unique()"
      ],
      "execution_count": 26,
      "outputs": [
        {
          "output_type": "execute_result",
          "data": {
            "text/plain": [
              "array(['Mood', 'Sept', 'COPD', 'Cereb', 'CHF', 'OA', 'CardO', 'PregP',\n",
              "       'LivB', 'Spondy', 'Comp', 'DM', 'MI', 'ALCH', 'PNU', 'Skin'],\n",
              "      dtype=object)"
            ]
          },
          "metadata": {
            "tags": []
          },
          "execution_count": 26
        }
      ]
    },
    {
      "cell_type": "code",
      "metadata": {
        "colab": {
          "base_uri": "https://localhost:8080/",
          "height": 204
        },
        "id": "1InfKdnIXgV0",
        "outputId": "a2f7eb5d-757f-412d-b845-42aeb4267fbe"
      },
      "source": [
        "dfdiag=df.groupby('CCS_Diagnosis_Description')['Length_of_Stay'].mean().reset_index()\r\n",
        "dfdiag=dfdiag.sort_values('Length_of_Stay')\r\n",
        "dfdiag.head()"
      ],
      "execution_count": 27,
      "outputs": [
        {
          "output_type": "execute_result",
          "data": {
            "text/html": [
              "<div>\n",
              "<style scoped>\n",
              "    .dataframe tbody tr th:only-of-type {\n",
              "        vertical-align: middle;\n",
              "    }\n",
              "\n",
              "    .dataframe tbody tr th {\n",
              "        vertical-align: top;\n",
              "    }\n",
              "\n",
              "    .dataframe thead th {\n",
              "        text-align: right;\n",
              "    }\n",
              "</style>\n",
              "<table border=\"1\" class=\"dataframe\">\n",
              "  <thead>\n",
              "    <tr style=\"text-align: right;\">\n",
              "      <th></th>\n",
              "      <th>CCS_Diagnosis_Description</th>\n",
              "      <th>Length_of_Stay</th>\n",
              "    </tr>\n",
              "  </thead>\n",
              "  <tbody>\n",
              "    <tr>\n",
              "      <th>12</th>\n",
              "      <td>PregP</td>\n",
              "      <td>2.628079</td>\n",
              "    </tr>\n",
              "    <tr>\n",
              "      <th>7</th>\n",
              "      <td>LivB</td>\n",
              "      <td>2.792867</td>\n",
              "    </tr>\n",
              "    <tr>\n",
              "      <th>10</th>\n",
              "      <td>OA</td>\n",
              "      <td>2.840442</td>\n",
              "    </tr>\n",
              "    <tr>\n",
              "      <th>15</th>\n",
              "      <td>Spondy</td>\n",
              "      <td>2.991763</td>\n",
              "    </tr>\n",
              "    <tr>\n",
              "      <th>3</th>\n",
              "      <td>CardO</td>\n",
              "      <td>3.480831</td>\n",
              "    </tr>\n",
              "  </tbody>\n",
              "</table>\n",
              "</div>"
            ],
            "text/plain": [
              "   CCS_Diagnosis_Description  Length_of_Stay\n",
              "12                     PregP        2.628079\n",
              "7                       LivB        2.792867\n",
              "10                        OA        2.840442\n",
              "15                    Spondy        2.991763\n",
              "3                      CardO        3.480831"
            ]
          },
          "metadata": {
            "tags": []
          },
          "execution_count": 27
        }
      ]
    },
    {
      "cell_type": "code",
      "metadata": {
        "colab": {
          "base_uri": "https://localhost:8080/",
          "height": 315
        },
        "id": "6gHmFVFbTqrn",
        "outputId": "f6e219d4-e742-4b52-e62d-dd12d215058b"
      },
      "source": [
        "ax=sns.barplot(x='CCS_Diagnosis_Description',y='Length_of_Stay',data=dfdiag)\r\n",
        "plt.setp(ax.get_xticklabels(),rotation=90)\r\n",
        "plt.xlabel('Diagnosis')\r\n",
        "plt.ylabel('mean stay')\r\n",
        "plt.title('Diagnosis and Length of Stay')\r\n",
        "plt.gcf().subplots_adjust(bottom=0.15)\r\n",
        "#plt.savefig('bar_diagnosis.png')\r\n",
        "plt.show()\r\n",
        "    \r\n",
        "  "
      ],
      "execution_count": 28,
      "outputs": [
        {
          "output_type": "display_data",
          "data": {
            "image/png": "[encoded data removed]",
            "text/plain": [
              "<Figure size 432x288 with 1 Axes>"
            ]
          },
          "metadata": {
            "tags": [],
            "needs_background": "light"
          }
        }
      ]
    },
    {
      "cell_type": "code",
      "metadata": {
        "id": "oRNhywv3YgL5"
      },
      "source": [
        "#files.download('bar_diagnosis.png')"
      ],
      "execution_count": 29,
      "outputs": []
    },
    {
      "cell_type": "code",
      "metadata": {
        "id": "LyxACquaSdvz"
      },
      "source": [
        "df.to_csv('nysdoh_feature.csv')"
      ],
      "execution_count": 33,
      "outputs": []
    },
    {
      "cell_type": "code",
      "metadata": {
        "colab": {
          "base_uri": "https://localhost:8080/",
          "height": 17
        },
        "id": "zKI63IhmSpl6",
        "outputId": "a05b1cf3-7202-4409-9026-6ef729929304"
      },
      "source": [
        "\r\n",
        "files.download('nysdoh_feature.csv')"
      ],
      "execution_count": 34,
      "outputs": [
        {
          "output_type": "display_data",
          "data": {
            "application/javascript": [
              "\n",
              "    async function download(id, filename, size) {\n",
              "      if (!google.colab.kernel.accessAllowed) {\n",
              "        return;\n",
              "      }\n",
              "      const div = document.createElement('div');\n",
              "      const label = document.createElement('label');\n",
              "      label.textContent = `Downloading \"${filename}\": `;\n",
              "      div.appendChild(label);\n",
              "      const progress = document.createElement('progress');\n",
              "      progress.max = size;\n",
              "      div.appendChild(progress);\n",
              "      document.body.appendChild(div);\n",
              "\n",
              "      const buffers = [];\n",
              "      let downloaded = 0;\n",
              "\n",
              "      const channel = await google.colab.kernel.comms.open(id);\n",
              "      // Send a message to notify the kernel that we're ready.\n",
              "      channel.send({})\n",
              "\n",
              "      for await (const message of channel.messages) {\n",
              "        // Send a message to notify the kernel that we're ready.\n",
              "        channel.send({})\n",
              "        if (message.buffers) {\n",
              "          for (const buffer of message.buffers) {\n",
              "            buffers.push(buffer);\n",
              "            downloaded += buffer.byteLength;\n",
              "            progress.value = downloaded;\n",
              "          }\n",
              "        }\n",
              "      }\n",
              "      const blob = new Blob(buffers, {type: 'application/binary'});\n",
              "      const a = document.createElement('a');\n",
              "      a.href = window.URL.createObjectURL(blob);\n",
              "      a.download = filename;\n",
              "      div.appendChild(a);\n",
              "      a.click();\n",
              "      div.remove();\n",
              "    }\n",
              "  "
            ],
            "text/plain": [
              "<IPython.core.display.Javascript object>"
            ]
          },
          "metadata": {
            "tags": []
          }
        },
        {
          "output_type": "display_data",
          "data": {
            "application/javascript": [
              "download(\"download_1d1c93a6-0701-4769-b385-200986df7389\", \"nysdoh_feature.csv\", 1865756)"
            ],
            "text/plain": [
              "<IPython.core.display.Javascript object>"
            ]
          },
          "metadata": {
            "tags": []
          }
        }
      ]
    },
    {
      "cell_type": "code",
      "metadata": {
        "colab": {
          "base_uri": "https://localhost:8080/"
        },
        "id": "yFcZQE4wbYLJ",
        "outputId": "bb5e9902-18f7-4283-bee2-48a356e950d0"
      },
      "source": [
        "df.CCS_Procedure_Description.describe()"
      ],
      "execution_count": 32,
      "outputs": [
        {
          "output_type": "execute_result",
          "data": {
            "text/plain": [
              "count       13763\n",
              "unique        174\n",
              "top       NO PROC\n",
              "freq         4325\n",
              "Name: CCS_Procedure_Description, dtype: object"
            ]
          },
          "metadata": {
            "tags": []
          },
          "execution_count": 32
        }
      ]
    },
    {
      "cell_type": "code",
      "metadata": {
        "id": "TBKfrdusb6uz"
      },
      "source": [
        ""
      ],
      "execution_count": 32,
      "outputs": []
    }
  ]
}