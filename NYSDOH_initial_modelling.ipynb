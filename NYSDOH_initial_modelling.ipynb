{
  "nbformat": 4,
  "nbformat_minor": 0,
  "metadata": {
    "kernelspec": {
      "display_name": "Python 3",
      "language": "python",
      "name": "python3"
    },
    "language_info": {
      "codemirror_mode": {
        "name": "ipython",
        "version": 3
      },
      "file_extension": ".py",
      "mimetype": "text/x-python",
      "name": "python",
      "nbconvert_exporter": "python",
      "pygments_lexer": "ipython3",
      "version": "3.8.3"
    },
    "colab": {
      "name": "NYSDOH_initial_modelling.ipynb",
      "provenance": [],
      "include_colab_link": true
    }
  },
  "cells": [
    {
      "cell_type": "markdown",
      "metadata": {
        "id": "view-in-github",
        "colab_type": "text"
      },
      "source": [
        "<a href=\"https://colab.research.google.com/github/KetakiN/Springboard/blob/main/NYSDOH_initial_modelling.ipynb\" target=\"_parent\"><img src=\"https://colab.research.google.com/assets/colab-badge.svg\" alt=\"Open In Colab\"/></a>"
      ]
    },
    {
      "cell_type": "code",
      "metadata": {
        "id": "x5Z2pwk6aYxk"
      },
      "source": [
        "import pandas as pd\n",
        "import numpy as np\n",
        "import matplotlib.pyplot as plt\n",
        "from sklearn.ensemble import RandomForestClassifier\n",
        "\n"
      ],
      "execution_count": 1,
      "outputs": []
    },
    {
      "cell_type": "code",
      "metadata": {
        "id": "Q7sn7oHYnP-v"
      },
      "source": [
        "from sklearn.datasets import make_classification\r\n",
        "from sklearn.model_selection import train_test_split\r\n",
        "from sklearn.pipeline import make_pipeline\r\n",
        "from sklearn.preprocessing import StandardScaler\r\n",
        "from sklearn.metrics import mean_squared_error\r\n",
        "from sklearn.model_selection import GridSearchCV\r\n",
        "from sklearn.linear_model import LassoCV\r\n",
        "from sklearn.model_selection import RepeatedKFold\r\n",
        "import seaborn as sns\r\n",
        "from sklearn.metrics import accuracy_score\r\n",
        "from sklearn.linear_model import LogisticRegression\r\n"
      ],
      "execution_count": 2,
      "outputs": []
    },
    {
      "cell_type": "code",
      "metadata": {
        "id": "7retZRGnaYxz"
      },
      "source": [
        "df=pd.read_csv('/content/sample_data/nysdoh_feature.csv')"
      ],
      "execution_count": 3,
      "outputs": []
    },
    {
      "cell_type": "code",
      "metadata": {
        "colab": {
          "base_uri": "https://localhost:8080/"
        },
        "id": "OZCsPNUUaYx0",
        "outputId": "0ecf123b-178e-4a91-e369-922d6391e65c"
      },
      "source": [
        "df.columns"
      ],
      "execution_count": 4,
      "outputs": [
        {
          "output_type": "execute_result",
          "data": {
            "text/plain": [
              "Index(['Unnamed: 0', 'Hospital_Service_Area', 'Hospital_County',\n",
              "       'Facility_Name', 'Age_Group', 'Zip_Code___3_digits', 'Gender', 'Race',\n",
              "       'Length_of_Stay', 'Type_of_Admission', 'CCS_Diagnosis_Code',\n",
              "       'CCS_Diagnosis_Description', 'CCS_Procedure_Code',\n",
              "       'CCS_Procedure_Description', 'Payment_Typology_1',\n",
              "       'Emergency_Department_Indicator', 'length_groups'],\n",
              "      dtype='object')"
            ]
          },
          "metadata": {
            "tags": []
          },
          "execution_count": 4
        }
      ]
    },
    {
      "cell_type": "code",
      "metadata": {
        "id": "FSK8g6zFcenT"
      },
      "source": [
        "df=df.drop('Unnamed: 0',axis=1)"
      ],
      "execution_count": 5,
      "outputs": []
    },
    {
      "cell_type": "code",
      "metadata": {
        "id": "lIHMS-wNmdYy"
      },
      "source": [
        "#Select columns for modelling and drop others, note the largest group for procedure code is no procedure, for modelling, diagnosis will be taken into account\r\n",
        "X=df.drop(['Zip_Code___3_digits','length_groups','Length_of_Stay','CCS_Procedure_Code', 'CCS_Procedure_Description','CCS_Diagnosis_Code'],axis=1)"
      ],
      "execution_count": 6,
      "outputs": []
    },
    {
      "cell_type": "code",
      "metadata": {
        "colab": {
          "base_uri": "https://localhost:8080/"
        },
        "id": "ytNltUgJaYx3",
        "outputId": "82e2d742-2218-40a6-c844-8d65364dab9d"
      },
      "source": [
        "#create dummy variables for categorical features in X\n",
        "X=pd.get_dummies(X,drop_first=True)\n",
        "X.shape"
      ],
      "execution_count": 7,
      "outputs": [
        {
          "output_type": "execute_result",
          "data": {
            "text/plain": [
              "(13763, 176)"
            ]
          },
          "metadata": {
            "tags": []
          },
          "execution_count": 7
        }
      ]
    },
    {
      "cell_type": "code",
      "metadata": {
        "colab": {
          "base_uri": "https://localhost:8080/",
          "height": 322
        },
        "id": "6_IS6KtDmyYT",
        "outputId": "ec3ec959-e57f-4e1d-e4e7-922322dc2cea"
      },
      "source": [
        "X.head()"
      ],
      "execution_count": 8,
      "outputs": [
        {
          "output_type": "execute_result",
          "data": {
            "text/html": [
              "<div>\n",
              "<style scoped>\n",
              "    .dataframe tbody tr th:only-of-type {\n",
              "        vertical-align: middle;\n",
              "    }\n",
              "\n",
              "    .dataframe tbody tr th {\n",
              "        vertical-align: top;\n",
              "    }\n",
              "\n",
              "    .dataframe thead th {\n",
              "        text-align: right;\n",
              "    }\n",
              "</style>\n",
              "<table border=\"1\" class=\"dataframe\">\n",
              "  <thead>\n",
              "    <tr style=\"text-align: right;\">\n",
              "      <th></th>\n",
              "      <th>Age_Group</th>\n",
              "      <th>Hospital_Service_Area_Central NY</th>\n",
              "      <th>Hospital_Service_Area_Finger Lakes</th>\n",
              "      <th>Hospital_Service_Area_Southern Tier</th>\n",
              "      <th>Hospital_Service_Area_Western NY</th>\n",
              "      <th>Hospital_County_Allegany</th>\n",
              "      <th>Hospital_County_Broome</th>\n",
              "      <th>Hospital_County_Cattaraugus</th>\n",
              "      <th>Hospital_County_Cayuga</th>\n",
              "      <th>Hospital_County_Chautauqua</th>\n",
              "      <th>Hospital_County_Chemung</th>\n",
              "      <th>Hospital_County_Chenango</th>\n",
              "      <th>Hospital_County_Clinton</th>\n",
              "      <th>Hospital_County_Columbia</th>\n",
              "      <th>Hospital_County_Cortland</th>\n",
              "      <th>Hospital_County_Delaware</th>\n",
              "      <th>Hospital_County_Erie</th>\n",
              "      <th>Hospital_County_Essex</th>\n",
              "      <th>Hospital_County_Franklin</th>\n",
              "      <th>Hospital_County_Fulton</th>\n",
              "      <th>Hospital_County_Genesee</th>\n",
              "      <th>Hospital_County_Herkimer</th>\n",
              "      <th>Hospital_County_Jefferson</th>\n",
              "      <th>Hospital_County_Lewis</th>\n",
              "      <th>Hospital_County_Livingston</th>\n",
              "      <th>Hospital_County_Madison</th>\n",
              "      <th>Hospital_County_Monroe</th>\n",
              "      <th>Hospital_County_Montgomery</th>\n",
              "      <th>Hospital_County_Niagara</th>\n",
              "      <th>Hospital_County_Oneida</th>\n",
              "      <th>Hospital_County_Onondaga</th>\n",
              "      <th>Hospital_County_Ontario</th>\n",
              "      <th>Hospital_County_Orleans</th>\n",
              "      <th>Hospital_County_Oswego</th>\n",
              "      <th>Hospital_County_Otsego</th>\n",
              "      <th>Hospital_County_Rensselaer</th>\n",
              "      <th>Hospital_County_Saratoga</th>\n",
              "      <th>Hospital_County_Schenectady</th>\n",
              "      <th>Hospital_County_Schuyler</th>\n",
              "      <th>Hospital_County_St Lawrence</th>\n",
              "      <th>...</th>\n",
              "      <th>Facility_Name_University Hospital SUNY Health Science Center</th>\n",
              "      <th>Facility_Name_Westfield Memorial Hospital Inc</th>\n",
              "      <th>Facility_Name_Woman's Christian Association</th>\n",
              "      <th>Facility_Name_Womans Christian Assoc Hospital - WCA Hosp at Jones Memorial Health Ce</th>\n",
              "      <th>Facility_Name_Women And Children's Hospital Of Buffalo</th>\n",
              "      <th>Facility_Name_Wyoming County Community Hospital</th>\n",
              "      <th>Gender_M</th>\n",
              "      <th>Race_Multi-racial</th>\n",
              "      <th>Race_Other Race</th>\n",
              "      <th>Race_White</th>\n",
              "      <th>Type_of_Admission_Emergency</th>\n",
              "      <th>Type_of_Admission_Newborn</th>\n",
              "      <th>Type_of_Admission_Not Available</th>\n",
              "      <th>Type_of_Admission_Trauma</th>\n",
              "      <th>Type_of_Admission_Urgent</th>\n",
              "      <th>CCS_Diagnosis_Description_CHF</th>\n",
              "      <th>CCS_Diagnosis_Description_COPD</th>\n",
              "      <th>CCS_Diagnosis_Description_CardO</th>\n",
              "      <th>CCS_Diagnosis_Description_Cereb</th>\n",
              "      <th>CCS_Diagnosis_Description_Comp</th>\n",
              "      <th>CCS_Diagnosis_Description_DM</th>\n",
              "      <th>CCS_Diagnosis_Description_LivB</th>\n",
              "      <th>CCS_Diagnosis_Description_MI</th>\n",
              "      <th>CCS_Diagnosis_Description_Mood</th>\n",
              "      <th>CCS_Diagnosis_Description_OA</th>\n",
              "      <th>CCS_Diagnosis_Description_PNU</th>\n",
              "      <th>CCS_Diagnosis_Description_PregP</th>\n",
              "      <th>CCS_Diagnosis_Description_Sept</th>\n",
              "      <th>CCS_Diagnosis_Description_Skin</th>\n",
              "      <th>CCS_Diagnosis_Description_Spondy</th>\n",
              "      <th>Payment_Typology_1_Department of Corrections</th>\n",
              "      <th>Payment_Typology_1_Federal/State/Local/VA</th>\n",
              "      <th>Payment_Typology_1_Managed Care, Unspecified</th>\n",
              "      <th>Payment_Typology_1_Medicaid</th>\n",
              "      <th>Payment_Typology_1_Medicare</th>\n",
              "      <th>Payment_Typology_1_Miscellaneous/Other</th>\n",
              "      <th>Payment_Typology_1_Private Health Insurance</th>\n",
              "      <th>Payment_Typology_1_Self-Pay</th>\n",
              "      <th>Payment_Typology_1_Unknown</th>\n",
              "      <th>Emergency_Department_Indicator_Y</th>\n",
              "    </tr>\n",
              "  </thead>\n",
              "  <tbody>\n",
              "    <tr>\n",
              "      <th>0</th>\n",
              "      <td>1</td>\n",
              "      <td>0</td>\n",
              "      <td>0</td>\n",
              "      <td>0</td>\n",
              "      <td>1</td>\n",
              "      <td>0</td>\n",
              "      <td>0</td>\n",
              "      <td>0</td>\n",
              "      <td>0</td>\n",
              "      <td>1</td>\n",
              "      <td>0</td>\n",
              "      <td>0</td>\n",
              "      <td>0</td>\n",
              "      <td>0</td>\n",
              "      <td>0</td>\n",
              "      <td>0</td>\n",
              "      <td>0</td>\n",
              "      <td>0</td>\n",
              "      <td>0</td>\n",
              "      <td>0</td>\n",
              "      <td>0</td>\n",
              "      <td>0</td>\n",
              "      <td>0</td>\n",
              "      <td>0</td>\n",
              "      <td>0</td>\n",
              "      <td>0</td>\n",
              "      <td>0</td>\n",
              "      <td>0</td>\n",
              "      <td>0</td>\n",
              "      <td>0</td>\n",
              "      <td>0</td>\n",
              "      <td>0</td>\n",
              "      <td>0</td>\n",
              "      <td>0</td>\n",
              "      <td>0</td>\n",
              "      <td>0</td>\n",
              "      <td>0</td>\n",
              "      <td>0</td>\n",
              "      <td>0</td>\n",
              "      <td>0</td>\n",
              "      <td>...</td>\n",
              "      <td>0</td>\n",
              "      <td>0</td>\n",
              "      <td>0</td>\n",
              "      <td>0</td>\n",
              "      <td>0</td>\n",
              "      <td>0</td>\n",
              "      <td>1</td>\n",
              "      <td>0</td>\n",
              "      <td>0</td>\n",
              "      <td>1</td>\n",
              "      <td>1</td>\n",
              "      <td>0</td>\n",
              "      <td>0</td>\n",
              "      <td>0</td>\n",
              "      <td>0</td>\n",
              "      <td>0</td>\n",
              "      <td>0</td>\n",
              "      <td>0</td>\n",
              "      <td>0</td>\n",
              "      <td>0</td>\n",
              "      <td>0</td>\n",
              "      <td>0</td>\n",
              "      <td>0</td>\n",
              "      <td>1</td>\n",
              "      <td>0</td>\n",
              "      <td>0</td>\n",
              "      <td>0</td>\n",
              "      <td>0</td>\n",
              "      <td>0</td>\n",
              "      <td>0</td>\n",
              "      <td>0</td>\n",
              "      <td>0</td>\n",
              "      <td>0</td>\n",
              "      <td>1</td>\n",
              "      <td>0</td>\n",
              "      <td>0</td>\n",
              "      <td>0</td>\n",
              "      <td>0</td>\n",
              "      <td>0</td>\n",
              "      <td>1</td>\n",
              "    </tr>\n",
              "    <tr>\n",
              "      <th>1</th>\n",
              "      <td>4</td>\n",
              "      <td>0</td>\n",
              "      <td>0</td>\n",
              "      <td>0</td>\n",
              "      <td>1</td>\n",
              "      <td>0</td>\n",
              "      <td>0</td>\n",
              "      <td>0</td>\n",
              "      <td>0</td>\n",
              "      <td>1</td>\n",
              "      <td>0</td>\n",
              "      <td>0</td>\n",
              "      <td>0</td>\n",
              "      <td>0</td>\n",
              "      <td>0</td>\n",
              "      <td>0</td>\n",
              "      <td>0</td>\n",
              "      <td>0</td>\n",
              "      <td>0</td>\n",
              "      <td>0</td>\n",
              "      <td>0</td>\n",
              "      <td>0</td>\n",
              "      <td>0</td>\n",
              "      <td>0</td>\n",
              "      <td>0</td>\n",
              "      <td>0</td>\n",
              "      <td>0</td>\n",
              "      <td>0</td>\n",
              "      <td>0</td>\n",
              "      <td>0</td>\n",
              "      <td>0</td>\n",
              "      <td>0</td>\n",
              "      <td>0</td>\n",
              "      <td>0</td>\n",
              "      <td>0</td>\n",
              "      <td>0</td>\n",
              "      <td>0</td>\n",
              "      <td>0</td>\n",
              "      <td>0</td>\n",
              "      <td>0</td>\n",
              "      <td>...</td>\n",
              "      <td>0</td>\n",
              "      <td>0</td>\n",
              "      <td>1</td>\n",
              "      <td>0</td>\n",
              "      <td>0</td>\n",
              "      <td>0</td>\n",
              "      <td>0</td>\n",
              "      <td>0</td>\n",
              "      <td>0</td>\n",
              "      <td>1</td>\n",
              "      <td>1</td>\n",
              "      <td>0</td>\n",
              "      <td>0</td>\n",
              "      <td>0</td>\n",
              "      <td>0</td>\n",
              "      <td>0</td>\n",
              "      <td>0</td>\n",
              "      <td>0</td>\n",
              "      <td>0</td>\n",
              "      <td>0</td>\n",
              "      <td>0</td>\n",
              "      <td>0</td>\n",
              "      <td>0</td>\n",
              "      <td>0</td>\n",
              "      <td>0</td>\n",
              "      <td>0</td>\n",
              "      <td>0</td>\n",
              "      <td>1</td>\n",
              "      <td>0</td>\n",
              "      <td>0</td>\n",
              "      <td>0</td>\n",
              "      <td>0</td>\n",
              "      <td>0</td>\n",
              "      <td>0</td>\n",
              "      <td>1</td>\n",
              "      <td>0</td>\n",
              "      <td>0</td>\n",
              "      <td>0</td>\n",
              "      <td>0</td>\n",
              "      <td>1</td>\n",
              "    </tr>\n",
              "    <tr>\n",
              "      <th>2</th>\n",
              "      <td>3</td>\n",
              "      <td>0</td>\n",
              "      <td>0</td>\n",
              "      <td>0</td>\n",
              "      <td>1</td>\n",
              "      <td>0</td>\n",
              "      <td>0</td>\n",
              "      <td>0</td>\n",
              "      <td>0</td>\n",
              "      <td>1</td>\n",
              "      <td>0</td>\n",
              "      <td>0</td>\n",
              "      <td>0</td>\n",
              "      <td>0</td>\n",
              "      <td>0</td>\n",
              "      <td>0</td>\n",
              "      <td>0</td>\n",
              "      <td>0</td>\n",
              "      <td>0</td>\n",
              "      <td>0</td>\n",
              "      <td>0</td>\n",
              "      <td>0</td>\n",
              "      <td>0</td>\n",
              "      <td>0</td>\n",
              "      <td>0</td>\n",
              "      <td>0</td>\n",
              "      <td>0</td>\n",
              "      <td>0</td>\n",
              "      <td>0</td>\n",
              "      <td>0</td>\n",
              "      <td>0</td>\n",
              "      <td>0</td>\n",
              "      <td>0</td>\n",
              "      <td>0</td>\n",
              "      <td>0</td>\n",
              "      <td>0</td>\n",
              "      <td>0</td>\n",
              "      <td>0</td>\n",
              "      <td>0</td>\n",
              "      <td>0</td>\n",
              "      <td>...</td>\n",
              "      <td>0</td>\n",
              "      <td>0</td>\n",
              "      <td>0</td>\n",
              "      <td>0</td>\n",
              "      <td>0</td>\n",
              "      <td>0</td>\n",
              "      <td>1</td>\n",
              "      <td>0</td>\n",
              "      <td>0</td>\n",
              "      <td>1</td>\n",
              "      <td>1</td>\n",
              "      <td>0</td>\n",
              "      <td>0</td>\n",
              "      <td>0</td>\n",
              "      <td>0</td>\n",
              "      <td>0</td>\n",
              "      <td>0</td>\n",
              "      <td>0</td>\n",
              "      <td>0</td>\n",
              "      <td>0</td>\n",
              "      <td>0</td>\n",
              "      <td>0</td>\n",
              "      <td>0</td>\n",
              "      <td>0</td>\n",
              "      <td>0</td>\n",
              "      <td>0</td>\n",
              "      <td>0</td>\n",
              "      <td>1</td>\n",
              "      <td>0</td>\n",
              "      <td>0</td>\n",
              "      <td>0</td>\n",
              "      <td>0</td>\n",
              "      <td>0</td>\n",
              "      <td>0</td>\n",
              "      <td>0</td>\n",
              "      <td>0</td>\n",
              "      <td>0</td>\n",
              "      <td>0</td>\n",
              "      <td>0</td>\n",
              "      <td>1</td>\n",
              "    </tr>\n",
              "    <tr>\n",
              "      <th>3</th>\n",
              "      <td>4</td>\n",
              "      <td>0</td>\n",
              "      <td>0</td>\n",
              "      <td>0</td>\n",
              "      <td>1</td>\n",
              "      <td>1</td>\n",
              "      <td>0</td>\n",
              "      <td>0</td>\n",
              "      <td>0</td>\n",
              "      <td>0</td>\n",
              "      <td>0</td>\n",
              "      <td>0</td>\n",
              "      <td>0</td>\n",
              "      <td>0</td>\n",
              "      <td>0</td>\n",
              "      <td>0</td>\n",
              "      <td>0</td>\n",
              "      <td>0</td>\n",
              "      <td>0</td>\n",
              "      <td>0</td>\n",
              "      <td>0</td>\n",
              "      <td>0</td>\n",
              "      <td>0</td>\n",
              "      <td>0</td>\n",
              "      <td>0</td>\n",
              "      <td>0</td>\n",
              "      <td>0</td>\n",
              "      <td>0</td>\n",
              "      <td>0</td>\n",
              "      <td>0</td>\n",
              "      <td>0</td>\n",
              "      <td>0</td>\n",
              "      <td>0</td>\n",
              "      <td>0</td>\n",
              "      <td>0</td>\n",
              "      <td>0</td>\n",
              "      <td>0</td>\n",
              "      <td>0</td>\n",
              "      <td>0</td>\n",
              "      <td>0</td>\n",
              "      <td>...</td>\n",
              "      <td>0</td>\n",
              "      <td>0</td>\n",
              "      <td>0</td>\n",
              "      <td>0</td>\n",
              "      <td>0</td>\n",
              "      <td>0</td>\n",
              "      <td>1</td>\n",
              "      <td>0</td>\n",
              "      <td>0</td>\n",
              "      <td>1</td>\n",
              "      <td>1</td>\n",
              "      <td>0</td>\n",
              "      <td>0</td>\n",
              "      <td>0</td>\n",
              "      <td>0</td>\n",
              "      <td>0</td>\n",
              "      <td>0</td>\n",
              "      <td>0</td>\n",
              "      <td>0</td>\n",
              "      <td>0</td>\n",
              "      <td>0</td>\n",
              "      <td>0</td>\n",
              "      <td>0</td>\n",
              "      <td>0</td>\n",
              "      <td>0</td>\n",
              "      <td>0</td>\n",
              "      <td>0</td>\n",
              "      <td>1</td>\n",
              "      <td>0</td>\n",
              "      <td>0</td>\n",
              "      <td>0</td>\n",
              "      <td>0</td>\n",
              "      <td>0</td>\n",
              "      <td>0</td>\n",
              "      <td>1</td>\n",
              "      <td>0</td>\n",
              "      <td>0</td>\n",
              "      <td>0</td>\n",
              "      <td>0</td>\n",
              "      <td>1</td>\n",
              "    </tr>\n",
              "    <tr>\n",
              "      <th>4</th>\n",
              "      <td>3</td>\n",
              "      <td>0</td>\n",
              "      <td>0</td>\n",
              "      <td>0</td>\n",
              "      <td>1</td>\n",
              "      <td>0</td>\n",
              "      <td>0</td>\n",
              "      <td>0</td>\n",
              "      <td>0</td>\n",
              "      <td>0</td>\n",
              "      <td>0</td>\n",
              "      <td>0</td>\n",
              "      <td>0</td>\n",
              "      <td>0</td>\n",
              "      <td>0</td>\n",
              "      <td>0</td>\n",
              "      <td>1</td>\n",
              "      <td>0</td>\n",
              "      <td>0</td>\n",
              "      <td>0</td>\n",
              "      <td>0</td>\n",
              "      <td>0</td>\n",
              "      <td>0</td>\n",
              "      <td>0</td>\n",
              "      <td>0</td>\n",
              "      <td>0</td>\n",
              "      <td>0</td>\n",
              "      <td>0</td>\n",
              "      <td>0</td>\n",
              "      <td>0</td>\n",
              "      <td>0</td>\n",
              "      <td>0</td>\n",
              "      <td>0</td>\n",
              "      <td>0</td>\n",
              "      <td>0</td>\n",
              "      <td>0</td>\n",
              "      <td>0</td>\n",
              "      <td>0</td>\n",
              "      <td>0</td>\n",
              "      <td>0</td>\n",
              "      <td>...</td>\n",
              "      <td>0</td>\n",
              "      <td>0</td>\n",
              "      <td>0</td>\n",
              "      <td>0</td>\n",
              "      <td>0</td>\n",
              "      <td>0</td>\n",
              "      <td>0</td>\n",
              "      <td>0</td>\n",
              "      <td>0</td>\n",
              "      <td>0</td>\n",
              "      <td>1</td>\n",
              "      <td>0</td>\n",
              "      <td>0</td>\n",
              "      <td>0</td>\n",
              "      <td>0</td>\n",
              "      <td>0</td>\n",
              "      <td>1</td>\n",
              "      <td>0</td>\n",
              "      <td>0</td>\n",
              "      <td>0</td>\n",
              "      <td>0</td>\n",
              "      <td>0</td>\n",
              "      <td>0</td>\n",
              "      <td>0</td>\n",
              "      <td>0</td>\n",
              "      <td>0</td>\n",
              "      <td>0</td>\n",
              "      <td>0</td>\n",
              "      <td>0</td>\n",
              "      <td>0</td>\n",
              "      <td>0</td>\n",
              "      <td>0</td>\n",
              "      <td>0</td>\n",
              "      <td>1</td>\n",
              "      <td>0</td>\n",
              "      <td>0</td>\n",
              "      <td>0</td>\n",
              "      <td>0</td>\n",
              "      <td>0</td>\n",
              "      <td>1</td>\n",
              "    </tr>\n",
              "  </tbody>\n",
              "</table>\n",
              "<p>5 rows × 176 columns</p>\n",
              "</div>"
            ],
            "text/plain": [
              "   Age_Group  ...  Emergency_Department_Indicator_Y\n",
              "0          1  ...                                 1\n",
              "1          4  ...                                 1\n",
              "2          3  ...                                 1\n",
              "3          4  ...                                 1\n",
              "4          3  ...                                 1\n",
              "\n",
              "[5 rows x 176 columns]"
            ]
          },
          "metadata": {
            "tags": []
          },
          "execution_count": 8
        }
      ]
    },
    {
      "cell_type": "code",
      "metadata": {
        "id": "bBUQrkr-m4V1"
      },
      "source": [
        "y=df['length_groups']"
      ],
      "execution_count": 9,
      "outputs": []
    },
    {
      "cell_type": "markdown",
      "metadata": {
        "id": "VpqmzDeBs39I"
      },
      "source": [
        "Apply Random Forest Classifier"
      ]
    },
    {
      "cell_type": "code",
      "metadata": {
        "id": "7-xmCiIaaYx3"
      },
      "source": [
        "X_train, X_test, y_train, y_test = train_test_split(X, y, test_size=.2, random_state=1)"
      ],
      "execution_count": 10,
      "outputs": []
    },
    {
      "cell_type": "code",
      "metadata": {
        "id": "uzjs3nlMaYx4"
      },
      "source": [
        "rf = RandomForestClassifier(random_state = 1)\n",
        "model = rf.fit(X_train, y_train)\n",
        "y_pred = model.predict(X_test)"
      ],
      "execution_count": 11,
      "outputs": []
    },
    {
      "cell_type": "code",
      "metadata": {
        "colab": {
          "base_uri": "https://localhost:8080/"
        },
        "id": "dIORussDaYx4",
        "outputId": "a57372d1-ba63-4448-9290-3499bd14dc6e"
      },
      "source": [
        "rf.score(X_test,y_test)\n",
        "\n"
      ],
      "execution_count": 12,
      "outputs": [
        {
          "output_type": "execute_result",
          "data": {
            "text/plain": [
              "0.9055575735561205"
            ]
          },
          "metadata": {
            "tags": []
          },
          "execution_count": 12
        }
      ]
    },
    {
      "cell_type": "code",
      "metadata": {
        "colab": {
          "base_uri": "https://localhost:8080/",
          "height": 638
        },
        "id": "e-WMtu3baYx4",
        "outputId": "d2668d0f-f0dd-482f-b233-e1d6736f686c"
      },
      "source": [
        "feature_importance = rf.feature_importances_\n",
        "# make importances relative to max importance\n",
        "feature_importance = 100.0 * (feature_importance / feature_importance.max())[:30]\n",
        "sorted_idx = np.argsort(feature_importance)[:30]\n",
        "\n",
        "pos = np.arange(sorted_idx.shape[0]) + .5\n",
        "print(pos.size)\n",
        "sorted_idx.size\n",
        "plt.figure(figsize=(10,10))\n",
        "plt.barh(pos, feature_importance[sorted_idx], align='center')\n",
        "plt.yticks(pos, X.columns[sorted_idx])\n",
        "plt.xlabel('Relative Importance')\n",
        "plt.title('Variable Importance')\n",
        "plt.show()"
      ],
      "execution_count": 14,
      "outputs": [
        {
          "output_type": "stream",
          "text": [
            "30\n"
          ],
          "name": "stdout"
        },
        {
          "output_type": "display_data",
          "data": {
            "image/png": "[encoded data removed]",
            "text/plain": [
              "<Figure size 720x720 with 1 Axes>"
            ]
          },
          "metadata": {
            "tags": [],
            "needs_background": "light"
          }
        }
      ]
    },
    {
      "cell_type": "markdown",
      "metadata": {
        "id": "MaFl4mN3tA8q"
      },
      "source": [
        "Apply Logistic Regression"
      ]
    },
    {
      "cell_type": "code",
      "metadata": {
        "id": "gxfjpu3Ozgh8",
        "colab": {
          "base_uri": "https://localhost:8080/"
        },
        "outputId": "3d344bca-99f5-4984-efe9-69e25e5365a5"
      },
      "source": [
        "\r\n",
        "X_train, X_test, y_train, y_test = train_test_split(X, y, random_state=42)\r\n",
        "pipe = make_pipeline(StandardScaler(), LogisticRegression())\r\n",
        "pipe.fit(X_train, y_train) \r\n",
        "pipe.score(X_test, y_test)\r\n"
      ],
      "execution_count": 15,
      "outputs": [
        {
          "output_type": "stream",
          "text": [
            "/usr/local/lib/python3.6/dist-packages/sklearn/linear_model/_logistic.py:940: ConvergenceWarning: lbfgs failed to converge (status=1):\n",
            "STOP: TOTAL NO. of ITERATIONS REACHED LIMIT.\n",
            "\n",
            "Increase the number of iterations (max_iter) or scale the data as shown in:\n",
            "    https://scikit-learn.org/stable/modules/preprocessing.html\n",
            "Please also refer to the documentation for alternative solver options:\n",
            "    https://scikit-learn.org/stable/modules/linear_model.html#logistic-regression\n",
            "  extra_warning_msg=_LOGISTIC_SOLVER_CONVERGENCE_MSG)\n"
          ],
          "name": "stderr"
        },
        {
          "output_type": "execute_result",
          "data": {
            "text/plain": [
              "0.9180470793374019"
            ]
          },
          "metadata": {
            "tags": []
          },
          "execution_count": 15
        }
      ]
    },
    {
      "cell_type": "code",
      "metadata": {
        "colab": {
          "base_uri": "https://localhost:8080/"
        },
        "id": "gimQeIMK0iea",
        "outputId": "06ef0981-79d1-4850-d93f-2d2f22c1644a"
      },
      "source": [
        "y_pred = pipe.predict(X_test)\r\n",
        "# Compute and print R^2 and RMSE\r\n",
        "print(\"R^2: {}\".format(pipe.score(X_test, y_test)))\r\n",
        "rmse = np.sqrt(mean_squared_error(y_test,y_pred))\r\n",
        "print(\"Root Mean Squared Error: {}\".format(rmse))"
      ],
      "execution_count": 16,
      "outputs": [
        {
          "output_type": "stream",
          "text": [
            "R^2: 0.9180470793374019\n",
            "Root Mean Squared Error: 0.35432315721449553\n"
          ],
          "name": "stdout"
        }
      ]
    },
    {
      "cell_type": "code",
      "metadata": {
        "colab": {
          "base_uri": "https://localhost:8080/"
        },
        "id": "9aBNBuyO3lIc",
        "outputId": "6677543c-fd37-40cc-fb0c-6790c37c8f31"
      },
      "source": [
        "from sklearn.tree import DecisionTreeClassifier\r\n",
        "from sklearn.model_selection import RandomizedSearchCV\r\n",
        "dtree = DecisionTreeClassifier(class_weight='balanced')\r\n",
        "search_vals = dict(max_depth=[35,50,75,100], max_leaf_nodes=[800,1000,1500,2000])\r\n",
        "dtree_search = RandomizedSearchCV(dtree, search_vals, cv=3)\r\n",
        "search = dtree_search.fit(X_train,y_train)\r\n",
        "search.best_params_"
      ],
      "execution_count": 18,
      "outputs": [
        {
          "output_type": "execute_result",
          "data": {
            "text/plain": [
              "{'max_depth': 100, 'max_leaf_nodes': 2000}"
            ]
          },
          "metadata": {
            "tags": []
          },
          "execution_count": 18
        }
      ]
    },
    {
      "cell_type": "code",
      "metadata": {
        "id": "wNamL61_vMtj"
      },
      "source": [
        "#define cross-validation method to evaluate model\r\n",
        "cv = RepeatedKFold(n_splits=10, n_repeats=3, random_state=1)"
      ],
      "execution_count": 17,
      "outputs": []
    }
  ]
}