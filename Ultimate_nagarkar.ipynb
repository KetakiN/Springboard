{
  "nbformat": 4,
  "nbformat_minor": 0,
  "metadata": {
    "colab": {
      "name": "Ultimate_nagarkar.ipynb",
      "provenance": [],
      "authorship_tag": "ABX9TyMqA9EOnUVBEtuwnBmNFkhO"
    },
    "kernelspec": {
      "name": "python3",
      "display_name": "Python 3"
    },
    "language_info": {
      "name": "python"
    }
  },
  "cells": [
    {
      "cell_type": "code",
      "metadata": {
        "id": "XpcFNEXQjWBy"
      },
      "source": [
        "import pandas as pd\n",
        "import numpy as np"
      ],
      "execution_count": 2,
      "outputs": []
    },
    {
      "cell_type": "code",
      "metadata": {
        "id": "YZ8zKqlWb2lb"
      },
      "source": [
        "import seaborn as sns\n",
        "import matplotlib.pyplot as plt"
      ],
      "execution_count": 3,
      "outputs": []
    },
    {
      "cell_type": "code",
      "metadata": {
        "id": "9FK0t_E1KnAg"
      },
      "source": [
        "from sklearn.metrics import classification_report, accuracy_score,f1_score,roc_auc_score,roc_curve"
      ],
      "execution_count": 4,
      "outputs": []
    },
    {
      "cell_type": "code",
      "metadata": {
        "id": "IWNOiGrZ4cmi"
      },
      "source": [
        "\n",
        "df=pd.read_json (r'/content/sample_data/logins.json',convert_dates=True)"
      ],
      "execution_count": null,
      "outputs": []
    },
    {
      "cell_type": "code",
      "metadata": {
        "id": "t49V7D8643xE"
      },
      "source": [
        "df.index=df['login_time']"
      ],
      "execution_count": null,
      "outputs": []
    },
    {
      "cell_type": "code",
      "metadata": {
        "colab": {
          "base_uri": "https://localhost:8080/"
        },
        "id": "tj8xK6y95nJ9",
        "outputId": "1fd21127-c699-4b6d-d1ad-bdcfb182ef76"
      },
      "source": [
        "df.dtypes"
      ],
      "execution_count": null,
      "outputs": [
        {
          "output_type": "execute_result",
          "data": {
            "text/plain": [
              "login_time    datetime64[ns]\n",
              "dtype: object"
            ]
          },
          "metadata": {
            "tags": []
          },
          "execution_count": 23
        }
      ]
    },
    {
      "cell_type": "code",
      "metadata": {
        "colab": {
          "base_uri": "https://localhost:8080/"
        },
        "id": "JrOnY_Ig571b",
        "outputId": "fcc56b3e-303a-4781-abb7-1a7a0cf9cc56"
      },
      "source": [
        "df.isnull().sum()"
      ],
      "execution_count": null,
      "outputs": [
        {
          "output_type": "execute_result",
          "data": {
            "text/plain": [
              "login_time    0\n",
              "dtype: int64"
            ]
          },
          "metadata": {
            "tags": []
          },
          "execution_count": 24
        }
      ]
    },
    {
      "cell_type": "code",
      "metadata": {
        "id": "vfkufZHQ6U8C"
      },
      "source": [
        "df['Year']=pd.DatetimeIndex(df['login_time']).year"
      ],
      "execution_count": null,
      "outputs": []
    },
    {
      "cell_type": "code",
      "metadata": {
        "id": "C_8QzLxV6UQy"
      },
      "source": [
        "df['Month']=pd.DatetimeIndex(df['login_time']).month"
      ],
      "execution_count": null,
      "outputs": []
    },
    {
      "cell_type": "code",
      "metadata": {
        "id": "UYhLX8aM7ZFr"
      },
      "source": [
        "df['Minute']=pd.DatetimeIndex(df['login_time']).minute"
      ],
      "execution_count": null,
      "outputs": []
    },
    {
      "cell_type": "code",
      "metadata": {
        "colab": {
          "base_uri": "https://localhost:8080/",
          "height": 235
        },
        "id": "qFfxd4QD8KN8",
        "outputId": "5d01c8af-06e8-487a-c6a6-b2152601fddf"
      },
      "source": [
        "df.head()"
      ],
      "execution_count": null,
      "outputs": [
        {
          "output_type": "execute_result",
          "data": {
            "text/html": [
              "<div>\n",
              "<style scoped>\n",
              "    .dataframe tbody tr th:only-of-type {\n",
              "        vertical-align: middle;\n",
              "    }\n",
              "\n",
              "    .dataframe tbody tr th {\n",
              "        vertical-align: top;\n",
              "    }\n",
              "\n",
              "    .dataframe thead th {\n",
              "        text-align: right;\n",
              "    }\n",
              "</style>\n",
              "<table border=\"1\" class=\"dataframe\">\n",
              "  <thead>\n",
              "    <tr style=\"text-align: right;\">\n",
              "      <th></th>\n",
              "      <th>login_time</th>\n",
              "      <th>Year</th>\n",
              "      <th>Month</th>\n",
              "      <th>Minute</th>\n",
              "    </tr>\n",
              "    <tr>\n",
              "      <th>login_time</th>\n",
              "      <th></th>\n",
              "      <th></th>\n",
              "      <th></th>\n",
              "      <th></th>\n",
              "    </tr>\n",
              "  </thead>\n",
              "  <tbody>\n",
              "    <tr>\n",
              "      <th>1970-01-01 20:13:18</th>\n",
              "      <td>1970-01-01 20:13:18</td>\n",
              "      <td>1970</td>\n",
              "      <td>1</td>\n",
              "      <td>13</td>\n",
              "    </tr>\n",
              "    <tr>\n",
              "      <th>1970-01-01 20:16:10</th>\n",
              "      <td>1970-01-01 20:16:10</td>\n",
              "      <td>1970</td>\n",
              "      <td>1</td>\n",
              "      <td>16</td>\n",
              "    </tr>\n",
              "    <tr>\n",
              "      <th>1970-01-01 20:16:37</th>\n",
              "      <td>1970-01-01 20:16:37</td>\n",
              "      <td>1970</td>\n",
              "      <td>1</td>\n",
              "      <td>16</td>\n",
              "    </tr>\n",
              "    <tr>\n",
              "      <th>1970-01-01 20:16:36</th>\n",
              "      <td>1970-01-01 20:16:36</td>\n",
              "      <td>1970</td>\n",
              "      <td>1</td>\n",
              "      <td>16</td>\n",
              "    </tr>\n",
              "    <tr>\n",
              "      <th>1970-01-01 20:26:21</th>\n",
              "      <td>1970-01-01 20:26:21</td>\n",
              "      <td>1970</td>\n",
              "      <td>1</td>\n",
              "      <td>26</td>\n",
              "    </tr>\n",
              "  </tbody>\n",
              "</table>\n",
              "</div>"
            ],
            "text/plain": [
              "                             login_time  Year  Month  Minute\n",
              "login_time                                                  \n",
              "1970-01-01 20:13:18 1970-01-01 20:13:18  1970      1      13\n",
              "1970-01-01 20:16:10 1970-01-01 20:16:10  1970      1      16\n",
              "1970-01-01 20:16:37 1970-01-01 20:16:37  1970      1      16\n",
              "1970-01-01 20:16:36 1970-01-01 20:16:36  1970      1      16\n",
              "1970-01-01 20:26:21 1970-01-01 20:26:21  1970      1      26"
            ]
          },
          "metadata": {
            "tags": []
          },
          "execution_count": 28
        }
      ]
    },
    {
      "cell_type": "code",
      "metadata": {
        "colab": {
          "base_uri": "https://localhost:8080/"
        },
        "id": "GlNhOEnH8XlK",
        "outputId": "a05642fe-5b74-4fac-fc1c-7b6d79564a12"
      },
      "source": [
        "df.Year.unique()"
      ],
      "execution_count": null,
      "outputs": [
        {
          "output_type": "execute_result",
          "data": {
            "text/plain": [
              "array([1970])"
            ]
          },
          "metadata": {
            "tags": []
          },
          "execution_count": 29
        }
      ]
    },
    {
      "cell_type": "code",
      "metadata": {
        "colab": {
          "base_uri": "https://localhost:8080/"
        },
        "id": "J0U_F4HX8cMF",
        "outputId": "85492dab-8d52-4812-c480-5811676ec066"
      },
      "source": [
        "df.Month.unique()"
      ],
      "execution_count": null,
      "outputs": [
        {
          "output_type": "execute_result",
          "data": {
            "text/plain": [
              "array([1, 2, 3, 4])"
            ]
          },
          "metadata": {
            "tags": []
          },
          "execution_count": 30
        }
      ]
    },
    {
      "cell_type": "code",
      "metadata": {
        "id": "rNqH0M8E8gZK"
      },
      "source": [
        "df['count']=1"
      ],
      "execution_count": null,
      "outputs": []
    },
    {
      "cell_type": "code",
      "metadata": {
        "id": "gNkZTyo5Ok3e"
      },
      "source": [
        "df_agg=df.resample('15T', on='login_time')['count'].sum().reset_index()"
      ],
      "execution_count": null,
      "outputs": []
    },
    {
      "cell_type": "code",
      "metadata": {
        "colab": {
          "base_uri": "https://localhost:8080/",
          "height": 204
        },
        "id": "p4Fx31KWO5eV",
        "outputId": "d073083e-bff1-4b14-dff5-505f8c739624"
      },
      "source": [
        "df_agg.head()"
      ],
      "execution_count": null,
      "outputs": [
        {
          "output_type": "execute_result",
          "data": {
            "text/html": [
              "<div>\n",
              "<style scoped>\n",
              "    .dataframe tbody tr th:only-of-type {\n",
              "        vertical-align: middle;\n",
              "    }\n",
              "\n",
              "    .dataframe tbody tr th {\n",
              "        vertical-align: top;\n",
              "    }\n",
              "\n",
              "    .dataframe thead th {\n",
              "        text-align: right;\n",
              "    }\n",
              "</style>\n",
              "<table border=\"1\" class=\"dataframe\">\n",
              "  <thead>\n",
              "    <tr style=\"text-align: right;\">\n",
              "      <th></th>\n",
              "      <th>login_time</th>\n",
              "      <th>count</th>\n",
              "    </tr>\n",
              "  </thead>\n",
              "  <tbody>\n",
              "    <tr>\n",
              "      <th>0</th>\n",
              "      <td>1970-01-01 20:00:00</td>\n",
              "      <td>2</td>\n",
              "    </tr>\n",
              "    <tr>\n",
              "      <th>1</th>\n",
              "      <td>1970-01-01 20:15:00</td>\n",
              "      <td>6</td>\n",
              "    </tr>\n",
              "    <tr>\n",
              "      <th>2</th>\n",
              "      <td>1970-01-01 20:30:00</td>\n",
              "      <td>9</td>\n",
              "    </tr>\n",
              "    <tr>\n",
              "      <th>3</th>\n",
              "      <td>1970-01-01 20:45:00</td>\n",
              "      <td>7</td>\n",
              "    </tr>\n",
              "    <tr>\n",
              "      <th>4</th>\n",
              "      <td>1970-01-01 21:00:00</td>\n",
              "      <td>1</td>\n",
              "    </tr>\n",
              "  </tbody>\n",
              "</table>\n",
              "</div>"
            ],
            "text/plain": [
              "           login_time  count\n",
              "0 1970-01-01 20:00:00      2\n",
              "1 1970-01-01 20:15:00      6\n",
              "2 1970-01-01 20:30:00      9\n",
              "3 1970-01-01 20:45:00      7\n",
              "4 1970-01-01 21:00:00      1"
            ]
          },
          "metadata": {
            "tags": []
          },
          "execution_count": 44
        }
      ]
    },
    {
      "cell_type": "code",
      "metadata": {
        "colab": {
          "base_uri": "https://localhost:8080/",
          "height": 337
        },
        "id": "4HFpd3t7Swh-",
        "outputId": "3a76d9a5-cd38-449f-ef1c-f49f9577ebcd"
      },
      "source": [
        "plt.plot(df_agg['login_time'],df_agg['count'])\n",
        "plt.xticks(rotation=45)"
      ],
      "execution_count": null,
      "outputs": [
        {
          "output_type": "execute_result",
          "data": {
            "text/plain": [
              "(array([719163., 719177., 719194., 719208., 719222., 719236., 719253.,\n",
              "        719267.]), <a list of 8 Text major ticklabel objects>)"
            ]
          },
          "metadata": {
            "tags": []
          },
          "execution_count": 65
        },
        {
          "output_type": "display_data",
          "data": {
            "image/png": "[encoded data removed]",
            "text/plain": [
              "<Figure size 432x288 with 1 Axes>"
            ]
          },
          "metadata": {
            "tags": [],
            "needs_background": "light"
          }
        }
      ]
    },
    {
      "cell_type": "code",
      "metadata": {
        "id": "j3eWopQRT8sM"
      },
      "source": [
        "y=df_agg['count']"
      ],
      "execution_count": null,
      "outputs": []
    },
    {
      "cell_type": "code",
      "metadata": {
        "colab": {
          "base_uri": "https://localhost:8080/",
          "height": 337
        },
        "id": "EWb0wI25TtPw",
        "outputId": "2e25bfdb-fad1-4eba-a78f-01f353cf9a9a"
      },
      "source": [
        "#plotting the weekly average (24*7)\n",
        "y_smooth=y.rolling(168).mean()\n",
        "plt.plot(df_agg['login_time'],y_smooth)\n",
        "plt.xticks(rotation=45)"
      ],
      "execution_count": null,
      "outputs": [
        {
          "output_type": "execute_result",
          "data": {
            "text/plain": [
              "(array([719163., 719177., 719194., 719208., 719222., 719236., 719253.,\n",
              "        719267.]), <a list of 8 Text major ticklabel objects>)"
            ]
          },
          "metadata": {
            "tags": []
          },
          "execution_count": 69
        },
        {
          "output_type": "display_data",
          "data": {
            "image/png": "[encoded data removed]",
            "text/plain": [
              "<Figure size 432x288 with 1 Axes>"
            ]
          },
          "metadata": {
            "tags": [],
            "needs_background": "light"
          }
        }
      ]
    },
    {
      "cell_type": "code",
      "metadata": {
        "colab": {
          "base_uri": "https://localhost:8080/",
          "height": 266
        },
        "id": "PfzAFro7843I",
        "outputId": "bd70a637-8632-4ea9-a098-aca8c04d36a3"
      },
      "source": [
        "# Count by weekday, 0 = Monday, 6 = Sunday\n",
        "df_agg['weekday'] = df_agg['login_time'].dt.dayofweek\n",
        "df_weekday = df_agg.sort_values(by='count', ascending=False)\n",
        "weekday_counts = df_weekday[['count', 'weekday']]\n",
        "weekday_counts = weekday_counts.groupby('weekday').sum().reset_index()\n",
        "weekday_counts"
      ],
      "execution_count": null,
      "outputs": [
        {
          "output_type": "execute_result",
          "data": {
            "text/html": [
              "<div>\n",
              "<style scoped>\n",
              "    .dataframe tbody tr th:only-of-type {\n",
              "        vertical-align: middle;\n",
              "    }\n",
              "\n",
              "    .dataframe tbody tr th {\n",
              "        vertical-align: top;\n",
              "    }\n",
              "\n",
              "    .dataframe thead th {\n",
              "        text-align: right;\n",
              "    }\n",
              "</style>\n",
              "<table border=\"1\" class=\"dataframe\">\n",
              "  <thead>\n",
              "    <tr style=\"text-align: right;\">\n",
              "      <th></th>\n",
              "      <th>weekday</th>\n",
              "      <th>count</th>\n",
              "    </tr>\n",
              "  </thead>\n",
              "  <tbody>\n",
              "    <tr>\n",
              "      <th>0</th>\n",
              "      <td>0</td>\n",
              "      <td>8823</td>\n",
              "    </tr>\n",
              "    <tr>\n",
              "      <th>1</th>\n",
              "      <td>1</td>\n",
              "      <td>9268</td>\n",
              "    </tr>\n",
              "    <tr>\n",
              "      <th>2</th>\n",
              "      <td>2</td>\n",
              "      <td>10339</td>\n",
              "    </tr>\n",
              "    <tr>\n",
              "      <th>3</th>\n",
              "      <td>3</td>\n",
              "      <td>11960</td>\n",
              "    </tr>\n",
              "    <tr>\n",
              "      <th>4</th>\n",
              "      <td>4</td>\n",
              "      <td>15208</td>\n",
              "    </tr>\n",
              "    <tr>\n",
              "      <th>5</th>\n",
              "      <td>5</td>\n",
              "      <td>19377</td>\n",
              "    </tr>\n",
              "    <tr>\n",
              "      <th>6</th>\n",
              "      <td>6</td>\n",
              "      <td>18167</td>\n",
              "    </tr>\n",
              "  </tbody>\n",
              "</table>\n",
              "</div>"
            ],
            "text/plain": [
              "   weekday  count\n",
              "0        0   8823\n",
              "1        1   9268\n",
              "2        2  10339\n",
              "3        3  11960\n",
              "4        4  15208\n",
              "5        5  19377\n",
              "6        6  18167"
            ]
          },
          "metadata": {
            "tags": []
          },
          "execution_count": 46
        }
      ]
    },
    {
      "cell_type": "code",
      "metadata": {
        "id": "q2ShQZMBQmuU"
      },
      "source": [
        "import matplotlib.pyplot as plt\n",
        "import seaborn as sns"
      ],
      "execution_count": null,
      "outputs": []
    },
    {
      "cell_type": "code",
      "metadata": {
        "colab": {
          "base_uri": "https://localhost:8080/",
          "height": 295
        },
        "id": "OtJ0jH6WPzlF",
        "outputId": "149e03e8-61c4-4dda-e986-aef5ecb1c7eb"
      },
      "source": [
        "sns.barplot(x='weekday',y='count',data=weekday_counts)\n",
        "plt.title('sum of count by day of the week')\n",
        "plt.show()"
      ],
      "execution_count": null,
      "outputs": [
        {
          "output_type": "display_data",
          "data": {
            "image/png": "[encoded data removed]",
            "text/plain": [
              "<Figure size 432x288 with 1 Axes>"
            ]
          },
          "metadata": {
            "tags": [],
            "needs_background": "light"
          }
        }
      ]
    },
    {
      "cell_type": "markdown",
      "metadata": {
        "id": "Tci0Vtd9Pc5U"
      },
      "source": [
        "Discussion: Saturday seems to be the most popular time for user logins. the weekly rolling average indicates spikes and dips in monthly activity with a increase in activity end of march and april."
      ]
    },
    {
      "cell_type": "markdown",
      "metadata": {
        "id": "dWT7KIVNWOPc"
      },
      "source": [
        "# Ultimate Gotham and Metropolis cities challenge:\n",
        "Q1: . What would you choose as the key measure of success of this experiment in\n",
        "encouraging driver partners to serve both cities, and why would you choose this metric?\n",
        "\n",
        "Answer1:\n",
        "check for mean number of tolls/cars of partner drivers passed going into Gotham and mean number of tolls used/cars of partner drivers passed going in to Metropolis in the daytime and then again in the night time\n",
        "\n",
        "\n",
        "\n"
      ]
    },
    {
      "cell_type": "markdown",
      "metadata": {
        "id": "wsJS8AieYNjf"
      },
      "source": [
        "Q2: Describe a practical experiment you would design to compare the effectiveness of the\n",
        "proposed change in relation to the key measure of success. Please provide details on:\n",
        "\n",
        "a. how you will implement the experiment\n",
        "\n",
        "Answer a: Assumptions: data of toll use is availible for partner drivers, population variance is unknown and sample size is small.\n",
        "\n",
        "Collect this data and check for number of drivers going into gotham during the day Gotham_day, and the night, Gotham_night. In the same manner check for  number of drivers going into Metropolis during the day, Metro_day and going into the Metropolis at night, Metro_night\n",
        "\n",
        "Check for numbers of all these four groups pre-change(Gotham_day, Gotham_night, Metro_day, Metro_night) before the proposed change\n",
        "\n",
        "Check for mean numbers of all these four groups post-change(Gotham_day, Gotham_night, Metro_day, Metro_night) after the proposed change\n",
        "\n",
        "\n",
        "\n",
        "\n",
        "b. what statistical test(s) you will conduct to verify the significance of the\n",
        "observation\n",
        "\n",
        "Test 1 Check for statsistical difference of means using a t-test for each group checking between pre and post intervention\n",
        "Test 2 Check for statistical difference of means using an t-test between pre-change Gotham_day and Metro_day and post change\n",
        "Test 3 Check for statistical difference of means using an t-test between pre-change Gotham_night and Metro_night and post change\n",
        "\n",
        "\n",
        "c. how you would interpret the results and provide recommendations to the city\n",
        "operations team along with any caveats.\n",
        "\n",
        "Test 1: for a positive result after implementing the process change, the Gotham_day group should have an increase in number in the post-change versus a pre-change, and check for statistical difference of means(*). The Metro_day group should have a drop in number in the post change and *, the Gotham_night group should have a drop in number and *, and the Metro_night group should have an increase in number and *. If the changes are not as expected, this will be relayed to the authorities and recommnedations made to improve the process\n",
        "\n",
        "Test 2 and Test 3: there shoudld be a difference in means pre-change between Metro_night and Gotham_night groups, also between Metro_day and Gotham_day groups.\n",
        "Post change, if the process change was succcessful, there should be little to no difference in means in the two group sets. If the numbers are not as expected, the rationale behind the results will be explained goals will be set to improve the process.\n",
        "\n",
        "\n"
      ]
    },
    {
      "cell_type": "markdown",
      "metadata": {
        "id": "BGzYdG8ejR4U"
      },
      "source": [
        "#Part 3 ‑ Predictive modeling"
      ]
    },
    {
      "cell_type": "markdown",
      "metadata": {
        "id": "t8ng4XPDjMbQ"
      },
      "source": [
        "Part 3 ‑ Predictive modeling\n",
        "Ultimate is interested in predicting rider retention. To help explore this question, we have\n",
        "provided a sample dataset of a cohort of users who signed up for an Ultimate account inJanuary 2014. The data was pulled several months later; we consider a user retained if they\n",
        "were “active” (i.e. took a trip) in the preceding 30 days.\n",
        "We would like you to use this data set to help understand what factors are the best predictors\n",
        "for retention, and offer suggestions to operationalize those insights to help Ultimate.\n",
        "The data is in the attached file ultimate_data_challenge.json. See below for a detailed\n",
        "description of the dataset. Please include any code you wrote for the analysis and delete the\n",
        "dataset when you have finished with the challenge.\n",
        "1. Perform any cleaning, exploratory analysis, and/or visualizations to use the provided\n",
        "data for this analysis (a few sentences/plots describing your approach will suffice). What\n",
        "fraction of the observed users were retained?\n",
        "2. Build a predictive model to help Ultimate determine whether or not a user will be active\n",
        "in their 6th month on the system. Discuss why you chose your approach, what\n",
        "alternatives you considered, and any concerns you have. How valid is your model?\n",
        "Include any key indicators of model performance.\n",
        "3. Briefly discuss how Ultimate might leverage the insights gained from the model to\n",
        "improve its long­term rider retention (again, a few sentences will suffice).\n",
        "Data description\n",
        "● city: city this user signed up in\n",
        "● phone: primary device for this user\n",
        "● signup_date: date of account registration; in the form ‘YYYYMMDD’\n",
        "● last_trip_date: the last time this user completed a trip; in the form ‘YYYYMMDD’\n",
        "● avg_dist: the average distance in miles per trip taken in the first 30 days after signup\n",
        "● avg_rating_by_driver: the rider’s average rating over all of their trips\n",
        "● avg_rating_of_driver: the rider’s average rating of their drivers over all of their trips\n",
        "● surge_pct: the percent of trips taken with surge multiplier > 1\n",
        "● avg_surge: The average surge multiplier over all of this user’s trips\n",
        "● trips_in_first_30_days: the number of trips this user took in the first 30 days after\n",
        "signing up\n",
        "● ultimate_black_user: TRUE if the user took an Ultimate Black in their first 30 days;\n",
        "FALSE otherwise\n",
        "● weekday_pct: the percent of the user’s trips occurring during a weekda"
      ]
    },
    {
      "cell_type": "code",
      "metadata": {
        "id": "vNY2ZWeGmfs_"
      },
      "source": [
        "df=pd.read_json(r'/content/sample_data/ultimate_data_challenge.json',convert_dates=True)"
      ],
      "execution_count": 5,
      "outputs": []
    },
    {
      "cell_type": "code",
      "metadata": {
        "id": "so1cX57mpq1m"
      },
      "source": [
        "from datetime import datetime,timedelta\n",
        "\n",
        "\t\n"
      ],
      "execution_count": 6,
      "outputs": []
    },
    {
      "cell_type": "code",
      "metadata": {
        "colab": {
          "base_uri": "https://localhost:8080/",
          "height": 258
        },
        "id": "YhWkv8nXmovS",
        "outputId": "6b6a6666-70cd-4cc7-ffd1-3ff4e0e24ce3"
      },
      "source": [
        "df.head()"
      ],
      "execution_count": 7,
      "outputs": [
        {
          "output_type": "execute_result",
          "data": {
            "text/html": [
              "<div>\n",
              "<style scoped>\n",
              "    .dataframe tbody tr th:only-of-type {\n",
              "        vertical-align: middle;\n",
              "    }\n",
              "\n",
              "    .dataframe tbody tr th {\n",
              "        vertical-align: top;\n",
              "    }\n",
              "\n",
              "    .dataframe thead th {\n",
              "        text-align: right;\n",
              "    }\n",
              "</style>\n",
              "<table border=\"1\" class=\"dataframe\">\n",
              "  <thead>\n",
              "    <tr style=\"text-align: right;\">\n",
              "      <th></th>\n",
              "      <th>city</th>\n",
              "      <th>trips_in_first_30_days</th>\n",
              "      <th>signup_date</th>\n",
              "      <th>avg_rating_of_driver</th>\n",
              "      <th>avg_surge</th>\n",
              "      <th>last_trip_date</th>\n",
              "      <th>phone</th>\n",
              "      <th>surge_pct</th>\n",
              "      <th>ultimate_black_user</th>\n",
              "      <th>weekday_pct</th>\n",
              "      <th>avg_dist</th>\n",
              "      <th>avg_rating_by_driver</th>\n",
              "    </tr>\n",
              "  </thead>\n",
              "  <tbody>\n",
              "    <tr>\n",
              "      <th>0</th>\n",
              "      <td>King's Landing</td>\n",
              "      <td>4</td>\n",
              "      <td>2014-01-25</td>\n",
              "      <td>4.7</td>\n",
              "      <td>1.10</td>\n",
              "      <td>2014-06-17</td>\n",
              "      <td>iPhone</td>\n",
              "      <td>15.4</td>\n",
              "      <td>True</td>\n",
              "      <td>46.2</td>\n",
              "      <td>3.67</td>\n",
              "      <td>5.0</td>\n",
              "    </tr>\n",
              "    <tr>\n",
              "      <th>1</th>\n",
              "      <td>Astapor</td>\n",
              "      <td>0</td>\n",
              "      <td>2014-01-29</td>\n",
              "      <td>5.0</td>\n",
              "      <td>1.00</td>\n",
              "      <td>2014-05-05</td>\n",
              "      <td>Android</td>\n",
              "      <td>0.0</td>\n",
              "      <td>False</td>\n",
              "      <td>50.0</td>\n",
              "      <td>8.26</td>\n",
              "      <td>5.0</td>\n",
              "    </tr>\n",
              "    <tr>\n",
              "      <th>2</th>\n",
              "      <td>Astapor</td>\n",
              "      <td>3</td>\n",
              "      <td>2014-01-06</td>\n",
              "      <td>4.3</td>\n",
              "      <td>1.00</td>\n",
              "      <td>2014-01-07</td>\n",
              "      <td>iPhone</td>\n",
              "      <td>0.0</td>\n",
              "      <td>False</td>\n",
              "      <td>100.0</td>\n",
              "      <td>0.77</td>\n",
              "      <td>5.0</td>\n",
              "    </tr>\n",
              "    <tr>\n",
              "      <th>3</th>\n",
              "      <td>King's Landing</td>\n",
              "      <td>9</td>\n",
              "      <td>2014-01-10</td>\n",
              "      <td>4.6</td>\n",
              "      <td>1.14</td>\n",
              "      <td>2014-06-29</td>\n",
              "      <td>iPhone</td>\n",
              "      <td>20.0</td>\n",
              "      <td>True</td>\n",
              "      <td>80.0</td>\n",
              "      <td>2.36</td>\n",
              "      <td>4.9</td>\n",
              "    </tr>\n",
              "    <tr>\n",
              "      <th>4</th>\n",
              "      <td>Winterfell</td>\n",
              "      <td>14</td>\n",
              "      <td>2014-01-27</td>\n",
              "      <td>4.4</td>\n",
              "      <td>1.19</td>\n",
              "      <td>2014-03-15</td>\n",
              "      <td>Android</td>\n",
              "      <td>11.8</td>\n",
              "      <td>False</td>\n",
              "      <td>82.4</td>\n",
              "      <td>3.13</td>\n",
              "      <td>4.9</td>\n",
              "    </tr>\n",
              "  </tbody>\n",
              "</table>\n",
              "</div>"
            ],
            "text/plain": [
              "             city  trips_in_first_30_days  ... avg_dist  avg_rating_by_driver\n",
              "0  King's Landing                       4  ...     3.67                   5.0\n",
              "1         Astapor                       0  ...     8.26                   5.0\n",
              "2         Astapor                       3  ...     0.77                   5.0\n",
              "3  King's Landing                       9  ...     2.36                   4.9\n",
              "4      Winterfell                      14  ...     3.13                   4.9\n",
              "\n",
              "[5 rows x 12 columns]"
            ]
          },
          "metadata": {
            "tags": []
          },
          "execution_count": 7
        }
      ]
    },
    {
      "cell_type": "code",
      "metadata": {
        "colab": {
          "base_uri": "https://localhost:8080/"
        },
        "id": "EaELIVJnqCn6",
        "outputId": "978f16c5-d5f6-4add-bceb-4ad30cffa318"
      },
      "source": [
        "df.dtypes"
      ],
      "execution_count": 5,
      "outputs": [
        {
          "output_type": "execute_result",
          "data": {
            "text/plain": [
              "city                       object\n",
              "trips_in_first_30_days      int64\n",
              "signup_date                object\n",
              "avg_rating_of_driver      float64\n",
              "avg_surge                 float64\n",
              "last_trip_date             object\n",
              "phone                      object\n",
              "surge_pct                 float64\n",
              "ultimate_black_user          bool\n",
              "weekday_pct               float64\n",
              "avg_dist                  float64\n",
              "avg_rating_by_driver      float64\n",
              "dtype: object"
            ]
          },
          "metadata": {
            "tags": []
          },
          "execution_count": 5
        }
      ]
    },
    {
      "cell_type": "code",
      "metadata": {
        "colab": {
          "base_uri": "https://localhost:8080/"
        },
        "id": "zjaSrPXrSx8I",
        "outputId": "35c9deff-8991-4443-9046-d92c18da18ea"
      },
      "source": [
        "df.shape"
      ],
      "execution_count": 7,
      "outputs": [
        {
          "output_type": "execute_result",
          "data": {
            "text/plain": [
              "(50000, 12)"
            ]
          },
          "metadata": {
            "tags": []
          },
          "execution_count": 7
        }
      ]
    },
    {
      "cell_type": "code",
      "metadata": {
        "id": "6YREZNLrqHx9"
      },
      "source": [
        "df['signup_date']=pd.to_datetime(df['signup_date'])"
      ],
      "execution_count": 8,
      "outputs": []
    },
    {
      "cell_type": "code",
      "metadata": {
        "id": "_wsg-eK-qyJO"
      },
      "source": [
        "df['last_trip_date']=pd.to_datetime(df['last_trip_date'])"
      ],
      "execution_count": 9,
      "outputs": []
    },
    {
      "cell_type": "markdown",
      "metadata": {
        "id": "0CANTFc8TE1s"
      },
      "source": [
        "#What fraction of the observed users were retained?"
      ]
    },
    {
      "cell_type": "code",
      "metadata": {
        "id": "8PamvjRGq82T"
      },
      "source": [
        "# determine which user is active: if they were “active” (i.e. took a trip) in the preceding 30 days.\n",
        "# find the most recent date the data was collected\n",
        "last_data_date=df['last_trip_date'].max()"
      ],
      "execution_count": 10,
      "outputs": []
    },
    {
      "cell_type": "code",
      "metadata": {
        "colab": {
          "base_uri": "https://localhost:8080/"
        },
        "id": "dUfMkq66TaQQ",
        "outputId": "21dda884-fe6c-49cf-ae83-907e59c6a2a8"
      },
      "source": [
        "print(last_data_date)"
      ],
      "execution_count": 11,
      "outputs": [
        {
          "output_type": "stream",
          "text": [
            "2014-07-01 00:00:00\n"
          ],
          "name": "stdout"
        }
      ]
    },
    {
      "cell_type": "code",
      "metadata": {
        "id": "Tomn73UGTddx"
      },
      "source": [
        "# find active users who had a trip in the last 30 days from the last_data_date\n",
        "last_thirty = last_data_date - timedelta(days=30)\n",
        "df['active_user'] =(df.last_trip_date>last_thirty).astype('int')\n",
        "\n"
      ],
      "execution_count": 12,
      "outputs": []
    },
    {
      "cell_type": "code",
      "metadata": {
        "colab": {
          "base_uri": "https://localhost:8080/",
          "height": 258
        },
        "id": "2JVAPxrNbDcD",
        "outputId": "e578a65e-54d1-4262-c512-e312726a45fe"
      },
      "source": [
        "df.head()"
      ],
      "execution_count": 38,
      "outputs": [
        {
          "output_type": "execute_result",
          "data": {
            "text/html": [
              "<div>\n",
              "<style scoped>\n",
              "    .dataframe tbody tr th:only-of-type {\n",
              "        vertical-align: middle;\n",
              "    }\n",
              "\n",
              "    .dataframe tbody tr th {\n",
              "        vertical-align: top;\n",
              "    }\n",
              "\n",
              "    .dataframe thead th {\n",
              "        text-align: right;\n",
              "    }\n",
              "</style>\n",
              "<table border=\"1\" class=\"dataframe\">\n",
              "  <thead>\n",
              "    <tr style=\"text-align: right;\">\n",
              "      <th></th>\n",
              "      <th>city</th>\n",
              "      <th>trips_in_first_30_days</th>\n",
              "      <th>signup_date</th>\n",
              "      <th>avg_rating_of_driver</th>\n",
              "      <th>avg_surge</th>\n",
              "      <th>last_trip_date</th>\n",
              "      <th>phone</th>\n",
              "      <th>surge_pct</th>\n",
              "      <th>ultimate_black_user</th>\n",
              "      <th>weekday_pct</th>\n",
              "      <th>avg_dist</th>\n",
              "      <th>avg_rating_by_driver</th>\n",
              "      <th>active_user</th>\n",
              "    </tr>\n",
              "  </thead>\n",
              "  <tbody>\n",
              "    <tr>\n",
              "      <th>0</th>\n",
              "      <td>King's Landing</td>\n",
              "      <td>4</td>\n",
              "      <td>2014-01-25</td>\n",
              "      <td>4.7</td>\n",
              "      <td>1.10</td>\n",
              "      <td>2014-06-17</td>\n",
              "      <td>iPhone</td>\n",
              "      <td>15.4</td>\n",
              "      <td>True</td>\n",
              "      <td>46.2</td>\n",
              "      <td>3.67</td>\n",
              "      <td>5.0</td>\n",
              "      <td>1</td>\n",
              "    </tr>\n",
              "    <tr>\n",
              "      <th>1</th>\n",
              "      <td>Astapor</td>\n",
              "      <td>0</td>\n",
              "      <td>2014-01-29</td>\n",
              "      <td>5.0</td>\n",
              "      <td>1.00</td>\n",
              "      <td>2014-05-05</td>\n",
              "      <td>Android</td>\n",
              "      <td>0.0</td>\n",
              "      <td>False</td>\n",
              "      <td>50.0</td>\n",
              "      <td>8.26</td>\n",
              "      <td>5.0</td>\n",
              "      <td>0</td>\n",
              "    </tr>\n",
              "    <tr>\n",
              "      <th>2</th>\n",
              "      <td>Astapor</td>\n",
              "      <td>3</td>\n",
              "      <td>2014-01-06</td>\n",
              "      <td>4.3</td>\n",
              "      <td>1.00</td>\n",
              "      <td>2014-01-07</td>\n",
              "      <td>iPhone</td>\n",
              "      <td>0.0</td>\n",
              "      <td>False</td>\n",
              "      <td>100.0</td>\n",
              "      <td>0.77</td>\n",
              "      <td>5.0</td>\n",
              "      <td>0</td>\n",
              "    </tr>\n",
              "    <tr>\n",
              "      <th>3</th>\n",
              "      <td>King's Landing</td>\n",
              "      <td>9</td>\n",
              "      <td>2014-01-10</td>\n",
              "      <td>4.6</td>\n",
              "      <td>1.14</td>\n",
              "      <td>2014-06-29</td>\n",
              "      <td>iPhone</td>\n",
              "      <td>20.0</td>\n",
              "      <td>True</td>\n",
              "      <td>80.0</td>\n",
              "      <td>2.36</td>\n",
              "      <td>4.9</td>\n",
              "      <td>1</td>\n",
              "    </tr>\n",
              "    <tr>\n",
              "      <th>4</th>\n",
              "      <td>Winterfell</td>\n",
              "      <td>14</td>\n",
              "      <td>2014-01-27</td>\n",
              "      <td>4.4</td>\n",
              "      <td>1.19</td>\n",
              "      <td>2014-03-15</td>\n",
              "      <td>Android</td>\n",
              "      <td>11.8</td>\n",
              "      <td>False</td>\n",
              "      <td>82.4</td>\n",
              "      <td>3.13</td>\n",
              "      <td>4.9</td>\n",
              "      <td>0</td>\n",
              "    </tr>\n",
              "  </tbody>\n",
              "</table>\n",
              "</div>"
            ],
            "text/plain": [
              "             city  trips_in_first_30_days  ... avg_rating_by_driver  active_user\n",
              "0  King's Landing                       4  ...                  5.0            1\n",
              "1         Astapor                       0  ...                  5.0            0\n",
              "2         Astapor                       3  ...                  5.0            0\n",
              "3  King's Landing                       9  ...                  4.9            1\n",
              "4      Winterfell                      14  ...                  4.9            0\n",
              "\n",
              "[5 rows x 13 columns]"
            ]
          },
          "metadata": {
            "tags": []
          },
          "execution_count": 38
        }
      ]
    },
    {
      "cell_type": "code",
      "metadata": {
        "id": "XGa--FCicG1v"
      },
      "source": [
        "df['count']=1\n"
      ],
      "execution_count": 13,
      "outputs": []
    },
    {
      "cell_type": "code",
      "metadata": {
        "id": "JjuDdA_LcJjy"
      },
      "source": [
        "user_fraction=df.groupby('active_user')['count'].sum().reset_index()"
      ],
      "execution_count": 14,
      "outputs": []
    },
    {
      "cell_type": "code",
      "metadata": {
        "colab": {
          "base_uri": "https://localhost:8080/",
          "height": 297
        },
        "id": "N-mTb3b_bSzK",
        "outputId": "166aa3ce-7af3-4c63-ff86-0b7e6b8f89f8"
      },
      "source": [
        "# fraction of observed users retained\n",
        "sns.barplot(x='active_user', y='count',data=user_fraction)"
      ],
      "execution_count": 15,
      "outputs": [
        {
          "output_type": "execute_result",
          "data": {
            "text/plain": [
              "<matplotlib.axes._subplots.AxesSubplot at 0x7fbd306c8550>"
            ]
          },
          "metadata": {
            "tags": []
          },
          "execution_count": 15
        },
        {
          "output_type": "display_data",
          "data": {
            "image/png": "[encoded data removed]",
            "text/plain": [
              "<Figure size 432x288 with 1 Axes>"
            ]
          },
          "metadata": {
            "tags": [],
            "needs_background": "light"
          }
        }
      ]
    },
    {
      "cell_type": "code",
      "metadata": {
        "id": "YIkHgbCRcpai"
      },
      "source": [
        "total_users=len(df)"
      ],
      "execution_count": 16,
      "outputs": []
    },
    {
      "cell_type": "code",
      "metadata": {
        "colab": {
          "base_uri": "https://localhost:8080/",
          "height": 111
        },
        "id": "InSIDWVOdBXD",
        "outputId": "c783ee43-097d-401f-fd33-51a25913d515"
      },
      "source": [
        "user_fraction"
      ],
      "execution_count": 17,
      "outputs": [
        {
          "output_type": "execute_result",
          "data": {
            "text/html": [
              "<div>\n",
              "<style scoped>\n",
              "    .dataframe tbody tr th:only-of-type {\n",
              "        vertical-align: middle;\n",
              "    }\n",
              "\n",
              "    .dataframe tbody tr th {\n",
              "        vertical-align: top;\n",
              "    }\n",
              "\n",
              "    .dataframe thead th {\n",
              "        text-align: right;\n",
              "    }\n",
              "</style>\n",
              "<table border=\"1\" class=\"dataframe\">\n",
              "  <thead>\n",
              "    <tr style=\"text-align: right;\">\n",
              "      <th></th>\n",
              "      <th>active_user</th>\n",
              "      <th>count</th>\n",
              "    </tr>\n",
              "  </thead>\n",
              "  <tbody>\n",
              "    <tr>\n",
              "      <th>0</th>\n",
              "      <td>0</td>\n",
              "      <td>31690</td>\n",
              "    </tr>\n",
              "    <tr>\n",
              "      <th>1</th>\n",
              "      <td>1</td>\n",
              "      <td>18310</td>\n",
              "    </tr>\n",
              "  </tbody>\n",
              "</table>\n",
              "</div>"
            ],
            "text/plain": [
              "   active_user  count\n",
              "0            0  31690\n",
              "1            1  18310"
            ]
          },
          "metadata": {
            "tags": []
          },
          "execution_count": 17
        }
      ]
    },
    {
      "cell_type": "code",
      "metadata": {
        "colab": {
          "base_uri": "https://localhost:8080/"
        },
        "id": "3xuYegstdSIA",
        "outputId": "c7545b50-9305-4411-f77f-3df30212db9c"
      },
      "source": [
        "active_fraction=18310/50000\n",
        "print('fraction of active users :{}'.format(active_fraction))\n",
        "percentage_active=active_fraction*100\n",
        "print('percentage of active users :{}%'.format(percentage_active))\n"
      ],
      "execution_count": 18,
      "outputs": [
        {
          "output_type": "stream",
          "text": [
            "fraction of active users :0.3662\n",
            "percentage of active users :36.620000000000005%\n"
          ],
          "name": "stdout"
        }
      ]
    },
    {
      "cell_type": "code",
      "metadata": {
        "id": "6oOTijh7dT64"
      },
      "source": [
        "# before modeling lets assess for any null values and impute as needed"
      ],
      "execution_count": 65,
      "outputs": []
    },
    {
      "cell_type": "code",
      "metadata": {
        "colab": {
          "base_uri": "https://localhost:8080/"
        },
        "id": "_AhlEWtKSsVU",
        "outputId": "4d43792e-20ae-400d-face-4ae2c9fd3738"
      },
      "source": [
        "df.isnull().sum()"
      ],
      "execution_count": 19,
      "outputs": [
        {
          "output_type": "execute_result",
          "data": {
            "text/plain": [
              "city                         0\n",
              "trips_in_first_30_days       0\n",
              "signup_date                  0\n",
              "avg_rating_of_driver      8122\n",
              "avg_surge                    0\n",
              "last_trip_date               0\n",
              "phone                      396\n",
              "surge_pct                    0\n",
              "ultimate_black_user          0\n",
              "weekday_pct                  0\n",
              "avg_dist                     0\n",
              "avg_rating_by_driver       201\n",
              "active_user                  0\n",
              "count                        0\n",
              "dtype: int64"
            ]
          },
          "metadata": {
            "tags": []
          },
          "execution_count": 19
        }
      ]
    },
    {
      "cell_type": "code",
      "metadata": {
        "id": "O__DfREtfHnw"
      },
      "source": [
        "df['avg_rating_of_driver'].fillna(int(df['avg_rating_of_driver'].mean()),inplace=True)"
      ],
      "execution_count": 20,
      "outputs": []
    },
    {
      "cell_type": "code",
      "metadata": {
        "id": "1X-2Bk2IgDx8"
      },
      "source": [
        "df['avg_rating_by_driver'].fillna(int(df['avg_rating_by_driver'].mean()),inplace=True)"
      ],
      "execution_count": 21,
      "outputs": []
    },
    {
      "cell_type": "code",
      "metadata": {
        "colab": {
          "base_uri": "https://localhost:8080/"
        },
        "id": "aTj-OAe3gEGS",
        "outputId": "8c98a1d0-b991-4f35-e994-57bd444fec0e"
      },
      "source": [
        "print(df.groupby('phone')['count'].sum().reset_index())"
      ],
      "execution_count": 22,
      "outputs": [
        {
          "output_type": "stream",
          "text": [
            "     phone  count\n",
            "0  Android  15022\n",
            "1   iPhone  34582\n"
          ],
          "name": "stdout"
        }
      ]
    },
    {
      "cell_type": "code",
      "metadata": {
        "id": "OaTB_TiThK11"
      },
      "source": [
        "df['phone']=df['phone'].fillna('Android')"
      ],
      "execution_count": 23,
      "outputs": []
    },
    {
      "cell_type": "code",
      "metadata": {
        "colab": {
          "base_uri": "https://localhost:8080/"
        },
        "id": "rSuYpah1gr17",
        "outputId": "cb891f64-be47-4dbe-aaf0-086ff9585877"
      },
      "source": [
        "df.isnull().sum()"
      ],
      "execution_count": 24,
      "outputs": [
        {
          "output_type": "execute_result",
          "data": {
            "text/plain": [
              "city                      0\n",
              "trips_in_first_30_days    0\n",
              "signup_date               0\n",
              "avg_rating_of_driver      0\n",
              "avg_surge                 0\n",
              "last_trip_date            0\n",
              "phone                     0\n",
              "surge_pct                 0\n",
              "ultimate_black_user       0\n",
              "weekday_pct               0\n",
              "avg_dist                  0\n",
              "avg_rating_by_driver      0\n",
              "active_user               0\n",
              "count                     0\n",
              "dtype: int64"
            ]
          },
          "metadata": {
            "tags": []
          },
          "execution_count": 24
        }
      ]
    },
    {
      "cell_type": "code",
      "metadata": {
        "id": "Ox4GUjYJhezC"
      },
      "source": [
        "# modeling to predict active users in the 6 month of the system\n",
        "# this is a binary classification model \n",
        "# independent variables have mixed data type , categorical and integer\n",
        "# target varaible class is imbalanced, we are interested in predicting the active user '1', which is the minority class,\n",
        "# we will look at the f1 metric of the positive class as a metric of comparison\n"
      ],
      "execution_count": null,
      "outputs": []
    },
    {
      "cell_type": "code",
      "metadata": {
        "id": "2Jv1OZ1Ci1nq"
      },
      "source": [
        "#find how many months, years have covered\n",
        "df['Year']=pd.DatetimeIndex(df['last_trip_date']).year"
      ],
      "execution_count": 25,
      "outputs": []
    },
    {
      "cell_type": "code",
      "metadata": {
        "id": "w0jKNagmjB2_"
      },
      "source": [
        "df['Month']=pd.DatetimeIndex(df['last_trip_date']).month"
      ],
      "execution_count": 26,
      "outputs": []
    },
    {
      "cell_type": "code",
      "metadata": {
        "colab": {
          "base_uri": "https://localhost:8080/"
        },
        "id": "iMhjsDbpjP__",
        "outputId": "11d21a2d-69e0-4cae-9b63-0a697140f3e5"
      },
      "source": [
        "df['Year'].unique()"
      ],
      "execution_count": 27,
      "outputs": [
        {
          "output_type": "execute_result",
          "data": {
            "text/plain": [
              "array([2014])"
            ]
          },
          "metadata": {
            "tags": []
          },
          "execution_count": 27
        }
      ]
    },
    {
      "cell_type": "code",
      "metadata": {
        "colab": {
          "base_uri": "https://localhost:8080/"
        },
        "id": "cCty878ojYZt",
        "outputId": "3de29c4d-df4f-41c9-ceac-465590831b2d"
      },
      "source": [
        "df['Month'].unique()"
      ],
      "execution_count": 28,
      "outputs": [
        {
          "output_type": "execute_result",
          "data": {
            "text/plain": [
              "array([6, 5, 1, 3, 2, 7, 4])"
            ]
          },
          "metadata": {
            "tags": []
          },
          "execution_count": 28
        }
      ]
    },
    {
      "cell_type": "code",
      "metadata": {
        "id": "AxaBnXFjnJ_2"
      },
      "source": [
        "X=df.drop(['active_user', 'count', 'Year', 'Month','signup_date','last_trip_date'],axis=1)"
      ],
      "execution_count": 52,
      "outputs": []
    },
    {
      "cell_type": "code",
      "metadata": {
        "colab": {
          "base_uri": "https://localhost:8080/"
        },
        "id": "HKwyesCPnohv",
        "outputId": "72472562-978d-47be-c7e0-1445f8e559a7"
      },
      "source": [
        "X.dtypes"
      ],
      "execution_count": 33,
      "outputs": [
        {
          "output_type": "execute_result",
          "data": {
            "text/plain": [
              "city                              object\n",
              "trips_in_first_30_days             int64\n",
              "signup_date               datetime64[ns]\n",
              "avg_rating_of_driver             float64\n",
              "avg_surge                        float64\n",
              "last_trip_date            datetime64[ns]\n",
              "phone                             object\n",
              "surge_pct                        float64\n",
              "ultimate_black_user                 bool\n",
              "weekday_pct                      float64\n",
              "avg_dist                         float64\n",
              "avg_rating_by_driver             float64\n",
              "dtype: object"
            ]
          },
          "metadata": {
            "tags": []
          },
          "execution_count": 33
        }
      ]
    },
    {
      "cell_type": "code",
      "metadata": {
        "id": "y8e53RJsnrOV"
      },
      "source": [
        "y=df['active_user']"
      ],
      "execution_count": 53,
      "outputs": []
    },
    {
      "cell_type": "code",
      "metadata": {
        "id": "QBOxRs5hnxvt"
      },
      "source": [
        "from sklearn.ensemble import RandomForestClassifier"
      ],
      "execution_count": 1,
      "outputs": []
    },
    {
      "cell_type": "code",
      "metadata": {
        "id": "WTjj8mQiKTEz"
      },
      "source": [
        "from sklearn.model_selection import train_test_split"
      ],
      "execution_count": 36,
      "outputs": []
    },
    {
      "cell_type": "code",
      "metadata": {
        "id": "emsODROBSVLC"
      },
      "source": [
        "# assign dummy varaibales to categorical data\n",
        "X=pd.get_dummies(X,drop_first=True)\n",
        "\n",
        "#split train test data\n",
        "X_train,X_test,y_train,y_test=train_test_split(X,y,test_size=0.2,random_state=1)\n",
        "\n",
        "\n"
      ],
      "execution_count": 54,
      "outputs": []
    },
    {
      "cell_type": "code",
      "metadata": {
        "id": "j8jJpz_Q7WK6"
      },
      "source": [
        "# fit the random forest classifier \n",
        "\n",
        "model = RandomForestClassifier()\n",
        "model.fit(X_train,y_train)\n",
        "y_pred = model.predict(X_test)\n",
        "\n"
      ],
      "execution_count": 55,
      "outputs": []
    },
    {
      "cell_type": "code",
      "metadata": {
        "id": "YqttgGKqYc8w"
      },
      "source": [
        "#predict probabilities\n",
        "yhat=model.predict_proba(X_test)"
      ],
      "execution_count": 56,
      "outputs": []
    },
    {
      "cell_type": "code",
      "metadata": {
        "id": "jRCsRbUZYVbP",
        "colab": {
          "base_uri": "https://localhost:8080/",
          "height": 128
        },
        "outputId": "cc91137a-dd64-47bc-8292-2d873c7d0b76"
      },
      "source": [
        "# Best threshold based on f1 score for positive class\n",
        "# apply threshold to positive probabilities to create labels\n",
        "def to_labels(pos_probs, threshold):\n",
        "\treturn (pos_probs >= threshold).astype('int')\n",
        " \n",
        "# keep probabilities for the positive outcome only\n",
        "probs = yhat[:, 1]\n",
        "# define thresholds\n",
        "thresholds = np.arange(0, 1, 0.001)\n",
        "# evaluate each threshold\n",
        "scores = [f1_score(y_test, to_labels(probs, t)) for t in thresholds]\n",
        "# get best threshold\n",
        "ix = np.argmax(scores)\n",
        "print('Threshold=%.3f, F-Score=%.5f' % (thresholds[ix], scores[ix]))\n",
        "# Best threshold for f1 score: THRESHOLD\n",
        "THRESHOLD=thresholds[ix]\n",
        "#Calculate predcitions on best threshold\n",
        "preds = np.where(model.predict_proba(X_test)[:,1] > THRESHOLD, 1, 0)\n",
        "\n",
        "pd.DataFrame(data=[accuracy_score(y_test, preds), roc_auc_score(y_test, preds)], index=[\"accuracy\", \"roc_auc_score\"])"
      ],
      "execution_count": 58,
      "outputs": [
        {
          "output_type": "stream",
          "text": [
            "Threshold=0.370, F-Score=0.68837\n"
          ],
          "name": "stdout"
        },
        {
          "output_type": "execute_result",
          "data": {
            "text/html": [
              "<div>\n",
              "<style scoped>\n",
              "    .dataframe tbody tr th:only-of-type {\n",
              "        vertical-align: middle;\n",
              "    }\n",
              "\n",
              "    .dataframe tbody tr th {\n",
              "        vertical-align: top;\n",
              "    }\n",
              "\n",
              "    .dataframe thead th {\n",
              "        text-align: right;\n",
              "    }\n",
              "</style>\n",
              "<table border=\"1\" class=\"dataframe\">\n",
              "  <thead>\n",
              "    <tr style=\"text-align: right;\">\n",
              "      <th></th>\n",
              "      <th>0</th>\n",
              "    </tr>\n",
              "  </thead>\n",
              "  <tbody>\n",
              "    <tr>\n",
              "      <th>accuracy</th>\n",
              "      <td>0.746100</td>\n",
              "    </tr>\n",
              "    <tr>\n",
              "      <th>roc_auc_score</th>\n",
              "      <td>0.746974</td>\n",
              "    </tr>\n",
              "  </tbody>\n",
              "</table>\n",
              "</div>"
            ],
            "text/plain": [
              "                      0\n",
              "accuracy       0.746100\n",
              "roc_auc_score  0.746974"
            ]
          },
          "metadata": {
            "tags": []
          },
          "execution_count": 58
        }
      ]
    },
    {
      "cell_type": "code",
      "metadata": {
        "colab": {
          "base_uri": "https://localhost:8080/"
        },
        "id": "0ohXSy2exxHa",
        "outputId": "c2ccfce4-77f6-45fe-ba6a-66211814c367"
      },
      "source": [
        "print(classification_report(y_test,preds))"
      ],
      "execution_count": 59,
      "outputs": [
        {
          "output_type": "stream",
          "text": [
            "              precision    recall  f1-score   support\n",
            "\n",
            "           0       0.83      0.74      0.79      6274\n",
            "           1       0.63      0.75      0.69      3726\n",
            "\n",
            "    accuracy                           0.75     10000\n",
            "   macro avg       0.73      0.75      0.74     10000\n",
            "weighted avg       0.76      0.75      0.75     10000\n",
            "\n"
          ],
          "name": "stdout"
        }
      ]
    },
    {
      "cell_type": "code",
      "metadata": {
        "colab": {
          "base_uri": "https://localhost:8080/",
          "height": 279
        },
        "id": "IRLpr97jaIFE",
        "outputId": "3991d2b2-3607-4216-c6ca-a5bfc4b5be43"
      },
      "source": [
        "#plot the ROC\n",
        "from matplotlib import pyplot\n",
        "# calculate roc curves\n",
        "fpr, tpr, thresholds = roc_curve(y_test, probs)\n",
        "# plot the roc curve for the model\n",
        "pyplot.plot([0,1], [0,1], linestyle='--', label='No Skill')\n",
        "pyplot.plot(fpr, tpr, marker='.', label='Random Forest')\n",
        "\n",
        "# axis labels\n",
        "pyplot.xlabel('False Positive Rate')\n",
        "pyplot.ylabel('True Positive Rate')\n",
        "pyplot.legend()\n",
        "# show the plot\n",
        "pyplot.show()"
      ],
      "execution_count": 60,
      "outputs": [
        {
          "output_type": "display_data",
          "data": {
            "image/png": "[encoded data removed]",
            "text/plain": [
              "<Figure size 432x288 with 1 Axes>"
            ]
          },
          "metadata": {
            "tags": [],
            "needs_background": "light"
          }
        }
      ]
    },
    {
      "cell_type": "code",
      "metadata": {
        "colab": {
          "base_uri": "https://localhost:8080/",
          "height": 638
        },
        "id": "Y1NA6yJA7uj8",
        "outputId": "897f7bc2-f86d-4f69-9815-547725319032"
      },
      "source": [
        "# Look at feature importance based on the random forest classifier\n",
        "feature_importance = model.feature_importances_\n",
        "# make importances relative to max importance\n",
        "feature_importance = 100.0 * (feature_importance / feature_importance.max())[:30]\n",
        "sorted_idx = np.argsort(feature_importance)[:30]\n",
        "\n",
        "pos = np.arange(sorted_idx.shape[0]) + .5\n",
        "print(pos.size)\n",
        "sorted_idx.size\n",
        "plt.figure(figsize=(10,10))\n",
        "plt.barh(pos, feature_importance[sorted_idx], align='center')\n",
        "plt.yticks(pos, X.columns[sorted_idx])\n",
        "plt.xlabel('Relative Importance')\n",
        "plt.title('Variable Importance')\n",
        "\n",
        "plt.show()\n"
      ],
      "execution_count": 62,
      "outputs": [
        {
          "output_type": "stream",
          "text": [
            "11\n"
          ],
          "name": "stdout"
        },
        {
          "output_type": "display_data",
          "data": {
            "image/png": "[encoded data removed]",
            "text/plain": [
              "<Figure size 720x720 with 1 Axes>"
            ]
          },
          "metadata": {
            "tags": [],
            "needs_background": "light"
          }
        }
      ]
    },
    {
      "cell_type": "markdown",
      "metadata": {
        "id": "aA7Jn-BrOo2l"
      },
      "source": [
        "Use the XG boost classifier"
      ]
    },
    {
      "cell_type": "code",
      "metadata": {
        "id": "mF37byJsnuk9"
      },
      "source": [
        "from xgboost import XGBClassifier"
      ],
      "execution_count": 63,
      "outputs": []
    },
    {
      "cell_type": "code",
      "metadata": {
        "id": "34Gy558TNqWe"
      },
      "source": [
        "model=XGBClassifier()"
      ],
      "execution_count": 65,
      "outputs": []
    },
    {
      "cell_type": "code",
      "metadata": {
        "id": "BlMPgmScN53N"
      },
      "source": [
        "model.fit(X_train,y_train)\n",
        "y_pred = model.predict(X_test)\n",
        "\n"
      ],
      "execution_count": 66,
      "outputs": []
    },
    {
      "cell_type": "code",
      "metadata": {
        "id": "SKQhZXI1N53Q"
      },
      "source": [
        "#predict probabilities\n",
        "yhat=model.predict_proba(X_test)"
      ],
      "execution_count": 67,
      "outputs": []
    },
    {
      "cell_type": "code",
      "metadata": {
        "colab": {
          "base_uri": "https://localhost:8080/",
          "height": 128
        },
        "id": "j3CEkVMVN53R",
        "outputId": "5937cef2-afca-4e78-fcf2-13e7cc1c069d"
      },
      "source": [
        "# Best threshold based on f1 score for positive class\n",
        "# apply threshold to positive probabilities to create labels\n",
        "def to_labels(pos_probs, threshold):\n",
        "\treturn (pos_probs >= threshold).astype('int')\n",
        " \n",
        "# keep probabilities for the positive outcome only\n",
        "probs = yhat[:, 1]\n",
        "# define thresholds\n",
        "thresholds = np.arange(0, 1, 0.001)\n",
        "# evaluate each threshold\n",
        "scores = [f1_score(y_test, to_labels(probs, t)) for t in thresholds]\n",
        "# get best threshold\n",
        "ix = np.argmax(scores)\n",
        "print('Threshold=%.3f, F-Score=%.5f' % (thresholds[ix], scores[ix]))\n",
        "# Best threshold for f1 score: THRESHOLD\n",
        "THRESHOLD=thresholds[ix]\n",
        "#Calculate predcitions on best threshold\n",
        "preds = np.where(model.predict_proba(X_test)[:,1] > THRESHOLD, 1, 0)\n",
        "\n",
        "pd.DataFrame(data=[accuracy_score(y_test, preds), roc_auc_score(y_test, preds)], index=[\"accuracy\", \"roc_auc_score\"])"
      ],
      "execution_count": 68,
      "outputs": [
        {
          "output_type": "stream",
          "text": [
            "Threshold=0.363, F-Score=0.71927\n"
          ],
          "name": "stdout"
        },
        {
          "output_type": "execute_result",
          "data": {
            "text/html": [
              "<div>\n",
              "<style scoped>\n",
              "    .dataframe tbody tr th:only-of-type {\n",
              "        vertical-align: middle;\n",
              "    }\n",
              "\n",
              "    .dataframe tbody tr th {\n",
              "        vertical-align: top;\n",
              "    }\n",
              "\n",
              "    .dataframe thead th {\n",
              "        text-align: right;\n",
              "    }\n",
              "</style>\n",
              "<table border=\"1\" class=\"dataframe\">\n",
              "  <thead>\n",
              "    <tr style=\"text-align: right;\">\n",
              "      <th></th>\n",
              "      <th>0</th>\n",
              "    </tr>\n",
              "  </thead>\n",
              "  <tbody>\n",
              "    <tr>\n",
              "      <th>accuracy</th>\n",
              "      <td>0.777300</td>\n",
              "    </tr>\n",
              "    <tr>\n",
              "      <th>roc_auc_score</th>\n",
              "      <td>0.774945</td>\n",
              "    </tr>\n",
              "  </tbody>\n",
              "</table>\n",
              "</div>"
            ],
            "text/plain": [
              "                      0\n",
              "accuracy       0.777300\n",
              "roc_auc_score  0.774945"
            ]
          },
          "metadata": {
            "tags": []
          },
          "execution_count": 68
        }
      ]
    },
    {
      "cell_type": "code",
      "metadata": {
        "colab": {
          "base_uri": "https://localhost:8080/"
        },
        "id": "ZzQi6D5UN53U",
        "outputId": "ea81c5cc-378c-4d98-ae46-5a58769e563e"
      },
      "source": [
        "print(classification_report(y_test,preds))"
      ],
      "execution_count": 69,
      "outputs": [
        {
          "output_type": "stream",
          "text": [
            "              precision    recall  f1-score   support\n",
            "\n",
            "           0       0.85      0.78      0.82      6274\n",
            "           1       0.68      0.77      0.72      3726\n",
            "\n",
            "    accuracy                           0.78     10000\n",
            "   macro avg       0.76      0.77      0.77     10000\n",
            "weighted avg       0.79      0.78      0.78     10000\n",
            "\n"
          ],
          "name": "stdout"
        }
      ]
    },
    {
      "cell_type": "code",
      "metadata": {
        "colab": {
          "base_uri": "https://localhost:8080/",
          "height": 279
        },
        "id": "A0mvAEe_N53W",
        "outputId": "02e9232e-c585-4cda-da09-bc667f8bbb9c"
      },
      "source": [
        "#plot the ROC\n",
        "from matplotlib import pyplot\n",
        "# calculate roc curves\n",
        "fpr, tpr, thresholds = roc_curve(y_test, probs)\n",
        "# plot the roc curve for the model\n",
        "pyplot.plot([0,1], [0,1], linestyle='--', label='No Skill')\n",
        "pyplot.plot(fpr, tpr, marker='.', label='XGBoost')\n",
        "\n",
        "# axis labels\n",
        "pyplot.xlabel('False Positive Rate')\n",
        "pyplot.ylabel('True Positive Rate')\n",
        "pyplot.legend()\n",
        "# show the plot\n",
        "pyplot.show()"
      ],
      "execution_count": 71,
      "outputs": [
        {
          "output_type": "display_data",
          "data": {
            "image/png": "[encoded data removed]",
            "text/plain": [
              "<Figure size 432x288 with 1 Axes>"
            ]
          },
          "metadata": {
            "tags": [],
            "needs_background": "light"
          }
        }
      ]
    },
    {
      "cell_type": "code",
      "metadata": {
        "colab": {
          "base_uri": "https://localhost:8080/",
          "height": 638
        },
        "id": "j7AjiAEdN53X",
        "outputId": "e1545860-0f6f-457d-e5fe-6bb2b837f9b5"
      },
      "source": [
        "# Look at feature importance based on the random forest classifier\n",
        "feature_importance = model.feature_importances_\n",
        "# make importances relative to max importance\n",
        "feature_importance = 100.0 * (feature_importance / feature_importance.max())[:30]\n",
        "sorted_idx = np.argsort(feature_importance)[:30]\n",
        "\n",
        "pos = np.arange(sorted_idx.shape[0]) + .5\n",
        "print(pos.size)\n",
        "sorted_idx.size\n",
        "plt.figure(figsize=(10,10))\n",
        "plt.barh(pos, feature_importance[sorted_idx], align='center')\n",
        "plt.yticks(pos, X.columns[sorted_idx])\n",
        "plt.xlabel('Relative Importance')\n",
        "plt.title('Variable Importance')\n",
        "\n",
        "plt.show()\n"
      ],
      "execution_count": 72,
      "outputs": [
        {
          "output_type": "stream",
          "text": [
            "11\n"
          ],
          "name": "stdout"
        },
        {
          "output_type": "display_data",
          "data": {
            "image/png": "[encoded data removed]",
            "text/plain": [
              "<Figure size 720x720 with 1 Axes>"
            ]
          },
          "metadata": {
            "tags": [],
            "needs_background": "light"
          }
        }
      ]
    },
    {
      "cell_type": "markdown",
      "metadata": {
        "id": "rBHC4I5RjWoa"
      },
      "source": [
        "Out of the two models, the XGBoost is the better model for predicting the active users, the f1 score of 0.72 was better as well as the accuracy score of 0.78 was better than the Random Forest Classifier model"
      ]
    },
    {
      "cell_type": "markdown",
      "metadata": {
        "id": "9FLiOg5SQ50c"
      },
      "source": [
        "city_King's landing is one of the features of importances, may be drivers that signup from this city are more likely to get retained, future marketing can be geared toward this location. average rating by driver is also a feature of importance, may be a survey would help undrestand why certain drivers gave higher ratings, and utilise the insights to improve retention."
      ]
    }
  ]
}