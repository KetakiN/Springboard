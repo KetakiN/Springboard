{
  "nbformat": 4,
  "nbformat_minor": 0,
  "metadata": {
    "colab": {
      "name": "NYSDOH_data_wrangling_pre_processing.ipynb",
      "provenance": [],
      "authorship_tag": "ABX9TyPME8lQvYXQVqtMCPEYGeXs",
      "include_colab_link": true
    },
    "kernelspec": {
      "name": "python3",
      "display_name": "Python 3"
    }
  },
  "cells": [
    {
      "cell_type": "markdown",
      "metadata": {
        "id": "view-in-github",
        "colab_type": "text"
      },
      "source": [
        "<a href=\"https://colab.research.google.com/github/KetakiN/Springboard/blob/main/NYSDOH_data_wrangling_pre_processing.ipynb\" target=\"_parent\"><img src=\"https://colab.research.google.com/assets/colab-badge.svg\" alt=\"Open In Colab\"/></a>"
      ]
    },
    {
      "cell_type": "code",
      "metadata": {
        "id": "c0lEWK_10sS6"
      },
      "source": [
        "import numpy as np\r\n",
        "import pandas as pd\r\n",
        "import matplotlib.pyplot as plt\r\n",
        "import seaborn as sns\r\n",
        "from wordcloud import WordCloud\r\n",
        "from google.colab import files"
      ],
      "execution_count": 80,
      "outputs": []
    },
    {
      "cell_type": "code",
      "metadata": {
        "id": "tHe-eacn1C3_"
      },
      "source": [
        "df=pd.read_csv('/content/sample_data/NYSDOH_clean2.csv')"
      ],
      "execution_count": 81,
      "outputs": []
    },
    {
      "cell_type": "code",
      "metadata": {
        "id": "p7O_NFgQ1G9C"
      },
      "source": [
        "df=df.drop(['Unnamed:_0','Unnamed: 0'],axis=1)"
      ],
      "execution_count": 82,
      "outputs": []
    },
    {
      "cell_type": "code",
      "metadata": {
        "colab": {
          "base_uri": "https://localhost:8080/"
        },
        "id": "ZQZEyPgALbl6",
        "outputId": "3d5ca19d-d393-4715-a039-68733be09b6a"
      },
      "source": [
        "df.columns"
      ],
      "execution_count": 83,
      "outputs": [
        {
          "output_type": "execute_result",
          "data": {
            "text/plain": [
              "Index(['Hospital_Service_Area', 'Hospital_County',\n",
              "       'Operating_Certificate_Number', 'Permanent_Facility_Id',\n",
              "       'Facility_Name', 'Age_Group', 'Zip_Code__3_digits', 'Gender', 'Race',\n",
              "       'Length_of_Stay', 'Type_of_Admission', 'Patient_Disposition',\n",
              "       'Discharge_Year', 'CCS_Diagnosis_Code', 'CCS_Diagnosis_Description',\n",
              "       'CCS_Procedure_Code', 'CCS_Procedure_Description', 'APR_DRG_Code',\n",
              "       'APR_DRG_Description', 'APR_MDC_Code', 'APR_MDC_Description',\n",
              "       'APR_Severity_of_Illness_Code', 'APR_Severity_of_Illness_Description',\n",
              "       'APR_Risk_of_Mortality', 'APR_Medical_Surgical_Description',\n",
              "       'Payment_Typology_1', 'Payment_Typology_2', 'Payment_Typology_3',\n",
              "       'Birth_Weight', 'Abortion_Edit_Indicator',\n",
              "       'Emergency_Department_Indicator', 'Total_Charges', 'Total_Costs',\n",
              "       'Ratio_of_Total_Costs_to_Total_Charges', 'Length_groups'],\n",
              "      dtype='object')"
            ]
          },
          "metadata": {
            "tags": []
          },
          "execution_count": 83
        }
      ]
    },
    {
      "cell_type": "code",
      "metadata": {
        "colab": {
          "base_uri": "https://localhost:8080/"
        },
        "id": "uibM-KsZLrMX",
        "outputId": "cbe3eaeb-56ed-4dc9-9366-aae08c8e698c"
      },
      "source": [
        "df.shape"
      ],
      "execution_count": 84,
      "outputs": [
        {
          "output_type": "execute_result",
          "data": {
            "text/plain": [
              "(118049, 35)"
            ]
          },
          "metadata": {
            "tags": []
          },
          "execution_count": 84
        }
      ]
    },
    {
      "cell_type": "code",
      "metadata": {
        "id": "gxvthJYaLm8s"
      },
      "source": [
        "# Drop columns that will not be relevant to predicting length of stay, will be repetitive of information in other columns,codes or status determined at discharge or toward discharge\r\n",
        "df=df.drop(['Operating_Certificate_Number', 'Permanent_Facility_Id','Patient_Disposition',\r\n",
        "       'Discharge_Year','APR_DRG_Code',\r\n",
        "       'APR_DRG_Description', 'APR_MDC_Code', 'APR_MDC_Description',\r\n",
        "       'APR_Severity_of_Illness_Code', 'APR_Severity_of_Illness_Description',\r\n",
        "       'APR_Risk_of_Mortality', 'APR_Medical_Surgical_Description','Payment_Typology_2', 'Payment_Typology_3',\r\n",
        "       'Birth_Weight', 'Abortion_Edit_Indicator','Total_Charges', 'Total_Costs',\r\n",
        "       'Ratio_of_Total_Costs_to_Total_Charges'],axis=1)"
      ],
      "execution_count": 85,
      "outputs": []
    },
    {
      "cell_type": "code",
      "metadata": {
        "colab": {
          "base_uri": "https://localhost:8080/"
        },
        "id": "asRibGp8MtJa",
        "outputId": "5390135e-2fbb-4c57-9f6e-ebd12232b6bf"
      },
      "source": [
        "df.columns"
      ],
      "execution_count": 86,
      "outputs": [
        {
          "output_type": "execute_result",
          "data": {
            "text/plain": [
              "Index(['Hospital_Service_Area', 'Hospital_County', 'Facility_Name',\n",
              "       'Age_Group', 'Zip_Code__3_digits', 'Gender', 'Race', 'Length_of_Stay',\n",
              "       'Type_of_Admission', 'CCS_Diagnosis_Code', 'CCS_Diagnosis_Description',\n",
              "       'CCS_Procedure_Code', 'CCS_Procedure_Description', 'Payment_Typology_1',\n",
              "       'Emergency_Department_Indicator', 'Length_groups'],\n",
              "      dtype='object')"
            ]
          },
          "metadata": {
            "tags": []
          },
          "execution_count": 86
        }
      ]
    },
    {
      "cell_type": "code",
      "metadata": {
        "colab": {
          "base_uri": "https://localhost:8080/",
          "height": 285
        },
        "id": "QscePrCU1RoS",
        "outputId": "5fcb11a4-af53-471b-a887-29d0613a9d34"
      },
      "source": [
        "sns.histplot(x=df['Length_of_Stay'],data=df)\r\n",
        "plt.show()"
      ],
      "execution_count": 87,
      "outputs": [
        {
          "output_type": "display_data",
          "data": {
            "image/png": "[encoded data removed]",
            "text/plain": [
              "<Figure size 432x288 with 1 Axes>"
            ]
          },
          "metadata": {
            "tags": []
          }
        }
      ]
    },
    {
      "cell_type": "code",
      "metadata": {
        "colab": {
          "base_uri": "https://localhost:8080/",
          "height": 274
        },
        "id": "ENWSDyLA9HNd",
        "outputId": "da4a9ed6-cde0-4674-baf9-b2d78aa34d61"
      },
      "source": [
        "bins = 3**(np.arange(0,6))\r\n",
        "\r\n",
        "data=df['Length_of_Stay']\r\n",
        "plt.hist(data,bins=bins) \r\n",
        "plt.xscale('log')"
      ],
      "execution_count": 88,
      "outputs": [
        {
          "output_type": "display_data",
          "data": {
            "image/png": "[encoded data removed]",
            "text/plain": [
              "<Figure size 432x288 with 1 Axes>"
            ]
          },
          "metadata": {
            "tags": []
          }
        }
      ]
    },
    {
      "cell_type": "code",
      "metadata": {
        "colab": {
          "base_uri": "https://localhost:8080/",
          "height": 318
        },
        "id": "1TKIludR-MGf",
        "outputId": "5d438404-8084-4ab6-c72b-88393179d07b"
      },
      "source": [
        "plt.hist(data,bins=20)\r\n",
        "plt.xlabel('Length of Stay')\r\n",
        "plt.ylabel('Count')\r\n",
        "plt.xlim(0,40)\r\n",
        "plt.title('Length of Stay Count')\r\n",
        "#plt.savefig('lenbar40.png')\r\n",
        "#files.download('lenbar40.png')"
      ],
      "execution_count": 89,
      "outputs": [
        {
          "output_type": "execute_result",
          "data": {
            "text/plain": [
              "Text(0.5, 1.0, 'Length of Stay Count')"
            ]
          },
          "metadata": {
            "tags": []
          },
          "execution_count": 89
        },
        {
          "output_type": "display_data",
          "data": {
            "image/png": "[encoded data removed]",
            "text/plain": [
              "<Figure size 432x288 with 1 Axes>"
            ]
          },
          "metadata": {
            "tags": []
          }
        }
      ]
    },
    {
      "cell_type": "code",
      "metadata": {
        "colab": {
          "base_uri": "https://localhost:8080/"
        },
        "id": "hEjrpNjX7YhW",
        "outputId": "59bdb4b1-0cce-4ece-bf47-3a90ef79c8c6"
      },
      "source": [
        "df.Length_of_Stay.describe()"
      ],
      "execution_count": 90,
      "outputs": [
        {
          "output_type": "execute_result",
          "data": {
            "text/plain": [
              "count    118049.000000\n",
              "mean          5.503537\n",
              "std           8.104633\n",
              "min           1.000000\n",
              "25%           2.000000\n",
              "50%           3.000000\n",
              "75%           6.000000\n",
              "max         120.000000\n",
              "Name: Length_of_Stay, dtype: float64"
            ]
          },
          "metadata": {
            "tags": []
          },
          "execution_count": 90
        }
      ]
    },
    {
      "cell_type": "code",
      "metadata": {
        "colab": {
          "base_uri": "https://localhost:8080/"
        },
        "id": "KhOkARva8W6T",
        "outputId": "6b3e7cdc-984e-4e8d-84f2-ee2e8f43fcb8"
      },
      "source": [
        "df.shape"
      ],
      "execution_count": 91,
      "outputs": [
        {
          "output_type": "execute_result",
          "data": {
            "text/plain": [
              "(118049, 16)"
            ]
          },
          "metadata": {
            "tags": []
          },
          "execution_count": 91
        }
      ]
    },
    {
      "cell_type": "code",
      "metadata": {
        "colab": {
          "base_uri": "https://localhost:8080/",
          "height": 355
        },
        "id": "DYJr6WUR7dJ9",
        "outputId": "b446b361-9373-4356-aec6-bc5b3c17d511"
      },
      "source": [
        "#Check with 5% outliers removed\r\n",
        "std=df['Length_of_Stay'].std()\r\n",
        "mean=df['Length_of_Stay'].mean()\r\n",
        "cutoff=std*3\r\n",
        "lower,upper=mean-cutoff,mean+cutoff\r\n",
        "trimmed_df=df[(df['Length_of_Stay']>lower)&(df['Length_of_Stay']<upper)]\r\n",
        "sns.boxplot(trimmed_df['Length_of_Stay'])\r\n",
        "plt.title('Length_of_stay(outliers removed)')\r\n",
        "#plt.savefig('box_length.png')\r\n",
        "\r\n",
        "plt.show()"
      ],
      "execution_count": 92,
      "outputs": [
        {
          "output_type": "stream",
          "text": [
            "/usr/local/lib/python3.7/dist-packages/seaborn/_decorators.py:43: FutureWarning: Pass the following variable as a keyword arg: x. From version 0.12, the only valid positional argument will be `data`, and passing other arguments without an explicit keyword will result in an error or misinterpretation.\n",
            "  FutureWarning\n"
          ],
          "name": "stderr"
        },
        {
          "output_type": "display_data",
          "data": {
            "image/png": "[encoded data removed]",
            "text/plain": [
              "<Figure size 432x288 with 1 Axes>"
            ]
          },
          "metadata": {
            "tags": []
          }
        }
      ]
    },
    {
      "cell_type": "code",
      "metadata": {
        "colab": {
          "base_uri": "https://localhost:8080/"
        },
        "id": "lPySZN258bA_",
        "outputId": "33645288-a470-433f-c733-9b08bb6545da"
      },
      "source": [
        "trimmed_df.Length_of_Stay.describe()"
      ],
      "execution_count": 93,
      "outputs": [
        {
          "output_type": "execute_result",
          "data": {
            "text/plain": [
              "count    116066.000000\n",
              "mean          4.733531\n",
              "std           4.637916\n",
              "min           1.000000\n",
              "25%           2.000000\n",
              "50%           3.000000\n",
              "75%           6.000000\n",
              "max          29.000000\n",
              "Name: Length_of_Stay, dtype: float64"
            ]
          },
          "metadata": {
            "tags": []
          },
          "execution_count": 93
        }
      ]
    },
    {
      "cell_type": "code",
      "metadata": {
        "id": "lAfMJ2hC2oEv"
      },
      "source": [
        "# Create length of stay bins, For 1 day: 24 hour stay, 2-5 days(below mean),\r\n",
        "# 6-20 days(above mean to 20),21 to 90 days(short term rehab hospital stay common durations) \r\n",
        "# and 90+ days(long term faciltities). The upper limits of the ranges were used\r\n",
        "bins=[-np.inf,1,5,20,90,np.inf]\r\n",
        "#bin labels\r\n",
        "labels=['0-1','2-5','6-20','21-90','91-120']\r\n",
        "df['length_groups']=pd.cut(df['Length_of_Stay'],bins,labels=labels)"
      ],
      "execution_count": 94,
      "outputs": []
    },
    {
      "cell_type": "code",
      "metadata": {
        "id": "RjGtbVm44hds",
        "colab": {
          "base_uri": "https://localhost:8080/",
          "height": 285
        },
        "outputId": "36bfea64-a469-4786-a1d7-23074f5c1345"
      },
      "source": [
        "sns.histplot(x=df['length_groups'])\r\n",
        "plt.show()"
      ],
      "execution_count": 95,
      "outputs": [
        {
          "output_type": "display_data",
          "data": {
            "image/png": "[encoded data removed]",
            "text/plain": [
              "<Figure size 432x288 with 1 Axes>"
            ]
          },
          "metadata": {
            "tags": []
          }
        }
      ]
    },
    {
      "cell_type": "code",
      "metadata": {
        "colab": {
          "base_uri": "https://localhost:8080/"
        },
        "id": "qanpp7Z5wxTP",
        "outputId": "86d574cd-ffbf-48dd-e1df-974e078f147b"
      },
      "source": [
        "df.length_groups.unique()"
      ],
      "execution_count": 96,
      "outputs": [
        {
          "output_type": "execute_result",
          "data": {
            "text/plain": [
              "['2-5', '6-20', '0-1', '21-90', '91-120']\n",
              "Categories (5, object): ['0-1' < '2-5' < '6-20' < '21-90' < '91-120']"
            ]
          },
          "metadata": {
            "tags": []
          },
          "execution_count": 96
        }
      ]
    },
    {
      "cell_type": "code",
      "metadata": {
        "id": "EBkUnBr76M8w",
        "colab": {
          "base_uri": "https://localhost:8080/"
        },
        "outputId": "a071d92c-d74d-4fef-c1e6-5b0633ca9c4e"
      },
      "source": [
        "# remap age groups\r\n",
        "df.Age_Group.unique()"
      ],
      "execution_count": 97,
      "outputs": [
        {
          "output_type": "execute_result",
          "data": {
            "text/plain": [
              "array(['30 to 49', '18 to 29', '0 to 17', '70 or Older', '50 to 69'],\n",
              "      dtype=object)"
            ]
          },
          "metadata": {
            "tags": []
          },
          "execution_count": 97
        }
      ]
    },
    {
      "cell_type": "code",
      "metadata": {
        "id": "ZnGsN2zOAry4"
      },
      "source": [
        "dict={'70 or Older':80, '50 to 69':60,'30 to 49':40 , '18 to 29':20, '0 to 17':10}"
      ],
      "execution_count": 98,
      "outputs": []
    },
    {
      "cell_type": "code",
      "metadata": {
        "id": "3IXDhtJpBMfS"
      },
      "source": [
        "df=df.replace({'Age_Group':dict})"
      ],
      "execution_count": 99,
      "outputs": []
    },
    {
      "cell_type": "code",
      "metadata": {
        "id": "jvD0i7fXBMv8",
        "colab": {
          "base_uri": "https://localhost:8080/"
        },
        "outputId": "7d5be2d0-818b-4cfb-99b8-d4c35cdcc024"
      },
      "source": [
        "df.Age_Group.unique()"
      ],
      "execution_count": 100,
      "outputs": [
        {
          "output_type": "execute_result",
          "data": {
            "text/plain": [
              "array([40, 20, 10, 80, 60])"
            ]
          },
          "metadata": {
            "tags": []
          },
          "execution_count": 100
        }
      ]
    },
    {
      "cell_type": "code",
      "metadata": {
        "id": "G0OYt2WBExVl",
        "colab": {
          "base_uri": "https://localhost:8080/"
        },
        "outputId": "c3a8be89-b21b-4e3a-9efb-9f3af7354ddc"
      },
      "source": [
        "df[df['CCS_Procedure_Code']!=0].value_counts().sum()"
      ],
      "execution_count": 101,
      "outputs": [
        {
          "output_type": "execute_result",
          "data": {
            "text/plain": [
              "89655"
            ]
          },
          "metadata": {
            "tags": []
          },
          "execution_count": 101
        }
      ]
    },
    {
      "cell_type": "code",
      "metadata": {
        "id": "bWnZfdsbQtsT",
        "colab": {
          "base_uri": "https://localhost:8080/"
        },
        "outputId": "43667cee-090a-423c-84ba-60c930941811"
      },
      "source": [
        "# There are 258 different types of diagnosis categories.Lets take a look at the top 17 most occurring\r\n",
        "common_diag=df[df.groupby('CCS_Diagnosis_Description')['CCS_Diagnosis_Description'].transform('size') >1700]\r\n",
        "\r\n",
        "common_diag['CCS_Diagnosis_Description'].unique()"
      ],
      "execution_count": 102,
      "outputs": [
        {
          "output_type": "execute_result",
          "data": {
            "text/plain": [
              "array(['Osteoarthritis', 'Liveborn',\n",
              "       'Complication of device; implant or graft', 'Cardiac dysrhythmias',\n",
              "       'Acute cerebrovascular disease',\n",
              "       'Other complications of birth; puerperium affecting management of mother',\n",
              "       'Pneumonia (except that caused by tuberculosis or sexually transmitted disease)',\n",
              "       'Congestive heart failure; nonhypertensive',\n",
              "       'Septicemia (except in labor)',\n",
              "       'Diabetes mellitus with complications', 'Asthma',\n",
              "       'Spondylosis; intervertebral disc disorders; other back problems',\n",
              "       'Schizophrenia and other psychotic disorders',\n",
              "       'Substance-related disorders', 'Mood disorders',\n",
              "       'Skin and subcutaneous tissue infections',\n",
              "       'Alcohol-related disorders'], dtype=object)"
            ]
          },
          "metadata": {
            "tags": []
          },
          "execution_count": 102
        }
      ]
    },
    {
      "cell_type": "code",
      "metadata": {
        "colab": {
          "base_uri": "https://localhost:8080/"
        },
        "id": "jGR7LSSguG5S",
        "outputId": "87feb81b-8129-43aa-a8b7-7ef9b2807f65"
      },
      "source": [
        "common_diag['CCS_Diagnosis_Description'].unique().shape"
      ],
      "execution_count": 103,
      "outputs": [
        {
          "output_type": "execute_result",
          "data": {
            "text/plain": [
              "(17,)"
            ]
          },
          "metadata": {
            "tags": []
          },
          "execution_count": 103
        }
      ]
    },
    {
      "cell_type": "code",
      "metadata": {
        "id": "MlyYAjnPRmnM",
        "colab": {
          "base_uri": "https://localhost:8080/"
        },
        "outputId": "79f207b9-710e-4f0f-faf0-e063c476aafe"
      },
      "source": [
        "common_diag['CCS_Diagnosis_Description'].describe()"
      ],
      "execution_count": 104,
      "outputs": [
        {
          "output_type": "execute_result",
          "data": {
            "text/plain": [
              "count        48615\n",
              "unique          17\n",
              "top       Liveborn\n",
              "freq         11554\n",
              "Name: CCS_Diagnosis_Description, dtype: object"
            ]
          },
          "metadata": {
            "tags": []
          },
          "execution_count": 104
        }
      ]
    },
    {
      "cell_type": "code",
      "metadata": {
        "id": "E1s4Qk0SSWnG"
      },
      "source": [
        "df=common_diag"
      ],
      "execution_count": 105,
      "outputs": []
    },
    {
      "cell_type": "code",
      "metadata": {
        "id": "pdYisr4oUJwX"
      },
      "source": [
        "#remap common diagnosis names to abrreviated versions\r\n",
        "dict={ 'Osteoarthritis':'OA', 'Liveborn':'LB',\r\n",
        "       'Complication of device; implant or graft':'CM1', 'Cardiac dysrhythmias':'Cd',\r\n",
        "       'Acute cerebrovascular disease':'CVA',\r\n",
        "       'Other complications of birth; puerperium affecting management of mother':'CM2',\r\n",
        "       'Pneumonia (except that caused by tuberculosis or sexually transmitted disease)':'PNU',\r\n",
        "       'Congestive heart failure; nonhypertensive':'CHF',\r\n",
        "       'Septicemia (except in labor)':'Sept',\r\n",
        "       'Diabetes mellitus with complications':'DM', 'Asthma':'ASTH',\r\n",
        "       'Spondylosis; intervertebral disc disorders; other back problems':'Spondy',\r\n",
        "       'Schizophrenia and other psychotic disorders':'SCHIZ',\r\n",
        "       'Substance-related disorders':'SubA', 'Mood disorders':'Mood',\r\n",
        "       'Skin and subcutaneous tissue infections':'Skin',\r\n",
        "       'Alcohol-related disorders':'Alch'}"
      ],
      "execution_count": 106,
      "outputs": []
    },
    {
      "cell_type": "code",
      "metadata": {
        "id": "cH0XsgeMVhqX"
      },
      "source": [
        "df=df.replace({'CCS_Diagnosis_Description':dict})\r\n"
      ],
      "execution_count": 107,
      "outputs": []
    },
    {
      "cell_type": "code",
      "metadata": {
        "id": "FYyKvsPKVt8y",
        "colab": {
          "base_uri": "https://localhost:8080/"
        },
        "outputId": "035fcff4-32f9-46e8-da37-836529cf238b"
      },
      "source": [
        "df['CCS_Diagnosis_Description'].unique()"
      ],
      "execution_count": 108,
      "outputs": [
        {
          "output_type": "execute_result",
          "data": {
            "text/plain": [
              "array(['OA', 'LB', 'CM1', 'Cd', 'CVA', 'CM2', 'PNU', 'CHF', 'Sept', 'DM',\n",
              "       'ASTH', 'Spondy', 'SCHIZ', 'SubA', 'Mood', 'Skin', 'Alch'],\n",
              "      dtype=object)"
            ]
          },
          "metadata": {
            "tags": []
          },
          "execution_count": 108
        }
      ]
    },
    {
      "cell_type": "code",
      "metadata": {
        "id": "moZk6Mp6zWYm"
      },
      "source": [
        "dfcommon=pd.DataFrame(df['CCS_Diagnosis_Description'].value_counts())"
      ],
      "execution_count": 109,
      "outputs": []
    },
    {
      "cell_type": "code",
      "metadata": {
        "id": "FgW1q7Qozeza"
      },
      "source": [
        "dfcommon.columns=['Count']"
      ],
      "execution_count": 110,
      "outputs": []
    },
    {
      "cell_type": "code",
      "metadata": {
        "id": "CzjqUv222EMU"
      },
      "source": [
        "dfcommon.reset_index(inplace=True)"
      ],
      "execution_count": 111,
      "outputs": []
    },
    {
      "cell_type": "code",
      "metadata": {
        "id": "3259nEJP2Iyn"
      },
      "source": [
        "dfcommon.columns=['Diagnosis','Count']"
      ],
      "execution_count": 112,
      "outputs": []
    },
    {
      "cell_type": "code",
      "metadata": {
        "colab": {
          "base_uri": "https://localhost:8080/",
          "height": 296
        },
        "id": "M_TyjwFyU19x",
        "outputId": "33ca2ae8-85ae-4caf-963e-01ad7bcdeb26"
      },
      "source": [
        "ax=sns.barplot(x='Diagnosis',y='Count',data=dfcommon,color='royalblue')\r\n",
        "plt.setp(ax.get_xticklabels(),rotation=90)\r\n",
        "plt.xlabel('Diagnosis')\r\n",
        "plt.ylabel('Count')\r\n",
        "plt.title('Diagnosis:17 most common')\r\n",
        "plt.gcf().subplots_adjust(bottom=0.25)\r\n",
        "#plt.savefig('baro_diag.png')\r\n",
        "plt.show()\r\n",
        "#files.download('baro_diag.png')\r\n"
      ],
      "execution_count": 113,
      "outputs": [
        {
          "output_type": "display_data",
          "data": {
            "image/png": "[encoded data removed]",
            "text/plain": [
              "<Figure size 432x288 with 1 Axes>"
            ]
          },
          "metadata": {
            "tags": []
          }
        }
      ]
    },
    {
      "cell_type": "code",
      "metadata": {
        "id": "1InfKdnIXgV0",
        "colab": {
          "base_uri": "https://localhost:8080/",
          "height": 204
        },
        "outputId": "d4a8b172-5431-4f88-8315-8f92c77b5b12"
      },
      "source": [
        "dfdiag=df.groupby('CCS_Diagnosis_Description')['Length_of_Stay'].mean().reset_index()\r\n",
        "dfdiag=dfdiag.sort_values('Length_of_Stay',ascending=False)\r\n",
        "dfdiag.head()"
      ],
      "execution_count": 114,
      "outputs": [
        {
          "output_type": "execute_result",
          "data": {
            "text/html": [
              "<div>\n",
              "<style scoped>\n",
              "    .dataframe tbody tr th:only-of-type {\n",
              "        vertical-align: middle;\n",
              "    }\n",
              "\n",
              "    .dataframe tbody tr th {\n",
              "        vertical-align: top;\n",
              "    }\n",
              "\n",
              "    .dataframe thead th {\n",
              "        text-align: right;\n",
              "    }\n",
              "</style>\n",
              "<table border=\"1\" class=\"dataframe\">\n",
              "  <thead>\n",
              "    <tr style=\"text-align: right;\">\n",
              "      <th></th>\n",
              "      <th>CCS_Diagnosis_Description</th>\n",
              "      <th>Length_of_Stay</th>\n",
              "    </tr>\n",
              "  </thead>\n",
              "  <tbody>\n",
              "    <tr>\n",
              "      <th>12</th>\n",
              "      <td>SCHIZ</td>\n",
              "      <td>16.969577</td>\n",
              "    </tr>\n",
              "    <tr>\n",
              "      <th>9</th>\n",
              "      <td>Mood</td>\n",
              "      <td>10.370956</td>\n",
              "    </tr>\n",
              "    <tr>\n",
              "      <th>13</th>\n",
              "      <td>Sept</td>\n",
              "      <td>9.590272</td>\n",
              "    </tr>\n",
              "    <tr>\n",
              "      <th>5</th>\n",
              "      <td>CVA</td>\n",
              "      <td>7.624357</td>\n",
              "    </tr>\n",
              "    <tr>\n",
              "      <th>3</th>\n",
              "      <td>CM1</td>\n",
              "      <td>7.169666</td>\n",
              "    </tr>\n",
              "  </tbody>\n",
              "</table>\n",
              "</div>"
            ],
            "text/plain": [
              "   CCS_Diagnosis_Description  Length_of_Stay\n",
              "12                     SCHIZ       16.969577\n",
              "9                       Mood       10.370956\n",
              "13                      Sept        9.590272\n",
              "5                        CVA        7.624357\n",
              "3                        CM1        7.169666"
            ]
          },
          "metadata": {
            "tags": []
          },
          "execution_count": 114
        }
      ]
    },
    {
      "cell_type": "code",
      "metadata": {
        "colab": {
          "base_uri": "https://localhost:8080/"
        },
        "id": "uzo2Jkz1-P1_",
        "outputId": "7a43b32b-8ba5-44d9-d4fe-b58b4021f00f"
      },
      "source": [
        "dfdiag.CCS_Diagnosis_Description.unique()"
      ],
      "execution_count": 115,
      "outputs": [
        {
          "output_type": "execute_result",
          "data": {
            "text/plain": [
              "array(['SCHIZ', 'Mood', 'Sept', 'CVA', 'CM1', 'SubA', 'CHF', 'DM', 'Alch',\n",
              "       'PNU', 'Skin', 'Cd', 'Spondy', 'LB', 'ASTH', 'CM2', 'OA'],\n",
              "      dtype=object)"
            ]
          },
          "metadata": {
            "tags": []
          },
          "execution_count": 115
        }
      ]
    },
    {
      "cell_type": "code",
      "metadata": {
        "id": "6gHmFVFbTqrn",
        "colab": {
          "base_uri": "https://localhost:8080/",
          "height": 296
        },
        "outputId": "f8b75d3f-e464-4f4c-ccc5-5770b5d504f8"
      },
      "source": [
        "ax=sns.barplot(x='CCS_Diagnosis_Description',y='Length_of_Stay',data=dfdiag,color='royalblue')\r\n",
        "plt.setp(ax.get_xticklabels(),rotation=90)\r\n",
        "plt.xlabel('Diagnosis')\r\n",
        "plt.ylabel('mean stay')\r\n",
        "plt.title('Diagnosis and Mean Length of Stay')\r\n",
        "plt.gcf().subplots_adjust(bottom=0.25)\r\n",
        "#plt.savefig('bar_diagnosis.png')\r\n",
        "#plt.show()\r\n",
        "\r\n",
        "    \r\n",
        "  "
      ],
      "execution_count": 116,
      "outputs": [
        {
          "output_type": "display_data",
          "data": {
            "image/png": "[encoded data removed]",
            "text/plain": [
              "<Figure size 432x288 with 1 Axes>"
            ]
          },
          "metadata": {
            "tags": []
          }
        }
      ]
    },
    {
      "cell_type": "code",
      "metadata": {
        "id": "Oo_KMU3b_XqS"
      },
      "source": [
        "df['CCS_Diagnosis_Description'].replace({'Spondy':'Spon'},inplace=True)"
      ],
      "execution_count": 117,
      "outputs": []
    },
    {
      "cell_type": "code",
      "metadata": {
        "colab": {
          "base_uri": "https://localhost:8080/",
          "height": 289
        },
        "id": "GJUXgTz50_aA",
        "outputId": "b4d80122-b4c4-499a-f1e1-400928c408a2"
      },
      "source": [
        "list=['SCHIZ', 'Mood', 'Sept', 'CVA', 'CM1', 'SubA', 'CHF', 'DM', 'Alch',\r\n",
        "       'PNU', 'Skin', 'Cd', 'Spon', 'LB', 'ASTH', 'CM2', 'OA']\r\n",
        "dfdg=df.sort_values('Length_of_Stay',ascending=False)\r\n",
        "ax=sns.barplot(x='CCS_Diagnosis_Description',y='Length_of_Stay',data=dfdg, color='royalblue',order=list)\r\n",
        "plt.xlabel('Diagnosis')\r\n",
        "plt.ylabel('Length of stay')\r\n",
        "plt.title('Diagnosis and Length of Stay')\r\n",
        "plt.gcf().subplots_adjust(bottom=0.25)\r\n",
        "plt.setp(ax.get_xticklabels(),rotation=90)\r\n",
        "#plt.savefig('ebar_diagnosis.png')\r\n",
        "#files.download('ebar_diagnosis.png')\r\n",
        "plt.show()"
      ],
      "execution_count": 118,
      "outputs": [
        {
          "output_type": "display_data",
          "data": {
            "image/png": "[encoded data removed]",
            "text/plain": [
              "<Figure size 432x288 with 1 Axes>"
            ]
          },
          "metadata": {
            "tags": []
          }
        }
      ]
    },
    {
      "cell_type": "code",
      "metadata": {
        "id": "yFcZQE4wbYLJ",
        "colab": {
          "base_uri": "https://localhost:8080/"
        },
        "outputId": "3be3e296-ea47-41b5-fc7e-a41e3966d5c3"
      },
      "source": [
        "df.CCS_Procedure_Description.describe()"
      ],
      "execution_count": 119,
      "outputs": [
        {
          "output_type": "execute_result",
          "data": {
            "text/plain": [
              "count       48615\n",
              "unique        194\n",
              "top       NO PROC\n",
              "freq        12265\n",
              "Name: CCS_Procedure_Description, dtype: object"
            ]
          },
          "metadata": {
            "tags": []
          },
          "execution_count": 119
        }
      ]
    },
    {
      "cell_type": "code",
      "metadata": {
        "colab": {
          "base_uri": "https://localhost:8080/"
        },
        "id": "wg3QncqPhE85",
        "outputId": "740a64da-8fb7-4e44-d6b3-b0b0e624f727"
      },
      "source": [
        "df.Payment_Typology_1.unique()"
      ],
      "execution_count": 120,
      "outputs": [
        {
          "output_type": "execute_result",
          "data": {
            "text/plain": [
              "array(['Medicare', 'Medicaid', 'Blue Cross/Blue Shield',\n",
              "       'Private Health Insurance', 'Self-Pay', 'Miscellaneous/Other',\n",
              "       'Federal/State/Local/VA', 'Department of Corrections',\n",
              "       'Managed Care, Unspecified', 'Unknown'], dtype=object)"
            ]
          },
          "metadata": {
            "tags": []
          },
          "execution_count": 120
        }
      ]
    },
    {
      "cell_type": "code",
      "metadata": {
        "id": "Ib6aep1PhUkr"
      },
      "source": [
        "# Abbreviate insurance names and remap\r\n",
        "dict={'Medicare':'MCR', 'Medicaid':'MCD', 'Blue Cross/Blue Shield':'BCBS',\r\n",
        "       'Private Health Insurance':'PHI', 'Self-Pay':'SP', 'Miscellaneous/Other':'Other',\r\n",
        "       'Federal/State/Local/VA':'GovI', 'Department of Corrections':'DOC',\r\n",
        "       'Managed Care, Unspecified':'MC', 'Unknown':'U'}"
      ],
      "execution_count": 121,
      "outputs": []
    },
    {
      "cell_type": "code",
      "metadata": {
        "id": "ZZBdd28Mh-5Q"
      },
      "source": [
        "df=df.replace({'Payment_Typology_1':dict})"
      ],
      "execution_count": 122,
      "outputs": []
    },
    {
      "cell_type": "code",
      "metadata": {
        "colab": {
          "base_uri": "https://localhost:8080/"
        },
        "id": "zBsOGed6iPNd",
        "outputId": "828baf6f-5727-4de3-c275-7f533e3f0632"
      },
      "source": [
        "df.Payment_Typology_1.unique()"
      ],
      "execution_count": 123,
      "outputs": [
        {
          "output_type": "execute_result",
          "data": {
            "text/plain": [
              "array(['MCR', 'MCD', 'BCBS', 'PHI', 'SP', 'Other', 'GovI', 'DOC', 'MC',\n",
              "       'U'], dtype=object)"
            ]
          },
          "metadata": {
            "tags": []
          },
          "execution_count": 123
        }
      ]
    },
    {
      "cell_type": "code",
      "metadata": {
        "colab": {
          "base_uri": "https://localhost:8080/",
          "height": 204
        },
        "id": "ZeV23i9pAtaL",
        "outputId": "0a4dc882-dcce-48bc-ddb6-51c02e46bb32"
      },
      "source": [
        "dfp=df.groupby('Payment_Typology_1')['Length_of_Stay'].mean().reset_index()\r\n",
        "dfp=dfp.sort_values('Length_of_Stay',ascending=False)\r\n",
        "dfp.head()"
      ],
      "execution_count": 124,
      "outputs": [
        {
          "output_type": "execute_result",
          "data": {
            "text/html": [
              "<div>\n",
              "<style scoped>\n",
              "    .dataframe tbody tr th:only-of-type {\n",
              "        vertical-align: middle;\n",
              "    }\n",
              "\n",
              "    .dataframe tbody tr th {\n",
              "        vertical-align: top;\n",
              "    }\n",
              "\n",
              "    .dataframe thead th {\n",
              "        text-align: right;\n",
              "    }\n",
              "</style>\n",
              "<table border=\"1\" class=\"dataframe\">\n",
              "  <thead>\n",
              "    <tr style=\"text-align: right;\">\n",
              "      <th></th>\n",
              "      <th>Payment_Typology_1</th>\n",
              "      <th>Length_of_Stay</th>\n",
              "    </tr>\n",
              "  </thead>\n",
              "  <tbody>\n",
              "    <tr>\n",
              "      <th>1</th>\n",
              "      <td>DOC</td>\n",
              "      <td>15.282828</td>\n",
              "    </tr>\n",
              "    <tr>\n",
              "      <th>5</th>\n",
              "      <td>MCR</td>\n",
              "      <td>7.345310</td>\n",
              "    </tr>\n",
              "    <tr>\n",
              "      <th>9</th>\n",
              "      <td>U</td>\n",
              "      <td>7.221477</td>\n",
              "    </tr>\n",
              "    <tr>\n",
              "      <th>4</th>\n",
              "      <td>MCD</td>\n",
              "      <td>6.160183</td>\n",
              "    </tr>\n",
              "    <tr>\n",
              "      <th>2</th>\n",
              "      <td>GovI</td>\n",
              "      <td>5.386861</td>\n",
              "    </tr>\n",
              "  </tbody>\n",
              "</table>\n",
              "</div>"
            ],
            "text/plain": [
              "  Payment_Typology_1  Length_of_Stay\n",
              "1                DOC       15.282828\n",
              "5                MCR        7.345310\n",
              "9                  U        7.221477\n",
              "4                MCD        6.160183\n",
              "2               GovI        5.386861"
            ]
          },
          "metadata": {
            "tags": []
          },
          "execution_count": 124
        }
      ]
    },
    {
      "cell_type": "code",
      "metadata": {
        "colab": {
          "base_uri": "https://localhost:8080/"
        },
        "id": "sbVxqq-_BdkG",
        "outputId": "d9db0620-5112-4a10-8cef-d4219a06466f"
      },
      "source": [
        "dfp.Payment_Typology_1.unique()"
      ],
      "execution_count": 125,
      "outputs": [
        {
          "output_type": "execute_result",
          "data": {
            "text/plain": [
              "array(['DOC', 'MCR', 'U', 'MCD', 'GovI', 'SP', 'PHI', 'BCBS', 'MC',\n",
              "       'Other'], dtype=object)"
            ]
          },
          "metadata": {
            "tags": []
          },
          "execution_count": 125
        }
      ]
    },
    {
      "cell_type": "code",
      "metadata": {
        "id": "WicGGQ8BBiRz"
      },
      "source": [
        "list=['DOC', 'MCR', 'U', 'MCD', 'GovI', 'SP', 'PHI', 'BCBS', 'MC',\r\n",
        "       'Other']"
      ],
      "execution_count": 126,
      "outputs": []
    },
    {
      "cell_type": "code",
      "metadata": {
        "colab": {
          "base_uri": "https://localhost:8080/",
          "height": 301
        },
        "id": "ZvZnZXe2iUeN",
        "outputId": "240dffb8-526d-429b-9fdb-ef34844b0920"
      },
      "source": [
        "sns.set_theme(style=\"whitegrid\")\r\n",
        "dfin=df.sort_values('Length_of_Stay',ascending=False)\r\n",
        "sns.boxplot(y='Payment_Typology_1',x='Length_of_Stay',orient='h',data=dfin,showfliers=False,order=list)\r\n",
        "plt.title('Primary Insurance and Length of Stay')\r\n",
        "plt.xlabel('Length of Stay in Days')\r\n",
        "plt.ylabel(' ')\r\n",
        "#plt.savefig('box_ins.png')\r\n",
        "plt.show()"
      ],
      "execution_count": 127,
      "outputs": [
        {
          "output_type": "display_data",
          "data": {
            "image/png": "[encoded data removed]",
            "text/plain": [
              "<Figure size 432x288 with 1 Axes>"
            ]
          },
          "metadata": {
            "tags": []
          }
        }
      ]
    },
    {
      "cell_type": "code",
      "metadata": {
        "id": "lBIdv0fji-pj"
      },
      "source": [
        "#files.download('box_ins.png')"
      ],
      "execution_count": 128,
      "outputs": []
    },
    {
      "cell_type": "code",
      "metadata": {
        "id": "974S3OOHjqU6"
      },
      "source": [
        "dict={'White':'W', 'Other Race':'OR', 'Black/African American':'AA', 'Multi-racial':'MR'}"
      ],
      "execution_count": 129,
      "outputs": []
    },
    {
      "cell_type": "code",
      "metadata": {
        "id": "bKc9BjKDj7UF"
      },
      "source": [
        "df=df.replace({'Race':dict})"
      ],
      "execution_count": 130,
      "outputs": []
    },
    {
      "cell_type": "code",
      "metadata": {
        "colab": {
          "base_uri": "https://localhost:8080/"
        },
        "id": "-t-MjPS7kDCB",
        "outputId": "4c3456bf-3879-4676-df89-50663d269a8f"
      },
      "source": [
        "df.Race.unique()"
      ],
      "execution_count": 131,
      "outputs": [
        {
          "output_type": "execute_result",
          "data": {
            "text/plain": [
              "array(['W', 'OR', 'AA', 'MR'], dtype=object)"
            ]
          },
          "metadata": {
            "tags": []
          },
          "execution_count": 131
        }
      ]
    },
    {
      "cell_type": "code",
      "metadata": {
        "colab": {
          "base_uri": "https://localhost:8080/",
          "height": 318
        },
        "id": "qQMO7jqD0Zh_",
        "outputId": "cb51cf1a-ea0a-4081-a615-69524f05532b"
      },
      "source": [
        "list=['AA','OR','W','MR']\r\n",
        "sns.barplot(x='Race',y='Length_of_Stay',data=df,order=list,color='royalblue')\r\n",
        "plt.title('Race and Length of Stay')\r\n",
        "plt.xlabel('Race')\r\n",
        "plt.ylabel('Length of Stay')\r\n",
        "#plt.savefig('Racebar.png')\r\n",
        "#files.download('Racebar.png')"
      ],
      "execution_count": 132,
      "outputs": [
        {
          "output_type": "execute_result",
          "data": {
            "text/plain": [
              "Text(0, 0.5, 'Length of Stay')"
            ]
          },
          "metadata": {
            "tags": []
          },
          "execution_count": 132
        },
        {
          "output_type": "display_data",
          "data": {
            "image/png": "[encoded data removed]",
            "text/plain": [
              "<Figure size 432x288 with 1 Axes>"
            ]
          },
          "metadata": {
            "tags": []
          }
        }
      ]
    },
    {
      "cell_type": "code",
      "metadata": {
        "colab": {
          "base_uri": "https://localhost:8080/",
          "height": 301
        },
        "id": "XsOrRTnJN9d8",
        "outputId": "8109f71a-1864-4125-e5ca-35f1e4656d15"
      },
      "source": [
        "dfgen=df.sort_values('Length_of_Stay',ascending=False)\r\n",
        "sns.boxplot(x='Length_of_Stay',y='Gender',orient='h',showfliers=False,data=dfgen,order=['M','F'],showmeans=True,meanprops={\"marker\": \"+\", \r\n",
        "                       \"markeredgecolor\": \"black\", \r\n",
        "                       \"markersize\": \"10\"} )\r\n",
        "plt.xlabel('Length of Stay')\r\n",
        "plt.ylabel('Gender')\r\n",
        "plt.title('Gender and Length of Stay')\r\n",
        "#plt.savefig('box_gender.png')\r\n",
        "plt.show()"
      ],
      "execution_count": 133,
      "outputs": [
        {
          "output_type": "display_data",
          "data": {
            "image/png": "[encoded data removed]",
            "text/plain": [
              "<Figure size 432x288 with 1 Axes>"
            ]
          },
          "metadata": {
            "tags": []
          }
        }
      ]
    },
    {
      "cell_type": "code",
      "metadata": {
        "colab": {
          "base_uri": "https://localhost:8080/",
          "height": 301
        },
        "id": "bxw_3fhI-gj1",
        "outputId": "10d2472b-612b-4071-8905-bd19668a3371"
      },
      "source": [
        "sns.barplot(x='Gender',y='Length_of_Stay',data=df)\r\n",
        "plt.xlabel('Gender')\r\n",
        "plt.ylabel('Length of Stay')\r\n",
        "plt.title('Gender and Length of Stay')\r\n",
        "#plt.savefig('bar_gender.png')\r\n",
        "plt.show()\r\n",
        "#files.download('bar_gender.png')"
      ],
      "execution_count": 134,
      "outputs": [
        {
          "output_type": "display_data",
          "data": {
            "image/png": "[encoded data removed]",
            "text/plain": [
              "<Figure size 432x288 with 1 Axes>"
            ]
          },
          "metadata": {
            "tags": []
          }
        }
      ]
    },
    {
      "cell_type": "code",
      "metadata": {
        "colab": {
          "base_uri": "https://localhost:8080/",
          "height": 327
        },
        "id": "yLlbbO4uRZYF",
        "outputId": "af955c6b-be95-41e4-96fb-e48f4b283beb"
      },
      "source": [
        "df.head()"
      ],
      "execution_count": 135,
      "outputs": [
        {
          "output_type": "execute_result",
          "data": {
            "text/html": [
              "<div>\n",
              "<style scoped>\n",
              "    .dataframe tbody tr th:only-of-type {\n",
              "        vertical-align: middle;\n",
              "    }\n",
              "\n",
              "    .dataframe tbody tr th {\n",
              "        vertical-align: top;\n",
              "    }\n",
              "\n",
              "    .dataframe thead th {\n",
              "        text-align: right;\n",
              "    }\n",
              "</style>\n",
              "<table border=\"1\" class=\"dataframe\">\n",
              "  <thead>\n",
              "    <tr style=\"text-align: right;\">\n",
              "      <th></th>\n",
              "      <th>Hospital_Service_Area</th>\n",
              "      <th>Hospital_County</th>\n",
              "      <th>Facility_Name</th>\n",
              "      <th>Age_Group</th>\n",
              "      <th>Zip_Code__3_digits</th>\n",
              "      <th>Gender</th>\n",
              "      <th>Race</th>\n",
              "      <th>Length_of_Stay</th>\n",
              "      <th>Type_of_Admission</th>\n",
              "      <th>CCS_Diagnosis_Code</th>\n",
              "      <th>CCS_Diagnosis_Description</th>\n",
              "      <th>CCS_Procedure_Code</th>\n",
              "      <th>CCS_Procedure_Description</th>\n",
              "      <th>Payment_Typology_1</th>\n",
              "      <th>Emergency_Department_Indicator</th>\n",
              "      <th>Length_groups</th>\n",
              "      <th>length_groups</th>\n",
              "    </tr>\n",
              "  </thead>\n",
              "  <tbody>\n",
              "    <tr>\n",
              "      <th>0</th>\n",
              "      <td>Western NY</td>\n",
              "      <td>Erie</td>\n",
              "      <td>Buffalo General Medical Center</td>\n",
              "      <td>40</td>\n",
              "      <td>142</td>\n",
              "      <td>F</td>\n",
              "      <td>W</td>\n",
              "      <td>3.0</td>\n",
              "      <td>Elective</td>\n",
              "      <td>203</td>\n",
              "      <td>OA</td>\n",
              "      <td>153</td>\n",
              "      <td>HIP REPLACEMENT,TOT/PRT</td>\n",
              "      <td>MCR</td>\n",
              "      <td>N</td>\n",
              "      <td>below_mean</td>\n",
              "      <td>2-5</td>\n",
              "    </tr>\n",
              "    <tr>\n",
              "      <th>2</th>\n",
              "      <td>Western NY</td>\n",
              "      <td>Chautauqua</td>\n",
              "      <td>Brooks Memorial Hospital</td>\n",
              "      <td>10</td>\n",
              "      <td>140</td>\n",
              "      <td>M</td>\n",
              "      <td>W</td>\n",
              "      <td>3.0</td>\n",
              "      <td>Newborn</td>\n",
              "      <td>218</td>\n",
              "      <td>LB</td>\n",
              "      <td>0</td>\n",
              "      <td>NO PROC</td>\n",
              "      <td>MCD</td>\n",
              "      <td>N</td>\n",
              "      <td>below_mean</td>\n",
              "      <td>2-5</td>\n",
              "    </tr>\n",
              "    <tr>\n",
              "      <th>3</th>\n",
              "      <td>Western NY</td>\n",
              "      <td>Cattaraugus</td>\n",
              "      <td>Olean General Hospital</td>\n",
              "      <td>40</td>\n",
              "      <td>147</td>\n",
              "      <td>F</td>\n",
              "      <td>W</td>\n",
              "      <td>6.0</td>\n",
              "      <td>Emergency</td>\n",
              "      <td>237</td>\n",
              "      <td>CM1</td>\n",
              "      <td>0</td>\n",
              "      <td>NO PROC</td>\n",
              "      <td>MCR</td>\n",
              "      <td>Y</td>\n",
              "      <td>above_mean</td>\n",
              "      <td>6-20</td>\n",
              "    </tr>\n",
              "    <tr>\n",
              "      <th>4</th>\n",
              "      <td>Western NY</td>\n",
              "      <td>Cattaraugus</td>\n",
              "      <td>Olean General Hospital</td>\n",
              "      <td>10</td>\n",
              "      <td>147</td>\n",
              "      <td>F</td>\n",
              "      <td>W</td>\n",
              "      <td>2.0</td>\n",
              "      <td>Newborn</td>\n",
              "      <td>218</td>\n",
              "      <td>LB</td>\n",
              "      <td>228</td>\n",
              "      <td>PROPHYLACTIC VAC/INOCUL</td>\n",
              "      <td>BCBS</td>\n",
              "      <td>N</td>\n",
              "      <td>below_mean</td>\n",
              "      <td>2-5</td>\n",
              "    </tr>\n",
              "    <tr>\n",
              "      <th>6</th>\n",
              "      <td>Western NY</td>\n",
              "      <td>Erie</td>\n",
              "      <td>Buffalo General Medical Center</td>\n",
              "      <td>80</td>\n",
              "      <td>142</td>\n",
              "      <td>F</td>\n",
              "      <td>W</td>\n",
              "      <td>5.0</td>\n",
              "      <td>Emergency</td>\n",
              "      <td>106</td>\n",
              "      <td>Cd</td>\n",
              "      <td>70</td>\n",
              "      <td>UP GASTRO ENDOSC/BIOPSY</td>\n",
              "      <td>MCR</td>\n",
              "      <td>Y</td>\n",
              "      <td>below_mean</td>\n",
              "      <td>2-5</td>\n",
              "    </tr>\n",
              "  </tbody>\n",
              "</table>\n",
              "</div>"
            ],
            "text/plain": [
              "  Hospital_Service_Area Hospital_County  ... Length_groups  length_groups\n",
              "0            Western NY            Erie  ...    below_mean            2-5\n",
              "2            Western NY      Chautauqua  ...    below_mean            2-5\n",
              "3            Western NY     Cattaraugus  ...    above_mean           6-20\n",
              "4            Western NY     Cattaraugus  ...    below_mean            2-5\n",
              "6            Western NY            Erie  ...    below_mean            2-5\n",
              "\n",
              "[5 rows x 17 columns]"
            ]
          },
          "metadata": {
            "tags": []
          },
          "execution_count": 135
        }
      ]
    },
    {
      "cell_type": "code",
      "metadata": {
        "colab": {
          "base_uri": "https://localhost:8080/"
        },
        "id": "doKyfAY2RvQg",
        "outputId": "a2e44a29-a89c-452a-d750-fa3d8e0e7543"
      },
      "source": [
        "df.dtypes"
      ],
      "execution_count": 136,
      "outputs": [
        {
          "output_type": "execute_result",
          "data": {
            "text/plain": [
              "Hospital_Service_Area               object\n",
              "Hospital_County                     object\n",
              "Facility_Name                       object\n",
              "Age_Group                            int64\n",
              "Zip_Code__3_digits                  object\n",
              "Gender                              object\n",
              "Race                                object\n",
              "Length_of_Stay                     float64\n",
              "Type_of_Admission                   object\n",
              "CCS_Diagnosis_Code                   int64\n",
              "CCS_Diagnosis_Description           object\n",
              "CCS_Procedure_Code                   int64\n",
              "CCS_Procedure_Description           object\n",
              "Payment_Typology_1                  object\n",
              "Emergency_Department_Indicator      object\n",
              "Length_groups                       object\n",
              "length_groups                     category\n",
              "dtype: object"
            ]
          },
          "metadata": {
            "tags": []
          },
          "execution_count": 136
        }
      ]
    },
    {
      "cell_type": "code",
      "metadata": {
        "id": "M_HG0tRIR6oM"
      },
      "source": [
        "df.rename(columns={'Length_groups': 'Below_Above_mean'}, inplace=True)"
      ],
      "execution_count": 137,
      "outputs": []
    },
    {
      "cell_type": "code",
      "metadata": {
        "colab": {
          "base_uri": "https://localhost:8080/"
        },
        "id": "dMMMGO2dSn3t",
        "outputId": "f2388a6e-dab0-46a1-90ab-a772c4652e53"
      },
      "source": [
        "df.CCS_Procedure_Code.unique().shape"
      ],
      "execution_count": 138,
      "outputs": [
        {
          "output_type": "execute_result",
          "data": {
            "text/plain": [
              "(194,)"
            ]
          },
          "metadata": {
            "tags": []
          },
          "execution_count": 138
        }
      ]
    },
    {
      "cell_type": "code",
      "metadata": {
        "colab": {
          "base_uri": "https://localhost:8080/"
        },
        "id": "6lOK6sifTBFj",
        "outputId": "3794c46e-0fb8-484e-c3ed-aa173406c9ec"
      },
      "source": [
        "df.CCS_Procedure_Description.unique().shape"
      ],
      "execution_count": 139,
      "outputs": [
        {
          "output_type": "execute_result",
          "data": {
            "text/plain": [
              "(194,)"
            ]
          },
          "metadata": {
            "tags": []
          },
          "execution_count": 139
        }
      ]
    },
    {
      "cell_type": "code",
      "metadata": {
        "id": "VE7mEhCsTir_"
      },
      "source": [
        "# CCS procedure code provides same information as the description, drop codes\r\n",
        "df=df.drop('CCS_Procedure_Code',axis=1)"
      ],
      "execution_count": 140,
      "outputs": []
    },
    {
      "cell_type": "code",
      "metadata": {
        "colab": {
          "base_uri": "https://localhost:8080/"
        },
        "id": "AJ4jD2jIT4xp",
        "outputId": "b775894b-35cb-49d9-9da1-f2fa73fd51e8"
      },
      "source": [
        "df.CCS_Diagnosis_Code.unique().shape"
      ],
      "execution_count": 141,
      "outputs": [
        {
          "output_type": "execute_result",
          "data": {
            "text/plain": [
              "(17,)"
            ]
          },
          "metadata": {
            "tags": []
          },
          "execution_count": 141
        }
      ]
    },
    {
      "cell_type": "code",
      "metadata": {
        "colab": {
          "base_uri": "https://localhost:8080/"
        },
        "id": "_mwpVOJWT_lw",
        "outputId": "4a54dd8e-0bbd-4902-ff26-9a60e14e7d03"
      },
      "source": [
        "df.CCS_Diagnosis_Description.unique().shape"
      ],
      "execution_count": 142,
      "outputs": [
        {
          "output_type": "execute_result",
          "data": {
            "text/plain": [
              "(17,)"
            ]
          },
          "metadata": {
            "tags": []
          },
          "execution_count": 142
        }
      ]
    },
    {
      "cell_type": "code",
      "metadata": {
        "id": "ryjlRM56UGsb"
      },
      "source": [
        "# drop CCS diagnosis Codes and keep description\r\n",
        "df=df.drop('CCS_Diagnosis_Code',axis=1)"
      ],
      "execution_count": 143,
      "outputs": []
    },
    {
      "cell_type": "code",
      "metadata": {
        "colab": {
          "base_uri": "https://localhost:8080/"
        },
        "id": "ww5eBNnQS1zy",
        "outputId": "1b1a9135-6f8d-4ac9-971d-169273591951"
      },
      "source": [
        "df.Zip_Code__3_digits.unique().shape\r\n"
      ],
      "execution_count": 144,
      "outputs": [
        {
          "output_type": "execute_result",
          "data": {
            "text/plain": [
              "(51,)"
            ]
          },
          "metadata": {
            "tags": []
          },
          "execution_count": 144
        }
      ]
    },
    {
      "cell_type": "code",
      "metadata": {
        "colab": {
          "base_uri": "https://localhost:8080/"
        },
        "id": "J7i4qsjdUpuj",
        "outputId": "54af1027-8452-4100-c8f7-a8803a1a3ff4"
      },
      "source": [
        "df.columns"
      ],
      "execution_count": 145,
      "outputs": [
        {
          "output_type": "execute_result",
          "data": {
            "text/plain": [
              "Index(['Hospital_Service_Area', 'Hospital_County', 'Facility_Name',\n",
              "       'Age_Group', 'Zip_Code__3_digits', 'Gender', 'Race', 'Length_of_Stay',\n",
              "       'Type_of_Admission', 'CCS_Diagnosis_Description',\n",
              "       'CCS_Procedure_Description', 'Payment_Typology_1',\n",
              "       'Emergency_Department_Indicator', 'Below_Above_mean', 'length_groups'],\n",
              "      dtype='object')"
            ]
          },
          "metadata": {
            "tags": []
          },
          "execution_count": 145
        }
      ]
    },
    {
      "cell_type": "code",
      "metadata": {
        "id": "t8ACYTtyVHah"
      },
      "source": [
        "#create a column with mean length of stay for each diagnosis group:MeanLOS_byD\r\n",
        "dfdiag=df.groupby('CCS_Diagnosis_Description')['Length_of_Stay'].mean().reset_index()"
      ],
      "execution_count": 146,
      "outputs": []
    },
    {
      "cell_type": "code",
      "metadata": {
        "id": "zVAIGvKwWLLQ"
      },
      "source": [
        "dfdiag.rename(columns={'Length_of_Stay':'Diag_mean'},inplace=True)"
      ],
      "execution_count": 147,
      "outputs": []
    },
    {
      "cell_type": "code",
      "metadata": {
        "colab": {
          "base_uri": "https://localhost:8080/"
        },
        "id": "XgZMS15TxiSG",
        "outputId": "ec43d3ef-65ff-4b67-b1bb-3062525d2dcb"
      },
      "source": [
        "dfdiag.shape"
      ],
      "execution_count": 148,
      "outputs": [
        {
          "output_type": "execute_result",
          "data": {
            "text/plain": [
              "(17, 2)"
            ]
          },
          "metadata": {
            "tags": []
          },
          "execution_count": 148
        }
      ]
    },
    {
      "cell_type": "code",
      "metadata": {
        "id": "Z4KZ6vcYZiai"
      },
      "source": [
        "df['MeanLOS_byD']=df['CCS_Diagnosis_Description']"
      ],
      "execution_count": 149,
      "outputs": []
    },
    {
      "cell_type": "code",
      "metadata": {
        "colab": {
          "base_uri": "https://localhost:8080/"
        },
        "id": "Vq6vPLtJighl",
        "outputId": "c2374a5a-111d-40fb-cabd-31ba725e6628"
      },
      "source": [
        "dfdiag.columns"
      ],
      "execution_count": 150,
      "outputs": [
        {
          "output_type": "execute_result",
          "data": {
            "text/plain": [
              "Index(['CCS_Diagnosis_Description', 'Diag_mean'], dtype='object')"
            ]
          },
          "metadata": {
            "tags": []
          },
          "execution_count": 150
        }
      ]
    },
    {
      "cell_type": "code",
      "metadata": {
        "id": "3vJkLQy2mCNN"
      },
      "source": [
        "listk=dfdiag['CCS_Diagnosis_Description'].tolist()"
      ],
      "execution_count": 160,
      "outputs": []
    },
    {
      "cell_type": "code",
      "metadata": {
        "id": "tMqL7dpkmCca"
      },
      "source": [
        "listv=dfdiag['Diag_mean'].tolist()"
      ],
      "execution_count": 162,
      "outputs": []
    },
    {
      "cell_type": "code",
      "metadata": {
        "id": "rDHc0u_KmCiO"
      },
      "source": [
        "d={}\r\n",
        "# COnvert to dictionary\r\n",
        "d = {listk[i]: listv[i] for i in range(len(listk))}"
      ],
      "execution_count": 164,
      "outputs": []
    },
    {
      "cell_type": "code",
      "metadata": {
        "id": "Ht5ZQph7m9Jo"
      },
      "source": [
        "df=df.replace({'MeanLOS_byD':d})"
      ],
      "execution_count": 165,
      "outputs": []
    },
    {
      "cell_type": "code",
      "metadata": {
        "colab": {
          "base_uri": "https://localhost:8080/",
          "height": 327
        },
        "id": "e4aK7zh_jBlb",
        "outputId": "6a02dc1e-f2df-41e6-a719-c0f62b713d2b"
      },
      "source": [
        "df.head()"
      ],
      "execution_count": 166,
      "outputs": [
        {
          "output_type": "execute_result",
          "data": {
            "text/html": [
              "<div>\n",
              "<style scoped>\n",
              "    .dataframe tbody tr th:only-of-type {\n",
              "        vertical-align: middle;\n",
              "    }\n",
              "\n",
              "    .dataframe tbody tr th {\n",
              "        vertical-align: top;\n",
              "    }\n",
              "\n",
              "    .dataframe thead th {\n",
              "        text-align: right;\n",
              "    }\n",
              "</style>\n",
              "<table border=\"1\" class=\"dataframe\">\n",
              "  <thead>\n",
              "    <tr style=\"text-align: right;\">\n",
              "      <th></th>\n",
              "      <th>Hospital_Service_Area</th>\n",
              "      <th>Hospital_County</th>\n",
              "      <th>Facility_Name</th>\n",
              "      <th>Age_Group</th>\n",
              "      <th>Zip_Code__3_digits</th>\n",
              "      <th>Gender</th>\n",
              "      <th>Race</th>\n",
              "      <th>Length_of_Stay</th>\n",
              "      <th>Type_of_Admission</th>\n",
              "      <th>CCS_Diagnosis_Description</th>\n",
              "      <th>CCS_Procedure_Description</th>\n",
              "      <th>Payment_Typology_1</th>\n",
              "      <th>Emergency_Department_Indicator</th>\n",
              "      <th>Below_Above_mean</th>\n",
              "      <th>length_groups</th>\n",
              "      <th>MeanLOS_byD</th>\n",
              "    </tr>\n",
              "  </thead>\n",
              "  <tbody>\n",
              "    <tr>\n",
              "      <th>0</th>\n",
              "      <td>Western NY</td>\n",
              "      <td>Erie</td>\n",
              "      <td>Buffalo General Medical Center</td>\n",
              "      <td>40</td>\n",
              "      <td>142</td>\n",
              "      <td>F</td>\n",
              "      <td>W</td>\n",
              "      <td>3.0</td>\n",
              "      <td>Elective</td>\n",
              "      <td>OA</td>\n",
              "      <td>HIP REPLACEMENT,TOT/PRT</td>\n",
              "      <td>MCR</td>\n",
              "      <td>N</td>\n",
              "      <td>below_mean</td>\n",
              "      <td>2-5</td>\n",
              "      <td>3.125348</td>\n",
              "    </tr>\n",
              "    <tr>\n",
              "      <th>2</th>\n",
              "      <td>Western NY</td>\n",
              "      <td>Chautauqua</td>\n",
              "      <td>Brooks Memorial Hospital</td>\n",
              "      <td>10</td>\n",
              "      <td>140</td>\n",
              "      <td>M</td>\n",
              "      <td>W</td>\n",
              "      <td>3.0</td>\n",
              "      <td>Newborn</td>\n",
              "      <td>LB</td>\n",
              "      <td>NO PROC</td>\n",
              "      <td>MCD</td>\n",
              "      <td>N</td>\n",
              "      <td>below_mean</td>\n",
              "      <td>2-5</td>\n",
              "      <td>3.599619</td>\n",
              "    </tr>\n",
              "    <tr>\n",
              "      <th>3</th>\n",
              "      <td>Western NY</td>\n",
              "      <td>Cattaraugus</td>\n",
              "      <td>Olean General Hospital</td>\n",
              "      <td>40</td>\n",
              "      <td>147</td>\n",
              "      <td>F</td>\n",
              "      <td>W</td>\n",
              "      <td>6.0</td>\n",
              "      <td>Emergency</td>\n",
              "      <td>CM1</td>\n",
              "      <td>NO PROC</td>\n",
              "      <td>MCR</td>\n",
              "      <td>Y</td>\n",
              "      <td>above_mean</td>\n",
              "      <td>6-20</td>\n",
              "      <td>7.169666</td>\n",
              "    </tr>\n",
              "    <tr>\n",
              "      <th>4</th>\n",
              "      <td>Western NY</td>\n",
              "      <td>Cattaraugus</td>\n",
              "      <td>Olean General Hospital</td>\n",
              "      <td>10</td>\n",
              "      <td>147</td>\n",
              "      <td>F</td>\n",
              "      <td>W</td>\n",
              "      <td>2.0</td>\n",
              "      <td>Newborn</td>\n",
              "      <td>LB</td>\n",
              "      <td>PROPHYLACTIC VAC/INOCUL</td>\n",
              "      <td>BCBS</td>\n",
              "      <td>N</td>\n",
              "      <td>below_mean</td>\n",
              "      <td>2-5</td>\n",
              "      <td>3.599619</td>\n",
              "    </tr>\n",
              "    <tr>\n",
              "      <th>6</th>\n",
              "      <td>Western NY</td>\n",
              "      <td>Erie</td>\n",
              "      <td>Buffalo General Medical Center</td>\n",
              "      <td>80</td>\n",
              "      <td>142</td>\n",
              "      <td>F</td>\n",
              "      <td>W</td>\n",
              "      <td>5.0</td>\n",
              "      <td>Emergency</td>\n",
              "      <td>Cd</td>\n",
              "      <td>UP GASTRO ENDOSC/BIOPSY</td>\n",
              "      <td>MCR</td>\n",
              "      <td>Y</td>\n",
              "      <td>below_mean</td>\n",
              "      <td>2-5</td>\n",
              "      <td>4.009524</td>\n",
              "    </tr>\n",
              "  </tbody>\n",
              "</table>\n",
              "</div>"
            ],
            "text/plain": [
              "  Hospital_Service_Area Hospital_County  ... length_groups  MeanLOS_byD\n",
              "0            Western NY            Erie  ...           2-5     3.125348\n",
              "2            Western NY      Chautauqua  ...           2-5     3.599619\n",
              "3            Western NY     Cattaraugus  ...          6-20     7.169666\n",
              "4            Western NY     Cattaraugus  ...           2-5     3.599619\n",
              "6            Western NY            Erie  ...           2-5     4.009524\n",
              "\n",
              "[5 rows x 16 columns]"
            ]
          },
          "metadata": {
            "tags": []
          },
          "execution_count": 166
        }
      ]
    },
    {
      "cell_type": "code",
      "metadata": {
        "id": "puKfPPPNn5aV"
      },
      "source": [
        "# Create a column mean length of stay by procedure: MeanLOS_byP\r\n",
        "df['MeanLOS_byP']=df['CCS_Procedure_Description']"
      ],
      "execution_count": 168,
      "outputs": []
    },
    {
      "cell_type": "code",
      "metadata": {
        "id": "_xSnmLC8bHYk"
      },
      "source": [
        "# Create a column mean length of stay by procedure: MeanLOS_byP\r\n",
        "dfproc=df.groupby('CCS_Procedure_Description')['Length_of_Stay'].mean().reset_index()\r\n",
        "dfproc.rename(columns={'Length_of_Stay':'Proc_mean'},inplace=True)\r\n",
        "listK=dfproc['CCS_Procedure_Description'].tolist()\r\n",
        "listV=dfproc['Proc_mean'].tolist()\r\n",
        "d={listK[i]:listV[i] for i in range(len(listK))}\r\n",
        "df=df.replace({'MeanLOS_byP':d})"
      ],
      "execution_count": 170,
      "outputs": []
    },
    {
      "cell_type": "code",
      "metadata": {
        "id": "5-0bwtXacxKO",
        "colab": {
          "base_uri": "https://localhost:8080/",
          "height": 327
        },
        "outputId": "755fdd10-9fdb-452c-90a0-249b3aed072f"
      },
      "source": [
        "df.head()"
      ],
      "execution_count": 171,
      "outputs": [
        {
          "output_type": "execute_result",
          "data": {
            "text/html": [
              "<div>\n",
              "<style scoped>\n",
              "    .dataframe tbody tr th:only-of-type {\n",
              "        vertical-align: middle;\n",
              "    }\n",
              "\n",
              "    .dataframe tbody tr th {\n",
              "        vertical-align: top;\n",
              "    }\n",
              "\n",
              "    .dataframe thead th {\n",
              "        text-align: right;\n",
              "    }\n",
              "</style>\n",
              "<table border=\"1\" class=\"dataframe\">\n",
              "  <thead>\n",
              "    <tr style=\"text-align: right;\">\n",
              "      <th></th>\n",
              "      <th>Hospital_Service_Area</th>\n",
              "      <th>Hospital_County</th>\n",
              "      <th>Facility_Name</th>\n",
              "      <th>Age_Group</th>\n",
              "      <th>Zip_Code__3_digits</th>\n",
              "      <th>Gender</th>\n",
              "      <th>Race</th>\n",
              "      <th>Length_of_Stay</th>\n",
              "      <th>Type_of_Admission</th>\n",
              "      <th>CCS_Diagnosis_Description</th>\n",
              "      <th>CCS_Procedure_Description</th>\n",
              "      <th>Payment_Typology_1</th>\n",
              "      <th>Emergency_Department_Indicator</th>\n",
              "      <th>Below_Above_mean</th>\n",
              "      <th>length_groups</th>\n",
              "      <th>MeanLOS_byD</th>\n",
              "      <th>MeanLOS_byP</th>\n",
              "    </tr>\n",
              "  </thead>\n",
              "  <tbody>\n",
              "    <tr>\n",
              "      <th>0</th>\n",
              "      <td>Western NY</td>\n",
              "      <td>Erie</td>\n",
              "      <td>Buffalo General Medical Center</td>\n",
              "      <td>40</td>\n",
              "      <td>142</td>\n",
              "      <td>F</td>\n",
              "      <td>W</td>\n",
              "      <td>3.0</td>\n",
              "      <td>Elective</td>\n",
              "      <td>OA</td>\n",
              "      <td>HIP REPLACEMENT,TOT/PRT</td>\n",
              "      <td>MCR</td>\n",
              "      <td>N</td>\n",
              "      <td>below_mean</td>\n",
              "      <td>2-5</td>\n",
              "      <td>3.125348</td>\n",
              "      <td>3.213287</td>\n",
              "    </tr>\n",
              "    <tr>\n",
              "      <th>2</th>\n",
              "      <td>Western NY</td>\n",
              "      <td>Chautauqua</td>\n",
              "      <td>Brooks Memorial Hospital</td>\n",
              "      <td>10</td>\n",
              "      <td>140</td>\n",
              "      <td>M</td>\n",
              "      <td>W</td>\n",
              "      <td>3.0</td>\n",
              "      <td>Newborn</td>\n",
              "      <td>LB</td>\n",
              "      <td>NO PROC</td>\n",
              "      <td>MCD</td>\n",
              "      <td>N</td>\n",
              "      <td>below_mean</td>\n",
              "      <td>2-5</td>\n",
              "      <td>3.599619</td>\n",
              "      <td>5.508602</td>\n",
              "    </tr>\n",
              "    <tr>\n",
              "      <th>3</th>\n",
              "      <td>Western NY</td>\n",
              "      <td>Cattaraugus</td>\n",
              "      <td>Olean General Hospital</td>\n",
              "      <td>40</td>\n",
              "      <td>147</td>\n",
              "      <td>F</td>\n",
              "      <td>W</td>\n",
              "      <td>6.0</td>\n",
              "      <td>Emergency</td>\n",
              "      <td>CM1</td>\n",
              "      <td>NO PROC</td>\n",
              "      <td>MCR</td>\n",
              "      <td>Y</td>\n",
              "      <td>above_mean</td>\n",
              "      <td>6-20</td>\n",
              "      <td>7.169666</td>\n",
              "      <td>5.508602</td>\n",
              "    </tr>\n",
              "    <tr>\n",
              "      <th>4</th>\n",
              "      <td>Western NY</td>\n",
              "      <td>Cattaraugus</td>\n",
              "      <td>Olean General Hospital</td>\n",
              "      <td>10</td>\n",
              "      <td>147</td>\n",
              "      <td>F</td>\n",
              "      <td>W</td>\n",
              "      <td>2.0</td>\n",
              "      <td>Newborn</td>\n",
              "      <td>LB</td>\n",
              "      <td>PROPHYLACTIC VAC/INOCUL</td>\n",
              "      <td>BCBS</td>\n",
              "      <td>N</td>\n",
              "      <td>below_mean</td>\n",
              "      <td>2-5</td>\n",
              "      <td>3.599619</td>\n",
              "      <td>2.649259</td>\n",
              "    </tr>\n",
              "    <tr>\n",
              "      <th>6</th>\n",
              "      <td>Western NY</td>\n",
              "      <td>Erie</td>\n",
              "      <td>Buffalo General Medical Center</td>\n",
              "      <td>80</td>\n",
              "      <td>142</td>\n",
              "      <td>F</td>\n",
              "      <td>W</td>\n",
              "      <td>5.0</td>\n",
              "      <td>Emergency</td>\n",
              "      <td>Cd</td>\n",
              "      <td>UP GASTRO ENDOSC/BIOPSY</td>\n",
              "      <td>MCR</td>\n",
              "      <td>Y</td>\n",
              "      <td>below_mean</td>\n",
              "      <td>2-5</td>\n",
              "      <td>4.009524</td>\n",
              "      <td>11.038710</td>\n",
              "    </tr>\n",
              "  </tbody>\n",
              "</table>\n",
              "</div>"
            ],
            "text/plain": [
              "  Hospital_Service_Area Hospital_County  ... MeanLOS_byD  MeanLOS_byP\n",
              "0            Western NY            Erie  ...    3.125348     3.213287\n",
              "2            Western NY      Chautauqua  ...    3.599619     5.508602\n",
              "3            Western NY     Cattaraugus  ...    7.169666     5.508602\n",
              "4            Western NY     Cattaraugus  ...    3.599619     2.649259\n",
              "6            Western NY            Erie  ...    4.009524    11.038710\n",
              "\n",
              "[5 rows x 17 columns]"
            ]
          },
          "metadata": {
            "tags": []
          },
          "execution_count": 171
        }
      ]
    },
    {
      "cell_type": "code",
      "metadata": {
        "id": "IrxR7niUc1kD",
        "colab": {
          "base_uri": "https://localhost:8080/"
        },
        "outputId": "c2e3e9d1-84aa-4171-d74e-81a25ff1a6d3"
      },
      "source": [
        "df.shape"
      ],
      "execution_count": 172,
      "outputs": [
        {
          "output_type": "execute_result",
          "data": {
            "text/plain": [
              "(48615, 17)"
            ]
          },
          "metadata": {
            "tags": []
          },
          "execution_count": 172
        }
      ]
    },
    {
      "cell_type": "code",
      "metadata": {
        "id": "5qLMHZGnedpF",
        "colab": {
          "base_uri": "https://localhost:8080/"
        },
        "outputId": "611b4a8c-d52e-4926-a7f0-f107f31f49ee"
      },
      "source": [
        "df.dtypes"
      ],
      "execution_count": 174,
      "outputs": [
        {
          "output_type": "execute_result",
          "data": {
            "text/plain": [
              "Hospital_Service_Area               object\n",
              "Hospital_County                     object\n",
              "Facility_Name                       object\n",
              "Age_Group                            int64\n",
              "Zip_Code__3_digits                  object\n",
              "Gender                              object\n",
              "Race                                object\n",
              "Length_of_Stay                     float64\n",
              "Type_of_Admission                   object\n",
              "CCS_Diagnosis_Description           object\n",
              "CCS_Procedure_Description           object\n",
              "Payment_Typology_1                  object\n",
              "Emergency_Department_Indicator      object\n",
              "Below_Above_mean                    object\n",
              "length_groups                     category\n",
              "MeanLOS_byD                        float64\n",
              "MeanLOS_byP                        float64\n",
              "dtype: object"
            ]
          },
          "metadata": {
            "tags": []
          },
          "execution_count": 174
        }
      ]
    },
    {
      "cell_type": "code",
      "metadata": {
        "id": "f0Qfvni0iX9p"
      },
      "source": [
        "# Convert X into dummy variables\r\n",
        "#X=pd.get_dummies(X,drop_first=True)"
      ],
      "execution_count": null,
      "outputs": []
    },
    {
      "cell_type": "code",
      "metadata": {
        "id": "SswNwNIOiy_k"
      },
      "source": [
        "#y=df['length_groups']"
      ],
      "execution_count": null,
      "outputs": []
    },
    {
      "cell_type": "code",
      "metadata": {
        "id": "QyhJO6N0jkuE"
      },
      "source": [
        "#from sklearn.preprocessing import StandardScaler"
      ],
      "execution_count": null,
      "outputs": []
    },
    {
      "cell_type": "code",
      "metadata": {
        "id": "yJFw1fA1jqvJ"
      },
      "source": [
        "#scaler=StandardScaler()"
      ],
      "execution_count": null,
      "outputs": []
    },
    {
      "cell_type": "code",
      "metadata": {
        "id": "BD6HjFIrjvm8"
      },
      "source": [
        "#X_Scaled=scaler.fit_transform(X)\r\n"
      ],
      "execution_count": null,
      "outputs": []
    },
    {
      "cell_type": "code",
      "metadata": {
        "id": "LyxACquaSdvz"
      },
      "source": [
        "#df.to_csv('nysdoh_feature.csv')"
      ],
      "execution_count": 175,
      "outputs": []
    },
    {
      "cell_type": "code",
      "metadata": {
        "id": "zKI63IhmSpl6",
        "colab": {
          "base_uri": "https://localhost:8080/",
          "height": 17
        },
        "outputId": "2a205089-26b3-4359-a20c-9ed791ad32f3"
      },
      "source": [
        "files.download('nysdoh_feature.csv')"
      ],
      "execution_count": 176,
      "outputs": [
        {
          "output_type": "display_data",
          "data": {
            "application/javascript": [
              "\n",
              "    async function download(id, filename, size) {\n",
              "      if (!google.colab.kernel.accessAllowed) {\n",
              "        return;\n",
              "      }\n",
              "      const div = document.createElement('div');\n",
              "      const label = document.createElement('label');\n",
              "      label.textContent = `Downloading \"${filename}\": `;\n",
              "      div.appendChild(label);\n",
              "      const progress = document.createElement('progress');\n",
              "      progress.max = size;\n",
              "      div.appendChild(progress);\n",
              "      document.body.appendChild(div);\n",
              "\n",
              "      const buffers = [];\n",
              "      let downloaded = 0;\n",
              "\n",
              "      const channel = await google.colab.kernel.comms.open(id);\n",
              "      // Send a message to notify the kernel that we're ready.\n",
              "      channel.send({})\n",
              "\n",
              "      for await (const message of channel.messages) {\n",
              "        // Send a message to notify the kernel that we're ready.\n",
              "        channel.send({})\n",
              "        if (message.buffers) {\n",
              "          for (const buffer of message.buffers) {\n",
              "            buffers.push(buffer);\n",
              "            downloaded += buffer.byteLength;\n",
              "            progress.value = downloaded;\n",
              "          }\n",
              "        }\n",
              "      }\n",
              "      const blob = new Blob(buffers, {type: 'application/binary'});\n",
              "      const a = document.createElement('a');\n",
              "      a.href = window.URL.createObjectURL(blob);\n",
              "      a.download = filename;\n",
              "      div.appendChild(a);\n",
              "      a.click();\n",
              "      div.remove();\n",
              "    }\n",
              "  "
            ],
            "text/plain": [
              "<IPython.core.display.Javascript object>"
            ]
          },
          "metadata": {
            "tags": []
          }
        },
        {
          "output_type": "display_data",
          "data": {
            "application/javascript": [
              "download(\"download_00c0149d-9abb-4ab3-92e6-f3a16602cb99\", \"nysdoh_feature.csv\", 8010646)"
            ],
            "text/plain": [
              "<IPython.core.display.Javascript object>"
            ]
          },
          "metadata": {
            "tags": []
          }
        }
      ]
    }
  ]
}