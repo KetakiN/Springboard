{
  "nbformat": 4,
  "nbformat_minor": 0,
  "metadata": {
    "colab": {
      "name": "NYSDOH_Ket.ipynb",
      "provenance": [],
      "authorship_tag": "ABX9TyNJM3c1o78dUP8uw0WfLRLU",
      "include_colab_link": true
    },
    "kernelspec": {
      "name": "python3",
      "display_name": "Python 3"
    }
  },
  "cells": [
    {
      "cell_type": "markdown",
      "metadata": {
        "id": "view-in-github",
        "colab_type": "text"
      },
      "source": [
        "<a href=\"https://colab.research.google.com/github/KetakiN/Springboard/blob/main/NYSDOH_Ket.ipynb\" target=\"_parent\"><img src=\"https://colab.research.google.com/assets/colab-badge.svg\" alt=\"Open In Colab\"/></a>"
      ]
    },
    {
      "cell_type": "code",
      "metadata": {
        "id": "fk_FOo-4d3DO"
      },
      "source": [
        "import pandas as pd\r\n",
        "import numpy as np\r\n",
        "import matplotlib.pyplot as plt\r\n",
        "import seaborn as sns"
      ],
      "execution_count": 1,
      "outputs": []
    },
    {
      "cell_type": "code",
      "metadata": {
        "id": "ze9QSk_qbzFG"
      },
      "source": [
        "chunk_size=50000\r\n",
        "df1=pd.DataFrame()\r\n",
        "for chunk in pd.read_csv(\"/content/sample_data/nysdohdatafile.csv\",chunksize=chunk_size,low_memory=False):\r\n",
        "    df2=chunk.sample(frac=0.05)\r\n",
        "    df=pd.concat([df1, df2])\r\n",
        "    df1=df"
      ],
      "execution_count": 18,
      "outputs": []
    },
    {
      "cell_type": "code",
      "metadata": {
        "colab": {
          "base_uri": "https://localhost:8080/"
        },
        "id": "unM3LKNMfmMB",
        "outputId": "07acae89-f753-4307-c805-50bbc42fdb1c"
      },
      "source": [
        "df.shape"
      ],
      "execution_count": 19,
      "outputs": [
        {
          "output_type": "execute_result",
          "data": {
            "text/plain": [
              "(31684, 35)"
            ]
          },
          "metadata": {
            "tags": []
          },
          "execution_count": 19
        }
      ]
    },
    {
      "cell_type": "code",
      "metadata": {
        "colab": {
          "base_uri": "https://localhost:8080/",
          "height": 355
        },
        "id": "iUCa0GXOf0ya",
        "outputId": "98d291d7-250e-45ed-b712-be043be062e4"
      },
      "source": [
        "df.head(2)"
      ],
      "execution_count": 21,
      "outputs": [
        {
          "output_type": "execute_result",
          "data": {
            "text/html": [
              "<div>\n",
              "<style scoped>\n",
              "    .dataframe tbody tr th:only-of-type {\n",
              "        vertical-align: middle;\n",
              "    }\n",
              "\n",
              "    .dataframe tbody tr th {\n",
              "        vertical-align: top;\n",
              "    }\n",
              "\n",
              "    .dataframe thead th {\n",
              "        text-align: right;\n",
              "    }\n",
              "</style>\n",
              "<table border=\"1\" class=\"dataframe\">\n",
              "  <thead>\n",
              "    <tr style=\"text-align: right;\">\n",
              "      <th></th>\n",
              "      <th>Hospital Service Area</th>\n",
              "      <th>Hospital County</th>\n",
              "      <th>Operating Certificate Number</th>\n",
              "      <th>Permanent Facility Id</th>\n",
              "      <th>Facility Name</th>\n",
              "      <th>Age Group</th>\n",
              "      <th>Zip Code - 3 digits</th>\n",
              "      <th>Gender</th>\n",
              "      <th>Race</th>\n",
              "      <th>Ethnicity</th>\n",
              "      <th>Length of Stay</th>\n",
              "      <th>Type of Admission</th>\n",
              "      <th>Patient Disposition</th>\n",
              "      <th>Discharge Year</th>\n",
              "      <th>CCS Diagnosis Code</th>\n",
              "      <th>CCS Diagnosis Description</th>\n",
              "      <th>CCS Procedure Code</th>\n",
              "      <th>CCS Procedure Description</th>\n",
              "      <th>APR DRG Code</th>\n",
              "      <th>APR DRG Description</th>\n",
              "      <th>APR MDC Code</th>\n",
              "      <th>APR MDC Description</th>\n",
              "      <th>APR Severity of Illness Code</th>\n",
              "      <th>APR Severity of Illness Description</th>\n",
              "      <th>APR Risk of Mortality</th>\n",
              "      <th>APR Medical Surgical Description</th>\n",
              "      <th>Payment Typology 1</th>\n",
              "      <th>Payment Typology 2</th>\n",
              "      <th>Payment Typology 3</th>\n",
              "      <th>Birth Weight</th>\n",
              "      <th>Abortion Edit Indicator</th>\n",
              "      <th>Emergency Department Indicator</th>\n",
              "      <th>Total Charges</th>\n",
              "      <th>Total Costs</th>\n",
              "      <th>Ratio of Total Costs to Total Charges</th>\n",
              "    </tr>\n",
              "  </thead>\n",
              "  <tbody>\n",
              "    <tr>\n",
              "      <th>30714</th>\n",
              "      <td>Western NY</td>\n",
              "      <td>Erie</td>\n",
              "      <td>1401014.0</td>\n",
              "      <td>207.0</td>\n",
              "      <td>Buffalo General Medical Center</td>\n",
              "      <td>30 to 49</td>\n",
              "      <td>142</td>\n",
              "      <td>F</td>\n",
              "      <td>White</td>\n",
              "      <td>Not Span/Hispanic</td>\n",
              "      <td>7</td>\n",
              "      <td>Emergency</td>\n",
              "      <td>Home w/ Home Health Services</td>\n",
              "      <td>2014.0</td>\n",
              "      <td>131.0</td>\n",
              "      <td>Respiratory failure; insufficiency; arrest (ad...</td>\n",
              "      <td>0.0</td>\n",
              "      <td>NO PROC</td>\n",
              "      <td>133.0</td>\n",
              "      <td>Respiratory Failure</td>\n",
              "      <td>4.0</td>\n",
              "      <td>Diseases and Disorders of the Respiratory System</td>\n",
              "      <td>3.0</td>\n",
              "      <td>Major</td>\n",
              "      <td>Major</td>\n",
              "      <td>Medical</td>\n",
              "      <td>Medicare</td>\n",
              "      <td>Self-Pay</td>\n",
              "      <td>Self-Pay</td>\n",
              "      <td>0.0</td>\n",
              "      <td>N</td>\n",
              "      <td>Y</td>\n",
              "      <td>32,006.13</td>\n",
              "      <td>13,981.32</td>\n",
              "      <td>0.436833</td>\n",
              "    </tr>\n",
              "    <tr>\n",
              "      <th>22745</th>\n",
              "      <td>Western NY</td>\n",
              "      <td>Erie</td>\n",
              "      <td>1401014.0</td>\n",
              "      <td>207.0</td>\n",
              "      <td>Buffalo General Medical Center</td>\n",
              "      <td>50 to 69</td>\n",
              "      <td>NaN</td>\n",
              "      <td>M</td>\n",
              "      <td>Black/African American</td>\n",
              "      <td>Not Span/Hispanic</td>\n",
              "      <td>27</td>\n",
              "      <td>Emergency</td>\n",
              "      <td>Home w/ Home Health Services</td>\n",
              "      <td>2014.0</td>\n",
              "      <td>5.0</td>\n",
              "      <td>HIV infection</td>\n",
              "      <td>216.0</td>\n",
              "      <td>RESP INTUB/MECH VENTIL</td>\n",
              "      <td>890.0</td>\n",
              "      <td>HIV w multiple major HIV related conditions</td>\n",
              "      <td>24.0</td>\n",
              "      <td>Human Immunodeficiency Virus Infections</td>\n",
              "      <td>4.0</td>\n",
              "      <td>Extreme</td>\n",
              "      <td>Extreme</td>\n",
              "      <td>Medical</td>\n",
              "      <td>Medicaid</td>\n",
              "      <td>Self-Pay</td>\n",
              "      <td>NaN</td>\n",
              "      <td>0.0</td>\n",
              "      <td>N</td>\n",
              "      <td>Y</td>\n",
              "      <td>166,734.73</td>\n",
              "      <td>66,807.42</td>\n",
              "      <td>0.400681</td>\n",
              "    </tr>\n",
              "  </tbody>\n",
              "</table>\n",
              "</div>"
            ],
            "text/plain": [
              "      Hospital Service Area  ... Ratio of Total Costs to Total Charges\n",
              "30714            Western NY  ...                              0.436833\n",
              "22745            Western NY  ...                              0.400681\n",
              "\n",
              "[2 rows x 35 columns]"
            ]
          },
          "metadata": {
            "tags": []
          },
          "execution_count": 21
        }
      ]
    },
    {
      "cell_type": "code",
      "metadata": {
        "colab": {
          "base_uri": "https://localhost:8080/"
        },
        "id": "ZAvCtjxQgBqa",
        "outputId": "80d88ea0-ff1c-4b84-ff29-455557c79357"
      },
      "source": [
        "df.dtypes"
      ],
      "execution_count": 23,
      "outputs": [
        {
          "output_type": "execute_result",
          "data": {
            "text/plain": [
              "Hospital Service Area                     object\n",
              "Hospital County                           object\n",
              "Operating Certificate Number             float64\n",
              "Permanent Facility Id                    float64\n",
              "Facility Name                             object\n",
              "Age Group                                 object\n",
              "Zip Code - 3 digits                       object\n",
              "Gender                                    object\n",
              "Race                                      object\n",
              "Ethnicity                                 object\n",
              "Length of Stay                            object\n",
              "Type of Admission                         object\n",
              "Patient Disposition                       object\n",
              "Discharge Year                           float64\n",
              "CCS Diagnosis Code                       float64\n",
              "CCS Diagnosis Description                 object\n",
              "CCS Procedure Code                       float64\n",
              "CCS Procedure Description                 object\n",
              "APR DRG Code                             float64\n",
              "APR DRG Description                       object\n",
              "APR MDC Code                             float64\n",
              "APR MDC Description                       object\n",
              "APR Severity of Illness Code             float64\n",
              "APR Severity of Illness Description       object\n",
              "APR Risk of Mortality                     object\n",
              "APR Medical Surgical Description          object\n",
              "Payment Typology 1                        object\n",
              "Payment Typology 2                        object\n",
              "Payment Typology 3                        object\n",
              "Birth Weight                             float64\n",
              "Abortion Edit Indicator                   object\n",
              "Emergency Department Indicator            object\n",
              "Total Charges                             object\n",
              "Total Costs                               object\n",
              "Ratio of Total Costs to Total Charges    float64\n",
              "dtype: object"
            ]
          },
          "metadata": {
            "tags": []
          },
          "execution_count": 23
        }
      ]
    },
    {
      "cell_type": "code",
      "metadata": {
        "id": "JzSUPtArgIIi"
      },
      "source": [
        "df.reset_index(drop=True, inplace=True)"
      ],
      "execution_count": 24,
      "outputs": []
    },
    {
      "cell_type": "code",
      "metadata": {
        "colab": {
          "base_uri": "https://localhost:8080/"
        },
        "id": "_nhHjSYIgRg8",
        "outputId": "0fd73a9c-0548-4717-a24d-089b9befa6c8"
      },
      "source": [
        "df.isnull().sum()"
      ],
      "execution_count": 25,
      "outputs": [
        {
          "output_type": "execute_result",
          "data": {
            "text/plain": [
              "Hospital Service Area                       72\n",
              "Hospital County                             72\n",
              "Operating Certificate Number                72\n",
              "Permanent Facility Id                       72\n",
              "Facility Name                                0\n",
              "Age Group                                    0\n",
              "Zip Code - 3 digits                        426\n",
              "Gender                                       0\n",
              "Race                                         0\n",
              "Ethnicity                                    0\n",
              "Length of Stay                               0\n",
              "Type of Admission                            0\n",
              "Patient Disposition                          0\n",
              "Discharge Year                               0\n",
              "CCS Diagnosis Code                           0\n",
              "CCS Diagnosis Description                    0\n",
              "CCS Procedure Code                           0\n",
              "CCS Procedure Description                    0\n",
              "APR DRG Code                                 0\n",
              "APR DRG Description                          0\n",
              "APR MDC Code                                 0\n",
              "APR MDC Description                          0\n",
              "APR Severity of Illness Code                 0\n",
              "APR Severity of Illness Description          0\n",
              "APR Risk of Mortality                        0\n",
              "APR Medical Surgical Description             0\n",
              "Payment Typology 1                           0\n",
              "Payment Typology 2                       13209\n",
              "Payment Typology 3                       24863\n",
              "Birth Weight                                 0\n",
              "Abortion Edit Indicator                      0\n",
              "Emergency Department Indicator               0\n",
              "Total Charges                                0\n",
              "Total Costs                                  0\n",
              "Ratio of Total Costs to Total Charges        0\n",
              "dtype: int64"
            ]
          },
          "metadata": {
            "tags": []
          },
          "execution_count": 25
        }
      ]
    },
    {
      "cell_type": "code",
      "metadata": {
        "id": "rrFtCg6jgfSL"
      },
      "source": [
        "# replace 120+ length of stay with 120, which will be considered the maximum length of stay category\r\n",
        "df.loc[df['Length of Stay']=='120 +','Length of Stay']='120'"
      ],
      "execution_count": 26,
      "outputs": []
    },
    {
      "cell_type": "code",
      "metadata": {
        "id": "4uLtm800g0y4"
      },
      "source": [
        "df['Length of Stay']=df['Length of Stay'].astype(float)"
      ],
      "execution_count": 27,
      "outputs": []
    },
    {
      "cell_type": "markdown",
      "metadata": {
        "id": "xvwars1ehi-V"
      },
      "source": [
        "Looking at missing values, zip code Zip Code - 3 digits Type is Char. Length is 3. The first three digits of the patient's\r\n",
        "zip code. Blank for:- population size less than 20,000- abortion records, or- cell size less than 10 on population,classification strata. \r\n",
        "“OOS” are Out of State zipcodes"
      ]
    },
    {
      "cell_type": "code",
      "metadata": {
        "id": "5RyBlIpohnwR"
      },
      "source": [
        "# the missing nan zip codes will be replaced with string '0'\r\n",
        "df['Zip Code - 3 digits']=df['Zip Code - 3 digits'].fillna(0).astype(str)"
      ],
      "execution_count": 28,
      "outputs": []
    },
    {
      "cell_type": "markdown",
      "metadata": {
        "id": "GVZHwKCni4qn"
      },
      "source": [
        "Change column names to replace spaces with undersore, keep relevant columns and drop columns that are not helpful in predicting length of stay: Payment typology 2 and 3 ( secondery and tertairy insurances, APR codes, birth weight columns( as majority of our patients are adults, abortion edit indicator,a s all abortion row information has been removed, charges and costs)"
      ]
    },
    {
      "cell_type": "code",
      "metadata": {
        "colab": {
          "base_uri": "https://localhost:8080/"
        },
        "id": "voeg3fCvjQ3V",
        "outputId": "56e74ed3-1433-47b7-cc9f-2be0d6a69118"
      },
      "source": [
        "df.columns=df.columns.str.replace(' ','_')\r\n",
        "df.columns=df.columns.str.replace('-','_')\r\n",
        "df.columns"
      ],
      "execution_count": 29,
      "outputs": [
        {
          "output_type": "execute_result",
          "data": {
            "text/plain": [
              "Index(['Hospital_Service_Area', 'Hospital_County',\n",
              "       'Operating_Certificate_Number', 'Permanent_Facility_Id',\n",
              "       'Facility_Name', 'Age_Group', 'Zip_Code___3_digits', 'Gender', 'Race',\n",
              "       'Ethnicity', 'Length_of_Stay', 'Type_of_Admission',\n",
              "       'Patient_Disposition', 'Discharge_Year', 'CCS_Diagnosis_Code',\n",
              "       'CCS_Diagnosis_Description', 'CCS_Procedure_Code',\n",
              "       'CCS_Procedure_Description', 'APR_DRG_Code', 'APR_DRG_Description',\n",
              "       'APR_MDC_Code', 'APR_MDC_Description', 'APR_Severity_of_Illness_Code',\n",
              "       'APR_Severity_of_Illness_Description', 'APR_Risk_of_Mortality',\n",
              "       'APR_Medical_Surgical_Description', 'Payment_Typology_1',\n",
              "       'Payment_Typology_2', 'Payment_Typology_3', 'Birth_Weight',\n",
              "       'Abortion_Edit_Indicator', 'Emergency_Department_Indicator',\n",
              "       'Total_Charges', 'Total_Costs',\n",
              "       'Ratio_of_Total_Costs_to_Total_Charges'],\n",
              "      dtype='object')"
            ]
          },
          "metadata": {
            "tags": []
          },
          "execution_count": 29
        }
      ]
    },
    {
      "cell_type": "code",
      "metadata": {
        "id": "3E_g-jD8jEMg"
      },
      "source": [
        "df=df.drop(['Operating_Certificate_Number','Permanent_Facility_Id','Discharge_Year','Patient_Disposition','APR_DRG_Code', 'APR_DRG_Description',\r\n",
        "       'APR_MDC_Code', 'APR_MDC_Description', 'APR_Severity_of_Illness_Code',\r\n",
        "       'APR_Severity_of_Illness_Description', 'APR_Risk_of_Mortality',\r\n",
        "       'APR_Medical_Surgical_Description', 'Payment_Typology_2', 'Payment_Typology_3', 'Birth_Weight',\r\n",
        "       'Abortion_Edit_Indicator',\r\n",
        "       'Total_Charges', 'Total_Costs',\r\n",
        "       'Ratio_of_Total_Costs_to_Total_Charges'],axis=1)"
      ],
      "execution_count": 30,
      "outputs": []
    },
    {
      "cell_type": "code",
      "metadata": {
        "colab": {
          "base_uri": "https://localhost:8080/"
        },
        "id": "xa_ivwcekmsj",
        "outputId": "c1dfeb39-812a-472b-d6b6-6a566021d097"
      },
      "source": [
        "df.columns"
      ],
      "execution_count": 31,
      "outputs": [
        {
          "output_type": "execute_result",
          "data": {
            "text/plain": [
              "Index(['Hospital_Service_Area', 'Hospital_County', 'Facility_Name',\n",
              "       'Age_Group', 'Zip_Code___3_digits', 'Gender', 'Race', 'Ethnicity',\n",
              "       'Length_of_Stay', 'Type_of_Admission', 'CCS_Diagnosis_Code',\n",
              "       'CCS_Diagnosis_Description', 'CCS_Procedure_Code',\n",
              "       'CCS_Procedure_Description', 'Payment_Typology_1',\n",
              "       'Emergency_Department_Indicator'],\n",
              "      dtype='object')"
            ]
          },
          "metadata": {
            "tags": []
          },
          "execution_count": 31
        }
      ]
    },
    {
      "cell_type": "code",
      "metadata": {
        "id": "EhpeJUD7kxlE"
      },
      "source": [
        "df=df.dropna(axis=0,how='any')"
      ],
      "execution_count": 32,
      "outputs": []
    },
    {
      "cell_type": "code",
      "metadata": {
        "id": "FLKRoZgvk9Au"
      },
      "source": [
        "df=df.drop('Ethnicity',axis=1)"
      ],
      "execution_count": 37,
      "outputs": []
    },
    {
      "cell_type": "markdown",
      "metadata": {
        "id": "IA6QgnuXldis"
      },
      "source": [
        ""
      ]
    },
    {
      "cell_type": "code",
      "metadata": {
        "colab": {
          "base_uri": "https://localhost:8080/"
        },
        "id": "MwYlfU4-lVIA",
        "outputId": "c68e115c-cec4-49cd-d521-db5a9493bd3e"
      },
      "source": [
        "df.Race.unique()"
      ],
      "execution_count": 36,
      "outputs": [
        {
          "output_type": "execute_result",
          "data": {
            "text/plain": [
              "array(['White', 'Black/African American', 'Other Race', 'Multi-racial'],\n",
              "      dtype=object)"
            ]
          },
          "metadata": {
            "tags": []
          },
          "execution_count": 36
        }
      ]
    },
    {
      "cell_type": "code",
      "metadata": {
        "colab": {
          "base_uri": "https://localhost:8080/"
        },
        "id": "xzzHc7JflreA",
        "outputId": "eb7e5470-b0e4-4881-8301-c1c0f74d53ee"
      },
      "source": [
        "df.isnull().sum()"
      ],
      "execution_count": 40,
      "outputs": [
        {
          "output_type": "execute_result",
          "data": {
            "text/plain": [
              "Hospital_Service_Area             0\n",
              "Hospital_County                   0\n",
              "Facility_Name                     0\n",
              "Age_Group                         0\n",
              "Zip_Code___3_digits               0\n",
              "Gender                            0\n",
              "Race                              0\n",
              "Length_of_Stay                    0\n",
              "Type_of_Admission                 0\n",
              "CCS_Diagnosis_Code                0\n",
              "CCS_Diagnosis_Description         0\n",
              "CCS_Procedure_Code                0\n",
              "CCS_Procedure_Description         0\n",
              "Payment_Typology_1                0\n",
              "Emergency_Department_Indicator    0\n",
              "dtype: int64"
            ]
          },
          "metadata": {
            "tags": []
          },
          "execution_count": 40
        }
      ]
    },
    {
      "cell_type": "code",
      "metadata": {
        "colab": {
          "base_uri": "https://localhost:8080/"
        },
        "id": "HJUQYeALl8tn",
        "outputId": "38e07f72-bcd5-4dbf-91c7-197a777b8d46"
      },
      "source": [
        "df.dtypes"
      ],
      "execution_count": 41,
      "outputs": [
        {
          "output_type": "execute_result",
          "data": {
            "text/plain": [
              "Hospital_Service_Area              object\n",
              "Hospital_County                    object\n",
              "Facility_Name                      object\n",
              "Age_Group                          object\n",
              "Zip_Code___3_digits                object\n",
              "Gender                             object\n",
              "Race                               object\n",
              "Length_of_Stay                    float64\n",
              "Type_of_Admission                  object\n",
              "CCS_Diagnosis_Code                float64\n",
              "CCS_Diagnosis_Description          object\n",
              "CCS_Procedure_Code                float64\n",
              "CCS_Procedure_Description          object\n",
              "Payment_Typology_1                 object\n",
              "Emergency_Department_Indicator     object\n",
              "dtype: object"
            ]
          },
          "metadata": {
            "tags": []
          },
          "execution_count": 41
        }
      ]
    },
    {
      "cell_type": "code",
      "metadata": {
        "id": "JESrXRn8mKsC"
      },
      "source": [
        "\r\n",
        "#from google.colab import files"
      ],
      "execution_count": 42,
      "outputs": []
    },
    {
      "cell_type": "code",
      "metadata": {
        "id": "Dh10dqPEm_Qx"
      },
      "source": [
        "#df.to_csv('nysdoh_cleaned.csv')"
      ],
      "execution_count": 43,
      "outputs": []
    },
    {
      "cell_type": "code",
      "metadata": {
        "colab": {
          "base_uri": "https://localhost:8080/",
          "height": 17
        },
        "id": "KmsIKLL0ngBu",
        "outputId": "33fda427-724f-4b6c-c9f6-0091a0dc8a7d"
      },
      "source": [
        "#files.download('nysdoh_cleaned.csv')"
      ],
      "execution_count": 44,
      "outputs": [
        {
          "output_type": "display_data",
          "data": {
            "application/javascript": [
              "\n",
              "    async function download(id, filename, size) {\n",
              "      if (!google.colab.kernel.accessAllowed) {\n",
              "        return;\n",
              "      }\n",
              "      const div = document.createElement('div');\n",
              "      const label = document.createElement('label');\n",
              "      label.textContent = `Downloading \"${filename}\": `;\n",
              "      div.appendChild(label);\n",
              "      const progress = document.createElement('progress');\n",
              "      progress.max = size;\n",
              "      div.appendChild(progress);\n",
              "      document.body.appendChild(div);\n",
              "\n",
              "      const buffers = [];\n",
              "      let downloaded = 0;\n",
              "\n",
              "      const channel = await google.colab.kernel.comms.open(id);\n",
              "      // Send a message to notify the kernel that we're ready.\n",
              "      channel.send({})\n",
              "\n",
              "      for await (const message of channel.messages) {\n",
              "        // Send a message to notify the kernel that we're ready.\n",
              "        channel.send({})\n",
              "        if (message.buffers) {\n",
              "          for (const buffer of message.buffers) {\n",
              "            buffers.push(buffer);\n",
              "            downloaded += buffer.byteLength;\n",
              "            progress.value = downloaded;\n",
              "          }\n",
              "        }\n",
              "      }\n",
              "      const blob = new Blob(buffers, {type: 'application/binary'});\n",
              "      const a = document.createElement('a');\n",
              "      a.href = window.URL.createObjectURL(blob);\n",
              "      a.download = filename;\n",
              "      div.appendChild(a);\n",
              "      a.click();\n",
              "      div.remove();\n",
              "    }\n",
              "  "
            ],
            "text/plain": [
              "<IPython.core.display.Javascript object>"
            ]
          },
          "metadata": {
            "tags": []
          }
        },
        {
          "output_type": "display_data",
          "data": {
            "application/javascript": [
              "download(\"download_4138a250-b227-4176-b7ed-2ac777557bf7\", \"nysdoh_cleaned.csv\", 5388974)"
            ],
            "text/plain": [
              "<IPython.core.display.Javascript object>"
            ]
          },
          "metadata": {
            "tags": []
          }
        }
      ]
    },
    {
      "cell_type": "code",
      "metadata": {
        "colab": {
          "base_uri": "https://localhost:8080/"
        },
        "id": "eRrua56Tpet6",
        "outputId": "3adce3c6-8474-48eb-c1b3-e2159bd47910"
      },
      "source": [
        "df['CCS_Diagnosis_Description'].describe()"
      ],
      "execution_count": 51,
      "outputs": [
        {
          "output_type": "execute_result",
          "data": {
            "text/plain": [
              "count        31612\n",
              "unique         251\n",
              "top       Liveborn\n",
              "freq          2817\n",
              "Name: CCS_Diagnosis_Description, dtype: object"
            ]
          },
          "metadata": {
            "tags": []
          },
          "execution_count": 51
        }
      ]
    },
    {
      "cell_type": "markdown",
      "metadata": {
        "id": "lgPvsxixpEHi"
      },
      "source": [
        "International Classification of Diseases, Clinical Modification (ICD-9-CM) is an adaption created by the U.S. National Center for Health Statistics (NCHS) and used in assigning diagnostic and procedure codes associated with inpatient, outpatient, and physician office utilization in the United States.There are 17 main categories:\r\n",
        "https://en.wikipedia.org/wiki/List_of_ICD-9_codes\r\n"
      ]
    }
  ]
}