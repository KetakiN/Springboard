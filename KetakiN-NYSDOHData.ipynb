{
 "cells": [
  {
   "cell_type": "code",
   "execution_count": 1,
   "metadata": {},
   "outputs": [],
   "source": [
    "import pandas as pd\n",
    "import os\n"
   ]
  },
  {
   "cell_type": "code",
   "execution_count": 2,
   "metadata": {},
   "outputs": [],
   "source": [
    "filepath='C:/Users/ketak/Desktop/Springboard/data/nysdohdatafile.csv'\n",
    "\n"
   ]
  },
  {
   "cell_type": "code",
   "execution_count": 4,
   "metadata": {},
   "outputs": [],
   "source": [
    "chunk_size=50000\n",
    "df1=pd.DataFrame()\n",
    "for chunk in pd.read_csv(filepath,chunksize=chunk_size,low_memory=False):\n",
    "    df2=chunk.sample(frac=0.10)\n",
    "    df=pd.concat([df1, df2])\n",
    "    df1=df\n",
    "    "
   ]
  },
  {
   "cell_type": "code",
   "execution_count": 6,
   "metadata": {},
   "outputs": [
    {
     "name": "stdout",
     "output_type": "stream",
     "text": [
      "(236755, 35)\n"
     ]
    }
   ],
   "source": [
    "print(df.shape)\n"
   ]
  },
  {
   "cell_type": "code",
   "execution_count": 9,
   "metadata": {},
   "outputs": [
    {
     "name": "stdout",
     "output_type": "stream",
     "text": [
      "  Hospital Service Area Hospital County  Operating Certificate Number  \\\n",
      "0            Western NY            Erie                     1401014.0   \n",
      "1            Western NY            Erie                     1401014.0   \n",
      "2            Western NY      Chautauqua                      602001.0   \n",
      "3            Western NY     Cattaraugus                      401001.0   \n",
      "4            Western NY      Chautauqua                      602001.0   \n",
      "\n",
      "   Permanent Facility Id                                      Facility Name  \\\n",
      "0                  207.0                     Buffalo General Medical Center   \n",
      "1                  208.0           Women And Children's Hospital Of Buffalo   \n",
      "2                  103.0                      Woman's Christian Association   \n",
      "3                   66.0                             Olean General Hospital   \n",
      "4                  102.0  Womans Christian Assoc Hospital - WCA Hosp at ...   \n",
      "\n",
      "     Age Group Zip Code - 3 digits Gender                    Race  \\\n",
      "0     30 to 49                 142      M  Black/African American   \n",
      "1     30 to 49                 142      F                   White   \n",
      "2     50 to 69                 147      M                   White   \n",
      "3  70 or Older                 147      F                   White   \n",
      "4      0 to 17                 148      F                   White   \n",
      "\n",
      "           Ethnicity  ... APR Medical Surgical Description  \\\n",
      "0  Not Span/Hispanic  ...                          Medical   \n",
      "1  Not Span/Hispanic  ...                         Surgical   \n",
      "2  Not Span/Hispanic  ...                          Medical   \n",
      "3  Not Span/Hispanic  ...                         Surgical   \n",
      "4  Not Span/Hispanic  ...                          Medical   \n",
      "\n",
      "       Payment Typology 1 Payment Typology 2      Payment Typology 3  \\\n",
      "0                Medicaid           Self-Pay                     NaN   \n",
      "1                Medicaid           Self-Pay                     NaN   \n",
      "2                Medicare           Medicare  Blue Cross/Blue Shield   \n",
      "3                Medicare                NaN                     NaN   \n",
      "4  Blue Cross/Blue Shield                NaN                     NaN   \n",
      "\n",
      "   Birth Weight Abortion Edit Indicator  Emergency Department Indicator  \\\n",
      "0             0                       N                               Y   \n",
      "1             0                       N                               N   \n",
      "2             0                       N                               Y   \n",
      "3             0                       N                               Y   \n",
      "4             0                       N                               N   \n",
      "\n",
      "  Total Charges  Total Costs Ratio of Total Costs to Total Charges  \n",
      "0      6,317.94     3,224.97                              0.510447  \n",
      "1     20,385.79    10,661.00                              0.522962  \n",
      "2     13,813.14     7,406.59                              0.536199  \n",
      "3     21,484.23    46,273.83                              2.153851  \n",
      "4      6,423.00     4,024.28                              0.626542  \n",
      "\n",
      "[5 rows x 35 columns]\n"
     ]
    }
   ],
   "source": [
    "df.reset_index(drop=True, inplace=True)\n",
    "print(df.head())"
   ]
  },
  {
   "cell_type": "code",
   "execution_count": 10,
   "metadata": {},
   "outputs": [
    {
     "name": "stdout",
     "output_type": "stream",
     "text": [
      "Index(['Hospital Service Area', 'Hospital County',\n",
      "       'Operating Certificate Number', 'Permanent Facility Id',\n",
      "       'Facility Name', 'Age Group', 'Zip Code - 3 digits', 'Gender', 'Race',\n",
      "       'Ethnicity', 'Length of Stay', 'Type of Admission',\n",
      "       'Patient Disposition', 'Discharge Year', 'CCS Diagnosis Code',\n",
      "       'CCS Diagnosis Description', 'CCS Procedure Code',\n",
      "       'CCS Procedure Description', 'APR DRG Code', 'APR DRG Description',\n",
      "       'APR MDC Code', 'APR MDC Description', 'APR Severity of Illness Code',\n",
      "       'APR Severity of Illness Description', 'APR Risk of Mortality',\n",
      "       'APR Medical Surgical Description', 'Payment Typology 1',\n",
      "       'Payment Typology 2', 'Payment Typology 3', 'Birth Weight',\n",
      "       'Abortion Edit Indicator', 'Emergency Department Indicator',\n",
      "       'Total Charges', 'Total Costs',\n",
      "       'Ratio of Total Costs to Total Charges'],\n",
      "      dtype='object')\n"
     ]
    }
   ],
   "source": [
    "print(df.columns)"
   ]
  },
  {
   "cell_type": "code",
   "execution_count": null,
   "metadata": {},
   "outputs": [],
   "source": []
  }
 ],
 "metadata": {
  "kernelspec": {
   "display_name": "Python 3",
   "language": "python",
   "name": "python3"
  },
  "language_info": {
   "codemirror_mode": {
    "name": "ipython",
    "version": 3
   },
   "file_extension": ".py",
   "mimetype": "text/x-python",
   "name": "python",
   "nbconvert_exporter": "python",
   "pygments_lexer": "ipython3",
   "version": "3.8.3"
  }
 },
 "nbformat": 4,
 "nbformat_minor": 4
}
